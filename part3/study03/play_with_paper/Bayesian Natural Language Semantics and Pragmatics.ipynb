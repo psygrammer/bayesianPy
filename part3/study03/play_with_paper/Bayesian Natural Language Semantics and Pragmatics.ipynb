{
 "cells": [
  {
   "cell_type": "markdown",
   "metadata": {},
   "source": [
    "#Bayesian Natural Language Semantics and Pragmatics"
   ]
  },
  {
   "cell_type": "markdown",
   "metadata": {},
   "source": [
    "<img src=\"https://images.springer.com/sgw/books/medium/9783319170633.jpg\" width=\"200\"><BR>"
   ]
  },
  {
   "cell_type": "markdown",
   "metadata": {
    "collapsed": true
   },
   "source": [
    "Zeevat, Henk (창순님이 이 책의 존재를 알려준 것이 오늘 발제 고통의 시작!)"
   ]
  },
  {
   "cell_type": "markdown",
   "metadata": {},
   "source": [
    "##1. Perspectives on Bayesian Natural language Semantics and Pragmatics(이하 BNLSP)"
   ]
  },
  {
   "cell_type": "markdown",
   "metadata": {},
   "source": [
    "### computational BNLSP"
   ]
  },
  {
   "cell_type": "markdown",
   "metadata": {
    "collapsed": true
   },
   "source": [
    "<img src=\"1.png\" width=\"700\"><BR>"
   ]
  },
  {
   "cell_type": "markdown",
   "metadata": {
    "collapsed": true
   },
   "source": [
    "베이지안 해석은 signal process라는 AI discipline 테크닉에서 중요한 부분이다. \n",
    "\n",
    "우리가 이 베이지안의 확률 방식을 이용하기 위해 사전분포와 우도가 필요하다. "
   ]
  },
  {
   "cell_type": "markdown",
   "metadata": {
    "collapsed": true
   },
   "source": [
    "예) Tweety flies"
   ]
  },
  {
   "cell_type": "markdown",
   "metadata": {
    "collapsed": true
   },
   "source": [
    "<img src=\"http://d236bkdxj385sg.cloudfront.net/wp-content/uploads/2014/09/tweet5.gif\" width=\"100\"><BR>"
   ]
  },
  {
   "cell_type": "markdown",
   "metadata": {
    "collapsed": true
   },
   "source": [
    "이 짧은 문장에서도 늘상 부딪히게 되는 `모호함`의 문제가 생긴다. 비행기는 아니겠지만 어떤 Tweety인가?! \n",
    "\n",
    "\n",
    "'나 그 사람 알아'와 같은 문장에서는 (텍스트의 어디까지를 참조해야 하는지 결정해야 하기때문에) 대명사의 지시범위가 모호해 질 수 있다. "
   ]
  },
  {
   "cell_type": "markdown",
   "metadata": {
    "collapsed": true
   },
   "source": [
    "###2. Human BNLSP"
   ]
  },
  {
   "cell_type": "markdown",
   "metadata": {
    "collapsed": true
   },
   "source": [
    "인지과학에서 인간의 발화를 해석할 때도 BNLSP를 사용할 수 있다. \n",
    "\n",
    "지각(Vision)영역에서 쓰이는 것과 비슷한 방법을 사용하는데 `mental camera`를 signal process로 사용. \n",
    "\n",
    "* 파이프라인 모델에 대한 이해가 필요하다."
   ]
  },
  {
   "cell_type": "markdown",
   "metadata": {
    "collapsed": true
   },
   "source": [
    "<img src=\"http://cdn.iopscience.com/images/1742-5468/2009/06/P06016/Full/1354202.jpg\" width=\"700\"><BR>"
   ]
  },
  {
   "cell_type": "markdown",
   "metadata": {
    "collapsed": true
   },
   "source": [
    "하나하나의 파이프 라인은 각각 다른 데이터 세트(corpus 또는 말뭉치)에 해당한다. 말뭉치 기반의 연구가 확률에 따라 Parsing을 하고 Tree를 그려서 구문을 분석."
   ]
  },
  {
   "cell_type": "markdown",
   "metadata": {
    "collapsed": true
   },
   "source": [
    "<img src=\"http://blog.saltlux.com/wp-content/uploads/2013/03/Semantic_technology_01_4.jpg\" width=\"700\"><BR>"
   ]
  },
  {
   "cell_type": "raw",
   "metadata": {
    "collapsed": true
   },
   "source": [
    "### 3. 해석의 논리로서의 BNLSP"
   ]
  },
  {
   "cell_type": "markdown",
   "metadata": {
    "collapsed": true
   },
   "source": [
    "### Gricean Maxims(대화의 격률들)"
   ]
  },
  {
   "cell_type": "markdown",
   "metadata": {},
   "source": [
    "격률은 지키라고 있는 것인가?! 암튼 살펴보기나 하자"
   ]
  },
  {
   "cell_type": "markdown",
   "metadata": {},
   "source": [
    "질의 격률: 진실을 말하라\n",
    "네가 거짓이라고 믿는 것을 말하지 말라\n",
    "적절한 증거가 없는 것을 말하지 말라\n",
    "(예: 다음 대화에서 ‘을’이 함축하는 내용과 직접 관계되는 것이 질의 격률인 것이다.)\n"
   ]
  },
  {
   "cell_type": "markdown",
   "metadata": {},
   "source": [
    "\n",
    "양의 격률: 정보를 제공하라\n",
    "(대화의 현재 목적에) 요구되는 만큼만 정보를 제공하라\n",
    "너의 말이 필요 이상으로 많은 정보를 담지 않게 하라"
   ]
  },
  {
   "cell_type": "markdown",
   "metadata": {},
   "source": [
    "\n",
    "관련성의 격률: 관련성 있게 말하라"
   ]
  },
  {
   "cell_type": "markdown",
   "metadata": {},
   "source": [
    "\n",
    "방법의 격률: 명료하게 말하라\n",
    "    \n",
    "    모호한 표현을 피하라\n",
    "    \n",
    "    중의성을 피하라\n",
    "    \n",
    "    간결하게 말하라 (\"불필요하고 장황한 대화를 피하라\").\n",
    "    \n",
    "    논리정연하게 말하라"
   ]
  },
  {
   "cell_type": "markdown",
   "metadata": {},
   "source": [
    "출처: https://ko.wikipedia.org/wiki/%EA%B7%B8%EB%9D%BC%EC%9D%B4%EC%8A%A4%EC%9D%98_%EB%8C%80%ED%99%94%EA%B2%A9%EB%A5%A0"
   ]
  },
  {
   "cell_type": "markdown",
   "metadata": {},
   "source": [
    "질문) 아래 그림에서 위반하고 있는 격률은?"
   ]
  },
  {
   "cell_type": "markdown",
   "metadata": {
    "collapsed": true
   },
   "source": [
    "<img src=\"http://arnoldzwicky.s3.amazonaws.com/ZitsTellMe.jpg\" width=\"700\"><BR>"
   ]
  },
  {
   "cell_type": "markdown",
   "metadata": {
    "collapsed": true
   },
   "source": [
    "이 복잡한 현실 속에서 과연 여기서 어떤 정보를 긁어 모을 것인가?\n",
    "\n",
    "Parsing, Consistency and Information"
   ]
  },
  {
   "cell_type": "markdown",
   "metadata": {
    "collapsed": true
   },
   "source": [
    "<img src=\"info.png\" width=\"700\"><BR>"
   ]
  },
  {
   "cell_type": "markdown",
   "metadata": {
    "collapsed": true
   },
   "source": [
    "http://www.slideshare.net/YunyaoLi/yunyao767"
   ]
  },
  {
   "cell_type": "markdown",
   "metadata": {},
   "source": [
    "정보를 뽑았으면 형식논리학의 도움을 받아서 아까처럼 예쁘게 트리를 그려보자."
   ]
  },
  {
   "cell_type": "markdown",
   "metadata": {},
   "source": [
    "<img src=\"https://upload.wikimedia.org/wikipedia/commons/6/6e/IMG_Tree.gif\" width=\"700\"><BR>"
   ]
  },
  {
   "cell_type": "markdown",
   "metadata": {},
   "source": [
    "음?! 이것은 무엇인가!!!쉬운 것에서 시작"
   ]
  },
  {
   "cell_type": "markdown",
   "metadata": {},
   "source": [
    "아리스토텔레스 논리학은 타당한 논증과 추론의 원리를 밝히기 위해 시작됨. \n",
    "\n",
    "\n",
    "(1) Modus ponens\n",
    "    p→q\n",
    "    p\n",
    "   ------\n",
    "    q\n",
    "(2) Modus tollens\n",
    "\tp→q\n",
    "\t~q\n",
    "\t-------\n",
    "\t~p\n",
    "(3) Hypothetical syllogism\n",
    "\tp→q\n",
    "\tq→r\n",
    "\t-----\n",
    "\tp→r\n",
    "(4) Disjunctive syllogism\n",
    "\tp∨q\n",
    "\t~p\n",
    "\t-----\n",
    "\tq\n"
   ]
  },
  {
   "cell_type": "markdown",
   "metadata": {},
   "source": [
    "'모든'과 '어떤' 등이 들어간 좀 더 정량적인 것도 할 수 있음"
   ]
  },
  {
   "cell_type": "markdown",
   "metadata": {},
   "source": [
    "<img src=\"Equivalent.png\" width=\"700\"><BR>"
   ]
  },
  {
   "cell_type": "markdown",
   "metadata": {},
   "source": [
    "출처: https://en.wikipedia.org/wiki/Quantifier_(logic)"
   ]
  },
  {
   "cell_type": "markdown",
   "metadata": {},
   "source": [
    "뭐 이렇게 통사정보나 의미정보 등등을 의미 화용이라는 주제와 베이지안적인 방법으로 분석하겠다는 도입부 요약을 마침니다. \n",
    "\n",
    "\n",
    "\n",
    "감사합니다. "
   ]
  }
 ],
 "metadata": {
  "kernelspec": {
   "display_name": "Python 2",
   "language": "python",
   "name": "python2"
  },
  "language_info": {
   "codemirror_mode": {
    "name": "ipython",
    "version": 2
   },
   "file_extension": ".py",
   "mimetype": "text/x-python",
   "name": "python",
   "nbconvert_exporter": "python",
   "pygments_lexer": "ipython2",
   "version": "2.7.6"
  }
 },
 "nbformat": 4,
 "nbformat_minor": 0
}
