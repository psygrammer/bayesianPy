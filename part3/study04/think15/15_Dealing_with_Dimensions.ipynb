{
 "cells": [
  {
   "cell_type": "markdown",
   "metadata": {},
   "source": [
    "# Chapter 15. 차원 다루기"
   ]
  },
  {
   "cell_type": "markdown",
   "metadata": {},
   "source": [
    "# Contents"
   ]
  },
  {
   "cell_type": "markdown",
   "metadata": {},
   "source": [
    "* 15.1 배꼽 박테리아\n",
    "* 15.2 사자와 호랑이와 곰\n",
    "* 15.3 계층 버전\n",
    "* 15.4 랜덤 샘플링\n",
    "* 15.5 최적화\n",
    "* 15.6 계층 구조 붕괴\n",
    "* 15.7 문제 하나 더\n",
    "* 15.8 아직 끝나지 않았다\n",
    "* 15.9 배꼽 박테리아 데이터\n",
    "* 15.10 예측 분포\n",
    "* 15.11 결합 사후 분포\n",
    "* 15.12 범위\n",
    "* 15.13 토의"
   ]
  },
  {
   "cell_type": "markdown",
   "metadata": {},
   "source": [
    "# 15.1 배꼽 박테리아"
   ]
  },
  {
   "cell_type": "markdown",
   "metadata": {},
   "source": [
    "# 15.2 사자와 호랑이와 곰"
   ]
  },
  {
   "cell_type": "code",
   "execution_count": null,
   "metadata": {
    "collapsed": true
   },
   "outputs": [],
   "source": [
    "beta = thinkbayes.Beta()\n",
    "beta.Update((3, 3))\n",
    "print beta.MaximumLikelihood()"
   ]
  },
  {
   "cell_type": "markdown",
   "metadata": {},
   "source": [
    "#### thinkbayes.py"
   ]
  },
  {
   "cell_type": "code",
   "execution_count": null,
   "metadata": {
    "collapsed": true
   },
   "outputs": [],
   "source": [
    "class Dirichlet(object):\n",
    "    def __init__(self, n):\n",
    "        self.n = n\n",
    "        self.params = numpy.ones(n, dtype=numpy.int)"
   ]
  },
  {
   "cell_type": "code",
   "execution_count": null,
   "metadata": {
    "collapsed": true
   },
   "outputs": [],
   "source": [
    "def MarginalBeta(self, i):\n",
    "    alpha0 = self.params.sum()\n",
    "    alpha = self.params[i]\n",
    "    return Beta(alpha, alpha0-alpha)"
   ]
  },
  {
   "cell_type": "code",
   "execution_count": null,
   "metadata": {
    "collapsed": true
   },
   "outputs": [],
   "source": [
    "dirichlet = thinkbayes.Dirichlet(3)\n",
    "    for i in range(3):\n",
    "        beta = dirichlet.MarginalBeta(i)\n",
    "        print beta.Mean()"
   ]
  },
  {
   "cell_type": "code",
   "execution_count": null,
   "metadata": {
    "collapsed": true
   },
   "outputs": [],
   "source": [
    "def Update(self, data):\n",
    "    m = len(data)\n",
    "self.params[:m] += data"
   ]
  },
  {
   "cell_type": "code",
   "execution_count": null,
   "metadata": {
    "collapsed": true
   },
   "outputs": [],
   "source": [
    "data = [3, 2, 1]\n",
    "dirichlet.Update(data)\n",
    "\n",
    "for i in range(3):\n",
    "    beta = dirichlet.MarginalBeta(i)\n",
    "    pmf = beta.MakePmf()\n",
    "    print i, pmf.Mean()"
   ]
  },
  {
   "cell_type": "markdown",
   "metadata": {},
   "source": [
    "<img src=\"figures/fig15.1.png\" width=600 />"
   ]
  },
  {
   "cell_type": "markdown",
   "metadata": {},
   "source": [
    "# 15.3 계층 버전"
   ]
  },
  {
   "cell_type": "code",
   "execution_count": null,
   "metadata": {
    "collapsed": true
   },
   "outputs": [],
   "source": [
    "class Species(thinkbayes.Suite):\n",
    "    \n",
    "    def __init__(self, ns):\n",
    "        hypos = [thinkbayes.Dirichlet(n) for n in ns]\n",
    "        thinkbayes.Suite.__init__(self, hypos)"
   ]
  },
  {
   "cell_type": "code",
   "execution_count": null,
   "metadata": {
    "collapsed": true
   },
   "outputs": [],
   "source": [
    "ns = range(3, 30)\n",
    "suite = Species(ns)"
   ]
  },
  {
   "cell_type": "code",
   "execution_count": null,
   "metadata": {
    "collapsed": true
   },
   "outputs": [],
   "source": [
    "#class Species\n",
    "\n",
    "    def Update(self, data):\n",
    "        thinkbayes.Suite.Update(self, data)\n",
    "        for hypo in self.Values():\n",
    "            hypo.Update(data)"
   ]
  },
  {
   "cell_type": "code",
   "execution_count": null,
   "metadata": {
    "collapsed": true
   },
   "outputs": [],
   "source": [
    "# class Species\n",
    "\n",
    "    def Likelihood(self, data, hypo):\n",
    "        dirichlet = hypo\n",
    "        like = 0\n",
    "        for i in range(1000):\n",
    "            like += dirichlet.Likelihood(data)\n",
    "\n",
    "        return like"
   ]
  },
  {
   "cell_type": "code",
   "execution_count": null,
   "metadata": {
    "collapsed": true
   },
   "outputs": [],
   "source": [
    "# class Dirichlet\n",
    "\n",
    "    def Likelihood(self, data):\n",
    "        m = len(data)\n",
    "        if self.n < m:\n",
    "            return 0\n",
    "        \n",
    "        x = data\n",
    "        p = self.Random()\n",
    "        q = p[:m]**x\n",
    "        return q.prod()"
   ]
  },
  {
   "cell_type": "markdown",
   "metadata": {},
   "source": [
    "<img src=\"figures/cap15.1.png\" />"
   ]
  },
  {
   "cell_type": "markdown",
   "metadata": {},
   "source": [
    "# 15.4 랜덤 샘플링"
   ]
  },
  {
   "cell_type": "code",
   "execution_count": null,
   "metadata": {
    "collapsed": true
   },
   "outputs": [],
   "source": [
    "# class Dirichlet\n",
    "\n",
    "    def Random(self):\n",
    "        p = numpy.random.gamma(self.params)\n",
    "        return p / p.sum()"
   ]
  },
  {
   "cell_type": "code",
   "execution_count": null,
   "metadata": {
    "collapsed": true
   },
   "outputs": [],
   "source": [
    "    def DistOfN(self):\n",
    "        pmf = thinkbayes.Pmf()\n",
    "        for hypo, prob in self.Items():\n",
    "            pmf.Set(hypo.n, prob)\n",
    "        return pmf"
   ]
  },
  {
   "cell_type": "markdown",
   "metadata": {},
   "source": [
    "<img src=\"figures/fig15.2.png\" width=600 />"
   ]
  },
  {
   "cell_type": "markdown",
   "metadata": {},
   "source": [
    "# 15.5 최적화"
   ]
  },
  {
   "cell_type": "markdown",
   "metadata": {},
   "source": [
    "# 15.6 계층 구조 붕괴"
   ]
  },
  {
   "cell_type": "code",
   "execution_count": null,
   "metadata": {
    "collapsed": true
   },
   "outputs": [],
   "source": [
    "class Species2(object):\n",
    "    \n",
    "    def __init__(self, ns):\n",
    "        self.ns = ns\n",
    "        self.probs = numpy.ones(len(ns), dtype=numpy.double)\n",
    "        self.params = numpy.ones(self.high, dtype=numpy.int)"
   ]
  },
  {
   "cell_type": "code",
   "execution_count": null,
   "metadata": {
    "collapsed": true
   },
   "outputs": [],
   "source": [
    "# class Species2\n",
    "\n",
    "    def Update(self, data):\n",
    "        like = numpy.zeros(len(self.ns), dtype=numpy.double)\n",
    "        for i in range(1000):\n",
    "            like += self.SampleLikelihood(data)\n",
    "            \n",
    "        self.probs *= like\n",
    "        self.probs /= self.probs.sum()\n",
    "        \n",
    "        m = len(data)\n",
    "        self.params[:m] += data"
   ]
  },
  {
   "cell_type": "markdown",
   "metadata": {},
   "source": [
    "#### multinomial PMF"
   ]
  },
  {
   "cell_type": "markdown",
   "metadata": {},
   "source": [
    "<img src=\"figures/cap15.2.png\" />"
   ]
  },
  {
   "cell_type": "markdown",
   "metadata": {},
   "source": [
    "#### log-likelihood"
   ]
  },
  {
   "cell_type": "markdown",
   "metadata": {},
   "source": [
    "<img src=\"figures/cap15.3.png\" />"
   ]
  },
  {
   "cell_type": "code",
   "execution_count": null,
   "metadata": {
    "collapsed": true
   },
   "outputs": [],
   "source": [
    "# class Species2\n",
    "    def SampleLikelihood(self, data):\n",
    "        gammas = numpy.random.gamma(self.params)\n",
    "        \n",
    "        m = len(data)\n",
    "        row = gammas[:m]\n",
    "        col = numpy.cumsum(gammas)\n",
    "        \n",
    "        log_likes = []\n",
    "        for n in self.ns:\n",
    "            ps = row / col[n-1]\n",
    "            terms = data * numpy.log(ps)\n",
    "            log_like = terms.sum()\n",
    "            log_likes.append(log_like)\n",
    "        \n",
    "        log_likes -= numpy.max(log_likes)\n",
    "        likes = numpy.exp(log_likes)\n",
    "        \n",
    "        coefs = [thinkbayes.BinomialCoef(n, m) for n in self.ns]\n",
    "        likes *= coefs\n",
    "\n",
    "        return likes"
   ]
  },
  {
   "cell_type": "markdown",
   "metadata": {},
   "source": [
    "# 15.7 문제 하나 더"
   ]
  },
  {
   "cell_type": "code",
   "execution_count": null,
   "metadata": {
    "collapsed": true
   },
   "outputs": [],
   "source": [
    "class Species4(Species):\n",
    "    \n",
    "    def Update(self, data):\n",
    "        m = len(data)\n",
    "    \n",
    "    for i in range(m):\n",
    "        one = numpy.zeros(i+1)\n",
    "        one[i] = data[i]\n",
    "        Species.Update(self, one)"
   ]
  },
  {
   "cell_type": "code",
   "execution_count": null,
   "metadata": {
    "collapsed": true
   },
   "outputs": [],
   "source": [
    "# class Species4\n",
    "\n",
    "    def Likelihood(self, data, hypo):\n",
    "        dirichlet = hypo\n",
    "        like = 0\n",
    "        for i in range(self.iterations):\n",
    "            like += dirichlet.Likelihood(data)\n",
    "\n",
    "        # correct for the number of unseen species the new one\n",
    "        # could have been\n",
    "        m = len(data)\n",
    "        num_unseen = dirichlet.n - m + 1\n",
    "        like *= num_unseen\n",
    "\n",
    "        return like"
   ]
  },
  {
   "cell_type": "markdown",
   "metadata": {},
   "source": [
    "# 15.8 아직 끝나지 않았다"
   ]
  },
  {
   "cell_type": "code",
   "execution_count": null,
   "metadata": {
    "collapsed": true
   },
   "outputs": [],
   "source": [
    "class Species5(Species2):\n",
    "    \n",
    "    def Update(self, data):\n",
    "        m = len(data)\n",
    "        for i in range(m):\n",
    "            self.UpdateOne(i+1, data[i])\n",
    "            self.params[i] += data[i]"
   ]
  },
  {
   "cell_type": "code",
   "execution_count": null,
   "metadata": {
    "collapsed": true
   },
   "outputs": [],
   "source": [
    "# class Species5\n",
    "\n",
    "    def UpdateOne(self, i, count):\n",
    "        likes = numpy.zeros(len(self.ns), dtype=numpy.double)\n",
    "        for i in range(self.iterations):\n",
    "            likes += self.SampleLikelihood(i, count)\n",
    "            \n",
    "        unseen_species = [n-i+1 for n in self.ns]\n",
    "        likes *= unseen_species\n",
    "        \n",
    "        self.probs *= likes\n",
    "        self.probs /= self.probs.sum()"
   ]
  },
  {
   "cell_type": "code",
   "execution_count": null,
   "metadata": {
    "collapsed": true
   },
   "outputs": [],
   "source": [
    "# class Species5\n",
    "\n",
    "    def SampleLikelihood(self, i, count):\n",
    "        gammas = numpy.random.gamma(self.params)\n",
    "\n",
    "        sums = numpy.cumsum(gammas)[self.ns[0]-1:]\n",
    "        \n",
    "        ps = gammas[i-1] / sums\n",
    "        log_likes = numpy.log(ps) * count\n",
    "        \n",
    "        log_likes -= numpy.max(log_likes)\n",
    "        likes = numpy.exp(log_likes)\n",
    "\n",
    "        return likes"
   ]
  },
  {
   "cell_type": "markdown",
   "metadata": {},
   "source": [
    "# 15.9 배꼽 박테리아 데이터"
   ]
  },
  {
   "cell_type": "code",
   "execution_count": null,
   "metadata": {
    "collapsed": true
   },
   "outputs": [],
   "source": [
    "92, 53, 47, 38, 15, 14, 12, 10, 8, 7, 7, 5, 5,\n",
    "4, 4, 4, 4, 4, 4, 4, 3, 3, 3, 3, 3, 3, 3, 2, 2, 2, 2,\n",
    "1, 1, 1, 1, 1, 1, 1, 1, 1, 1, 1, 1, 1, 1, 1, 1, 1, 1,\n",
    "1, 1, 1, 1, 1, 1, 1, 1, 1, 1, 1, 1"
   ]
  },
  {
   "cell_type": "code",
   "execution_count": null,
   "metadata": {
    "collapsed": true
   },
   "outputs": [],
   "source": [
    "class Subject(object):\n",
    "    \n",
    "    def __init__(self, code):\n",
    "        self.code = code\n",
    "        self.species = []"
   ]
  },
  {
   "cell_type": "code",
   "execution_count": null,
   "metadata": {
    "collapsed": true
   },
   "outputs": [],
   "source": [
    "# class Suite2\n",
    "\n",
    "    def DistN(self):\n",
    "        items = zip(self.ns, self.probs)\n",
    "        pmf = thinkbayes.MakePmfFromItems(items)\n",
    "        return pmf"
   ]
  },
  {
   "cell_type": "markdown",
   "metadata": {},
   "source": [
    "<img src=\"figures/fig15.3.png\" width=600 />"
   ]
  },
  {
   "cell_type": "code",
   "execution_count": null,
   "metadata": {
    "collapsed": true
   },
   "outputs": [],
   "source": [
    "# class Species2\n",
    "\n",
    "    def DistOfPrevalence(self, index):\n",
    "        metapmf = thinkbayes.Pmf()\n",
    "        \n",
    "        for n, prob in zip(self.ns, self.probs):\n",
    "            beta = self.MarginalBeta(n, index)\n",
    "            pmf = beta.MakePmf()\n",
    "            metapmf.Set(pmf, prob)\n",
    "        \n",
    "        mix = thinkbayes.MakeMixture(metapmf)\n",
    "        return metapmf, mix"
   ]
  },
  {
   "cell_type": "markdown",
   "metadata": {},
   "source": [
    "<img src=\"figures/fig15.4.png\" width=600 />"
   ]
  },
  {
   "cell_type": "markdown",
   "metadata": {},
   "source": [
    "# 15.10 예측 분포"
   ]
  },
  {
   "cell_type": "code",
   "execution_count": null,
   "metadata": {
    "collapsed": true
   },
   "outputs": [],
   "source": [
    "# class Subject\n",
    "\n",
    "    def RunSimulation(self, num_reads):\n",
    "        m, seen = self.GetSeenSpecies()\n",
    "        n, observations = self.GenerateObservations(num_reads)\n",
    "        \n",
    "        curve = []\n",
    "        for k, obs in enumerate(observations):\n",
    "            seen.add(obs)\n",
    "            num_new = len(seen) - m\n",
    "            curve.append((k+1, num_new))\n",
    "\n",
    "    return curve"
   ]
  },
  {
   "cell_type": "code",
   "execution_count": null,
   "metadata": {
    "collapsed": true
   },
   "outputs": [],
   "source": [
    "#class Subject\n",
    "\n",
    "    def GetSeenSpecies(self):\n",
    "        names = self.GetNames()\n",
    "        m = len(names)\n",
    "        seen = set(SpeciesGenerator(names, m))\n",
    "        return m, seen"
   ]
  },
  {
   "cell_type": "code",
   "execution_count": null,
   "metadata": {
    "collapsed": true
   },
   "outputs": [],
   "source": [
    "def SpeciesGenerator(names, num): i=0\n",
    "    for name in names:\n",
    "        yield '%s-%d' % (name, i)\n",
    "        i += 1\n",
    "        \n",
    "    while i < num:\n",
    "        yield 'unseen-%d' % i\n",
    "        i += 1"
   ]
  },
  {
   "cell_type": "code",
   "execution_count": null,
   "metadata": {
    "collapsed": true
   },
   "outputs": [],
   "source": [
    "# class Subject\n",
    "\n",
    "    def GenerateObservations(self, num_reads):\n",
    "        n, prevalences = self.suite.SamplePosterior()\n",
    "\n",
    "        names = self.GetNames()\n",
    "        name_iter = SpeciesGenerator(names, n)\n",
    "        \n",
    "        d = dict(zip(name_iter, prevalences))\n",
    "        cdf = thinkbayes.MakeCdfFromDict(d)\n",
    "        observations = cdf.Sample(num_reads)\n",
    "\n",
    "        return n, observations"
   ]
  },
  {
   "cell_type": "code",
   "execution_count": null,
   "metadata": {
    "collapsed": true
   },
   "outputs": [],
   "source": [
    "def SamplePosterior(self):\n",
    "        pmf = self.DistOfN()\n",
    "        n = pmf.Random()\n",
    "        prevalences = self.SamplePrevalences(n)\n",
    "        return n, prevalences"
   ]
  },
  {
   "cell_type": "code",
   "execution_count": null,
   "metadata": {
    "collapsed": true
   },
   "outputs": [],
   "source": [
    "# class Species2\n",
    "\n",
    "    def SamplePrevalences(self, n):\n",
    "        params = self.params[:n]\n",
    "        gammas = numpy.random.gamma(params)\n",
    "        gammas /= gammas.sum()\n",
    "        return gammas"
   ]
  },
  {
   "cell_type": "markdown",
   "metadata": {},
   "source": [
    "<img src=\"figures/fig15.5.png\" width=600 />"
   ]
  },
  {
   "cell_type": "markdown",
   "metadata": {},
   "source": [
    "# 15.11 결합 사후 분포"
   ]
  },
  {
   "cell_type": "code",
   "execution_count": null,
   "metadata": {
    "collapsed": true
   },
   "outputs": [],
   "source": [
    "def MakeJointPredictive(curves):\n",
    "    joint = thinkbayes.Joint()\n",
    "    for curve in curves:\n",
    "        for k, num_new in curve:\n",
    "            joint.Incr((k, num_new))\n",
    "    joint.Normalize()\n",
    "    return joint"
   ]
  },
  {
   "cell_type": "code",
   "execution_count": null,
   "metadata": {
    "collapsed": true
   },
   "outputs": [],
   "source": [
    "def MakeConditionals(curves, ks):\n",
    "    joint = MakeJointPredictive(curves)\n",
    "    \n",
    "    cdfs = []\n",
    "    for k in ks:\n",
    "        pmf = joint.Conditional(1, 0, k)\n",
    "        pmf.name = 'k=%d' % k\n",
    "        cdf = pmf.MakeCdf()\n",
    "        cdfs.append(cdf)\n",
    "\n",
    "        return cdfs"
   ]
  },
  {
   "cell_type": "markdown",
   "metadata": {},
   "source": [
    "<img src=\"figures/fig15.6.png\" width=600 />"
   ]
  },
  {
   "cell_type": "markdown",
   "metadata": {},
   "source": [
    "# 15.12 범위"
   ]
  },
  {
   "cell_type": "code",
   "execution_count": null,
   "metadata": {
    "collapsed": true
   },
   "outputs": [],
   "source": [
    "# class Subject\n",
    "\n",
    "    def RunSimulation(self, num_reads):\n",
    "        m, seen = self.GetSeenSpecies()\n",
    "        n, observations = self.GenerateObservations(num_reads)\n",
    "\n",
    "        curve = []\n",
    "        for k, obs in enumerate(observations):\n",
    "            seen.add(obs)\n",
    "            frac_seen = len(seen) / float(n)\n",
    "            \n",
    "            curve.append((k+1, frac_seen))\n",
    "\n",
    "    return curve"
   ]
  },
  {
   "cell_type": "code",
   "execution_count": null,
   "metadata": {
    "collapsed": true
   },
   "outputs": [],
   "source": [
    "def MakeFracCdfs(self, curves):\n",
    "        d = {}\n",
    "        for curve in curves:\n",
    "            for k, frac in curve:\n",
    "                d.setdefault(k, []).append(frac)\n",
    "                \n",
    "        cdfs = {}\n",
    "        for k, fracs in d.iteritems():\n",
    "            cdf = thinkbayes.MakeCdfFromList(fracs)\n",
    "            cdfs[k] = cdf\n",
    "\n",
    "        return cdfs"
   ]
  },
  {
   "cell_type": "markdown",
   "metadata": {},
   "source": [
    "<img src=\"figures/fig15.7.png\" width=600 />"
   ]
  },
  {
   "cell_type": "markdown",
   "metadata": {},
   "source": [
    "# 15.13 토의"
   ]
  },
  {
   "cell_type": "markdown",
   "metadata": {},
   "source": [
    "# 참고자료"
   ]
  },
  {
   "cell_type": "markdown",
   "metadata": {},
   "source": [
    "* [1] 파이썬을 활용한 베이지안 통계 - http://www.hanbit.co.kr/book/look.html?isbn=978-89-6848-114-7"
   ]
  }
 ],
 "metadata": {
  "kernelspec": {
   "display_name": "Python 2",
   "language": "python",
   "name": "python2"
  },
  "language_info": {
   "codemirror_mode": {
    "name": "ipython",
    "version": 2
   },
   "file_extension": ".py",
   "mimetype": "text/x-python",
   "name": "python",
   "nbconvert_exporter": "python",
   "pygments_lexer": "ipython2",
   "version": "2.7.6"
  }
 },
 "nbformat": 4,
 "nbformat_minor": 0
}
