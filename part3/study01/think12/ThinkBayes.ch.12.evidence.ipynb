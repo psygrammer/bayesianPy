{
 "cells": [
  {
   "cell_type": "markdown",
   "metadata": {},
   "source": [
    "# 12.1 SAT 점수 해석"
   ]
  },
  {
   "cell_type": "markdown",
   "metadata": {},
   "source": [
    "당신은 메사추세츠의 작은 공학대 입학처장이다.\n",
    "\n",
    "여러면에서 자격이 유사한 두명의 지원자 __엘리스__와 __밥__ 사이에서 고민중이다."
   ]
  },
  {
   "cell_type": "markdown",
   "metadata": {},
   "source": [
    "800점 만점에서 앨리스는 780점, 밥은 740점을 받았다"
   ]
  },
  {
   "cell_type": "markdown",
   "metadata": {},
   "source": [
    "앨리스가 밥보다 낫다는 것을 보여 주는 증거인지 아닌지, 그리고 그 증거의 강도가 어느 정도인지 알고 싶을 것이다."
   ]
  },
  {
   "cell_type": "markdown",
   "metadata": {},
   "source": [
    "다음과 같은 가정을 해 보자.\n",
    "\n",
    "모든 SAT문항의 난이도가 동일하다"
   ]
  },
  {
   "cell_type": "markdown",
   "metadata": {},
   "source": [
    "# 12.2 스케일"
   ]
  },
  {
   "cell_type": "markdown",
   "metadata": {},
   "source": [
    "SAT 점수 산정법을 이해하자.\n",
    "\n",
    "* 맞은 문제수에 기반한 원점수를 얻는다.\n",
    "* 원점수는 200~800 범위에 있다.\n",
    "* 2009년은 총 54개 문제가 출제되었다.\n",
    "* 틀리게 쓴 문제에 대해서는 1/4점을 벌점으로 준다.\n",
    "   "
   ]
  },
  {
   "cell_type": "markdown",
   "metadata": {},
   "source": [
    "# 12.3 사전 분포"
   ]
  },
  {
   "cell_type": "markdown",
   "metadata": {},
   "source": [
    "컬리지 보드는 모든 응시자에 대한 스케일된 점수의 분포도를 제공한다. 각 스케일된 저ㅁ수를 원점수로 변환한 후 문제 수로 나누면 결과는 p_correct의 추정값이 된다.\n",
    "\n",
    "원점수의 분포를 ㅅ하용해서 p_correct의 사전 분포를 만들 수 있다."
   ]
  },
  {
   "cell_type": "code",
   "execution_count": null,
   "metadata": {
    "collapsed": true
   },
   "outputs": [],
   "source": [
    "class Exam(object):\n",
    "    def __init__(self):\n",
    "        self.scale = ReadScale()\n",
    "        scores = ReadRanks()\n",
    "        score_pmf = thinkbayes.MakePmfFromDict(dict(scores))\n",
    "        self.raw = self.ReverseScale(score_pmf)\n",
    "        self.prior = DivideValues(raw, 54)"
   ]
  },
  {
   "cell_type": "markdown",
   "metadata": {},
   "source": [
    "self.scale은 원점수를 스케일된 점수로 변환하고 원래대로 되돌리는 Interpolator이다."
   ]
  },
  {
   "cell_type": "markdown",
   "metadata": {},
   "source": [
    "scores는 (점수, 빈도) 쌍 리스트이다."
   ]
  },
  {
   "cell_type": "markdown",
   "metadata": {},
   "source": [
    "score_pmf는 스케일된 점수의 Pmf다."
   ]
  },
  {
   "cell_type": "markdown",
   "metadata": {},
   "source": [
    "self.raw는 원점수의 Pmf다"
   ]
  },
  {
   "cell_type": "markdown",
   "metadata": {},
   "source": [
    "self.prior는 p_correct의 Pmf다."
   ]
  },
  {
   "cell_type": "code",
   "execution_count": 7,
   "metadata": {
    "collapsed": false
   },
   "outputs": [
    {
     "data": {
      "image/png": "[encoded data removed]",
      "text/plain": [
       "<wand.image.Image: b770f47 'PDF' (576x432)>"
      ]
     },
     "execution_count": 7,
     "metadata": {},
     "output_type": "execute_result"
    }
   ],
   "source": [
    "from wand.image import Image as WImage\n",
    "WImage(filename='./figures/sat_prior.pdf')"
   ]
  },
  {
   "cell_type": "markdown",
   "metadata": {},
   "source": [
    "이 분포는 __근사 가이시안__이지만 양 극값이 압축되어 있다. SAT는 평균에서 2시그마 간의 응시자의 차이를 나타내는데 가장 강력하게 사용되고 범위 밖의 응시자에 대해서는 힘이 약하다."
   ]
  },
  {
   "cell_type": "code",
   "execution_count": null,
   "metadata": {
    "collapsed": true
   },
   "outputs": [],
   "source": [
    "class Sat(thinkbayes.Suite):\n",
    "    def __init__(self, exam, score):\n",
    "        thinkbayes.Suite.__init__(self)\n",
    "        \n",
    "        self.exam = exam\n",
    "        self.score = score\n",
    "        \n",
    "        # start with the prior distribution\n",
    "        for p_correct, prob in exam.prior.Items():\n",
    "        self.Set(p_correct, prob)\n",
    "        \n",
    "        # update based on an exam score\n",
    "        self.Update(score)"
   ]
  },
  {
   "cell_type": "markdown",
   "metadata": {},
   "source": [
    "\\__init\\__은 Exam 객체와 스케일 된 점수값을 사용한다. 이 함수에서는 사전 분포의 복사본을 만들고 시험 점수 기반으로 이를 갱신"
   ]
  },
  {
   "cell_type": "markdown",
   "metadata": {},
   "source": [
    "Suite의 Update를 상속하고 Likelihood 함수를 제공한다."
   ]
  },
  {
   "cell_type": "code",
   "execution_count": null,
   "metadata": {
    "collapsed": true
   },
   "outputs": [],
   "source": [
    "def Likelihood(self, data, hypo):\n",
    "    p_correct = hypo\n",
    "    score = data\n",
    "    k = self.exam.Reverse(score)\n",
    "    n = self.exam.max_score\n",
    "    like = thinkbayes.EvalBinomialPmf(k, n, p_correct)\n",
    "    return like"
   ]
  },
  {
   "cell_type": "markdown",
   "metadata": {},
   "source": [
    "hypo는 p_commrect의 가설 값이며 data는 스테일 된 점수다."
   ]
  },
  {
   "cell_type": "markdown",
   "metadata": {},
   "source": [
    "n개 문제 중 k개를 맞췄을 때의 확률을 계산한 이항 분포를 우도로 사용"
   ]
  },
  {
   "cell_type": "markdown",
   "metadata": {},
   "source": [
    "# 12.4 사후 분포"
   ]
  },
  {
   "cell_type": "code",
   "execution_count": 8,
   "metadata": {
    "collapsed": false
   },
   "outputs": [
    {
     "data": {
      "image/png": "[encoded data removed]",
      "text/plain": [
       "<wand.image.Image: 76a8f77 'PDF' (576x432)>"
      ]
     },
     "execution_count": 8,
     "metadata": {},
     "output_type": "execute_result"
    }
   ],
   "source": [
    "from wand.image import Image as WImage\n",
    "WImage(filename='./figures/sat_posteriors_p_corr.pdf')"
   ]
  },
  {
   "cell_type": "markdown",
   "metadata": {},
   "source": [
    "사후 분포를 도시한다. 밥에게 더 높다고 볼 수 있겠자만 가능성은 낮다."
   ]
  },
  {
   "cell_type": "markdown",
   "metadata": {},
   "source": [
    "원래 문제로 넘아가서\n",
    ">\"앨리스가 밥보다 더 준비된 학생일 증거는 얼마나 강력한가?\"\n",
    "\n",
    "사후 분포를 사용해서 확인 할 수도 있겠다."
   ]
  },
  {
   "cell_type": "markdown",
   "metadata": {},
   "source": [
    "베이지안 가설 검정 측면에서 이 질문을 정형화 해 보자.\n",
    "\n",
    "* A: p_correct는 밥보다 앨리스가 더 높다.\n",
    "* B: p_correct는 앨리스보다 밥가 더 높다."
   ]
  },
  {
   "cell_type": "markdown",
   "metadata": {},
   "source": [
    "A와 B의 사후 분포를 계산하는 스윗을 다음과 같이 정의할 수 있다."
   ]
  },
  {
   "cell_type": "code",
   "execution_count": null,
   "metadata": {
    "collapsed": true
   },
   "outputs": [],
   "source": [
    "class TopLevel(thinkbayes.Suite):\n",
    "    def Update(self, data):\n",
    "        a_sat, b_sat = data\n",
    "\n",
    "        a_like = thinkbayes.PmfProbGreater(a_sat, b_sat)\n",
    "        b_like = thinkbayes.PmfProbLess(a_sat, b_sat)\n",
    "        c_like = thinkbayes.PmfProbEqual(a_sat, b_sat)\n",
    "\n",
    "        a_like += c_like / 2\n",
    "        b_like += c_like / 2\n",
    "\n",
    "        self.Mult('A', a_like)\n",
    "        self.Mult('B', b_like)\n",
    "\n",
    "        self.Normalize()"
   ]
  },
  {
   "cell_type": "markdown",
   "metadata": {},
   "source": [
    "Update를 Overrite했다."
   ]
  },
  {
   "cell_type": "markdown",
   "metadata": {},
   "source": [
    "* a_like: 앨리스의 p_correct가 높을 전체 확률\n",
    "* b_like: 밥의 p_correct가 높을 전체 확률\n",
    "* c_like: 둘의 p_correct가 같을 전체 확률"
   ]
  },
  {
   "cell_type": "markdown",
   "metadata": {},
   "source": [
    "지금 c_like를 이산형으로 처리했지만 c_like가 연속형에서는 0이 되므로 반올림이라 생각하여 양쪽에 더해 줌."
   ]
  },
  {
   "cell_type": "code",
   "execution_count": null,
   "metadata": {
    "collapsed": true
   },
   "outputs": [],
   "source": [
    "exam = Exam()\n",
    "a_sat = Sat(exam, 780)\n",
    "b_sat = Sat(exam, 740)\n",
    "\n",
    "top = TopLevel('AB')\n",
    "top.Update((a_sat, b_sat))\n",
    "top.Print()"
   ]
  },
  {
   "cell_type": "markdown",
   "metadata": {},
   "source": [
    "A의 우도: 0.79, B의 우도: 0.21. 우도비는 3.8이라서 앨리스가 밥보다 잘 봤다는 증거가 된다."
   ]
  },
  {
   "cell_type": "markdown",
   "metadata": {},
   "source": [
    "# 12.5 더 나은 모델"
   ]
  },
  {
   "cell_type": "markdown",
   "metadata": {},
   "source": [
    "단순 모델로 충분하다면 이번장은 넘어가라."
   ]
  },
  {
   "cell_type": "markdown",
   "metadata": {},
   "source": [
    "* 모든 시험 응시자가 동일한 efficacy/능률 정도를 가졌다고 가정한다. 이 때 능률은 SAT문제에 응답하는 척도이다.\n",
    "* 각 문제는 동일한 difficulty 레벨이라고 rkwjd\n",
    "* 마지막으로 시험 응시자가 문항을 정확히 맞출 확률은 다음 함수에 따라 efficacy와 difficulty가 관련된다고 가정"
   ]
  },
  {
   "cell_type": "code",
   "execution_count": null,
   "metadata": {
    "collapsed": true
   },
   "outputs": [],
   "source": [
    "def ProbCorrect(efficacy, difficulty, a=1):\n",
    "    return 1 / (1 + math.exp(-a * (efficacy - difficulty)))"
   ]
  },
  {
   "cell_type": "markdown",
   "metadata": {},
   "source": [
    "이 함수는 아이템 응답이론에서 사용되는 곡선의 단순화 버전이다."
   ]
  },
  {
   "cell_type": "markdown",
   "metadata": {},
   "source": [
    "efficacy와 difficulty는 동일한 스케일 상에 있고 질문에 바르게 응답할 확률은 두 값의 차이에 따라서만 달라진다. efficacy와 difficulty가 같을 때 응답할 확률은 50%이다."
   ]
  },
  {
   "cell_type": "markdown",
   "metadata": {},
   "source": [
    "* efficacy가 증가함에 따라서 이 활률은 100%로 올라간다.\n",
    "* difficulty가 증가함에 따라서 이 확률은 0%로 내려간다."
   ]
  },
  {
   "cell_type": "code",
   "execution_count": null,
   "metadata": {
    "collapsed": true
   },
   "outputs": [],
   "source": [
    "def PmfCorrect(efficacy, difficulties):\n",
    "    pmf0 = thinkbayes.Pmf([0])\n",
    "\n",
    "    ps = [ProbCorrect(efficacy, diff) for diff in difficulties]\n",
    "    pmfs = [BinaryPmf(p) for p in ps]\n",
    "    dist = sum(pmfs, pmf0)\n",
    "    return dist"
   ]
  },
  {
   "cell_type": "code",
   "execution_count": null,
   "metadata": {
    "collapsed": true
   },
   "outputs": [],
   "source": [
    "def BinaryPmf(p):\n",
    "    pmf = thinkbayes.Pmf()\n",
    "    pmf.Set(1, p)\n",
    "    pmf.Set(0, 1-p)\n",
    "    return pmf"
   ]
  },
  {
   "cell_type": "markdown",
   "metadata": {},
   "source": [
    "dist는 Pmf의 합이다."
   ]
  },
  {
   "cell_type": "code",
   "execution_count": null,
   "metadata": {
    "collapsed": true
   },
   "outputs": [],
   "source": [
    "class Exam:\n",
    "    def MakeRawScoreDist(self, efficacies):\n",
    "        pmfs = thinkbayes.Pmf()\n",
    "        for efficacy, prob in efficacies.Items():\n",
    "            scores = PmfCorrect(efficacy, self.difficulties)\n",
    "            pmfs.Set(scores, prob)\n",
    "\n",
    "        mix = thinkbayes.MakeMixture(pmfs)\n",
    "        return mix"
   ]
  },
  {
   "cell_type": "markdown",
   "metadata": {},
   "source": [
    "MakeRawScoreDist는 응시자들의 efficacy의 분포를 나타내는 Pmf인 efficacies를 받는다."
   ]
  },
  {
   "cell_type": "markdown",
   "metadata": {},
   "source": [
    "# 12.6 보정"
   ]
  },
  {
   "cell_type": "markdown",
   "metadata": {},
   "source": [
    "난이도의 분포가 주어진다면 MakeRawScoreDist를 사용해서 원점수의 분포를 구할 수 있다. 하지만 우리의 문제는 원 점수의 분포를 받아서 난이도의 분포를 추론하는 것이다."
   ]
  },
  {
   "cell_type": "markdown",
   "metadata": {},
   "source": [
    "난이도가 center와 width에 대한 균등 분포를 따른다고 가정하자. MakeDiffculties는 다음 변수를 사용하여 난이도의 리스트를 만든다."
   ]
  },
  {
   "cell_type": "code",
   "execution_count": null,
   "metadata": {
    "collapsed": true
   },
   "outputs": [],
   "source": [
    "def MakeDifficulties(center, width, n):\n",
    "    low, high = center-width, center+width\n",
    "    return numpy.linspace(low, high, n)"
   ]
  },
  {
   "cell_type": "markdown",
   "metadata": {},
   "source": [
    "center=-0.05, width=1.8 일 때, 원점수의 분포가 아래와 같다."
   ]
  },
  {
   "cell_type": "code",
   "execution_count": 12,
   "metadata": {
    "collapsed": false
   },
   "outputs": [
    {
     "data": {
      "image/png": "[encoded data removed]",
      "text/plain": [
       "<wand.image.Image: 088aa89 'PDF' (576x432)>"
      ]
     },
     "execution_count": 12,
     "metadata": {},
     "output_type": "execute_result"
    }
   ],
   "source": [
    "from wand.image import *\n",
    "Image(filename='./figures/sat_calibrate.pdf')"
   ]
  },
  {
   "cell_type": "markdown",
   "metadata": {},
   "source": [
    "|efficacy|-1.85|-0.05|1.75|\n",
    "|-|-|-|-|\n",
    "|3.00 |0.99 |0.95 |0.78|\n",
    "|1.50 |0.97 |0.82 |0.44|\n",
    "|0.00 |0.86 |0.51 |0.15|\n",
    "|-1.50 |0.59 |0.19 |0.04|\n",
    "|-3.00 |0.24 |0.05 |0.01|"
   ]
  },
  {
   "cell_type": "markdown",
   "metadata": {},
   "source": [
    "# 12.7 효과의 사후 분포"
   ]
  },
  {
   "cell_type": "markdown",
   "metadata": {},
   "source": [
    "새로운 Sat 클래스이다."
   ]
  },
  {
   "cell_type": "code",
   "execution_count": null,
   "metadata": {
    "collapsed": true
   },
   "outputs": [],
   "source": [
    "class Sat2(thinkbayes.Suite):\n",
    "    def __init__(self, exam, score):\n",
    "        self.exam = exam\n",
    "        self.score = score\n",
    "\n",
    "        # start with the Gaussian prior\n",
    "        efficacies = thinkbayes.MakeGaussianPmf(0, 1.5, 3)\n",
    "        thinkbayes.Suite.__init__(self, efficacies)\n",
    "        \n",
    "        # update based on an exam score\n",
    "        self.Update(score)"
   ]
  },
  {
   "cell_type": "code",
   "execution_count": null,
   "metadata": {
    "collapsed": true
   },
   "outputs": [],
   "source": [
    "def Likelihood(self, data, hypo):\n",
    "    efficacy = hypo\n",
    "    score = data\n",
    "    raw = self.exam.Reverse(score)\n",
    "\n",
    "    pmf = self.exam.PmfCorrect(efficacy)\n",
    "    like = pmf.Prob(raw)\n",
    "    return like"
   ]
  },
  {
   "cell_type": "markdown",
   "metadata": {},
   "source": [
    "우도비는 3.4로 3.8보다 약간 작다. 따라서 이 모델은 데이터가 A에 대한 증거가 된다는 것을 가리키지만 앞에 분석에서 보다 약간 약하기는 하다."
   ]
  },
  {
   "cell_type": "code",
   "execution_count": 13,
   "metadata": {
    "collapsed": false
   },
   "outputs": [
    {
     "data": {
      "image/png": "[encoded data removed]",
      "text/plain": [
       "<wand.image.Image: 59e4632 'PDF' (432x432)>"
      ]
     },
     "execution_count": 13,
     "metadata": {},
     "output_type": "execute_result"
    }
   ],
   "source": [
    "from wand.image import *\n",
    "Image(filename='./figures/sat_posteriors_eff.pdf')"
   ]
  },
  {
   "cell_type": "markdown",
   "metadata": {},
   "source": [
    "# 12.8 예측 분포"
   ]
  },
  {
   "cell_type": "markdown",
   "metadata": {},
   "source": [
    "지금까지 해 온 분석을 통해 앨리스와 밥의 효과를 추정했지만 효과를 정확히 관측하기 어려운 관계로 이결과를 증명하기는 어렵다."
   ]
  },
  {
   "cell_type": "markdown",
   "metadata": {},
   "source": [
    ">\"만약 앨리스와 밥이 SAT 수학 시험을 다시 친다면 여전히 앨리스의 성적이 더 높을 확률은 얼마인가?\"\n",
    "\n",
    "다음의 두단계로 구해 보자.\n",
    "* 효율의 사후 분포를 사용해서 각 시험 응시자의 원점수에 대한 예측 확률을 생성할 것이다.\n",
    "* 두 예측 확률을 비교해서 또 앨리스의 성적이 더 높을 확률을 계산할 ㄱ덧이다.\n",
    "\n"
   ]
  },
  {
   "cell_type": "code",
   "execution_count": null,
   "metadata": {
    "collapsed": true
   },
   "outputs": [],
   "source": [
    "exam = Exam()\n",
    "a_sat = Sat(exam, 780)\n",
    "b_sat = Sat(exam, 740)\n",
    "\n",
    "a_pred = exam.MakeRawScoreDist(a_sat)\n",
    "b_pred = exam.MakeRawScoreDist(b_sat)"
   ]
  },
  {
   "cell_type": "code",
   "execution_count": null,
   "metadata": {
    "collapsed": true
   },
   "outputs": [],
   "source": [
    "a_like = thinkbayes.PmfProbGreater(a_pred, b_pred)\n",
    "b_like = thinkbayes.PmfProbLess(a_pred, b_pred)\n",
    "c_like = thinkbayes.PmfProbEqual(a_pred, b_pred)"
   ]
  },
  {
   "cell_type": "markdown",
   "metadata": {},
   "source": [
    "앨리스가 두번째 시험엣허 더 성적이 좋을 확률은 63%, 밥이 더 시험을 잘 보거나 동일할 확률은 37%이다."
   ]
  },
  {
   "cell_type": "markdown",
   "metadata": {},
   "source": [
    "앨리스의 효율이 더 높을 것에 대한 사후 승산비는 3:1이나 다음 시험에서 앨리스가 더 성적이 좋은 것에 대한 비는 2:1 밖에는 안된다."
   ]
  },
  {
   "cell_type": "markdown",
   "metadata": {},
   "source": [
    "# 12.9 토의"
   ]
  },
  {
   "cell_type": "markdown",
   "metadata": {},
   "source": [
    "이 장의 시작부에 다음의 질문을 했다.\n",
    ">\"앨리스가 밥보다 더 준ㅌ비된 학생이라는 증거는 얼마나 강력한가?\"\n",
    "\n",
    "가설에 대한 우도를 계산하는 대신, 추정 문제를 풀어야 한다. 각 시험 응시자에 대해 p_correct나 efficacy에 대한 사후 분포를 찾아내야 한다.\n",
    "\n",
    "이런 값처럼 우리가 그 값이 얼마인지 알 필요는 없지만, 추정해야 하는 값을 가리켜 __장애모수__라 한다."
   ]
  },
  {
   "cell_type": "markdown",
   "metadata": {},
   "source": [
    "이 모수 공간을 그래프로 나타내서 지금까지 한 분석을 시각화할 수 있다. thinkbayes.MakeJoint는 두 Pmf를 취해서 결합 확률을 계산하고 능한 값의 쌍과 이 쌍이 나타날 확률의 결함 Pmf를 반환한다."
   ]
  },
  {
   "cell_type": "code",
   "execution_count": null,
   "metadata": {
    "collapsed": true
   },
   "outputs": [],
   "source": [
    "def MakeJoint(pmf1, pmf2):\n",
    "    joint = Joint()\n",
    "    for v1, p1 in pmf1.Items():\n",
    "        for v2, p2 in pmf2.Items():\n",
    "            joint.Set((v1, v2), p1 * p2)\n",
    "    return joint"
   ]
  },
  {
   "cell_type": "code",
   "execution_count": 14,
   "metadata": {
    "collapsed": false
   },
   "outputs": [
    {
     "data": {
      "image/png": "[encoded data removed]",
      "text/plain": [
       "<wand.image.Image: 7eeec80 'PDF' (432x432)>"
      ]
     },
     "execution_count": 14,
     "metadata": {},
     "output_type": "execute_result"
    }
   ],
   "source": [
    "from wand.image import *\n",
    "Image(filename='./figures/sat_joint.pdf')"
   ]
  },
  {
   "cell_type": "markdown",
   "metadata": {},
   "source": [
    "앨리스와 밥의 p_correct의 결합 사후 확률 분포를 나타낸다. 대각선은 p_correct가 앨리스와 밥에 대해 동일한 부분을 가리킨다. 이선의 오른쪽은 앨리스가 더 준비된 경우고 왼쪽은 밥이 더 준비된 경우다."
   ]
  },
  {
   "cell_type": "markdown",
   "metadata": {},
   "source": [
    "# Thank u so much! Q & A"
   ]
  }
 ],
 "metadata": {
  "kernelspec": {
   "display_name": "Python 2",
   "language": "python",
   "name": "python2"
  },
  "language_info": {
   "codemirror_mode": {
    "name": "ipython",
    "version": 2
   },
   "file_extension": ".py",
   "mimetype": "text/x-python",
   "name": "python",
   "nbconvert_exporter": "python",
   "pygments_lexer": "ipython2",
   "version": "2.7.6"
  }
 },
 "nbformat": 4,
 "nbformat_minor": 0
}
