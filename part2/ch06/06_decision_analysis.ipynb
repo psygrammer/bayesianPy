{
 "cells": [
  {
   "cell_type": "markdown",
   "metadata": {},
   "source": [
    "# CHAPTER 6. 의사 결정 분석"
   ]
  },
  {
   "cell_type": "markdown",
   "metadata": {},
   "source": [
    "* 베이지안 통계 스터디 - R트랙 : 파트2\n",
    "* 김무성"
   ]
  },
  {
   "cell_type": "markdown",
   "metadata": {},
   "source": [
    "* 원코드 - http://thinkbayes.com/price.py\n",
    "* 데이터 1 - http://thinkbayes.com/showcases.2011.csv\n",
    "* 데이터 2 - http://thinkbayes.com/showcases.2012.csv"
   ]
  },
  {
   "cell_type": "markdown",
   "metadata": {},
   "source": [
    "# 차례"
   ]
  },
  {
   "cell_type": "markdown",
   "metadata": {},
   "source": [
    "* 6.1 '그 가격이 적당해요' 문제\n",
    "* 6.2 사전 분포\n",
    "* 6.3 확률 밀도 함수\n",
    "* 6.4 PDF 나타내기\n",
    "* 6.5 참가자 모델링\n",
    "* 6.6 우도\n",
    "* 6.7 갱신\n",
    "* 6.8 최적 입찰\n",
    "* 6.9 토의"
   ]
  },
  {
   "cell_type": "markdown",
   "metadata": {},
   "source": [
    "# 6.1 '그 가격이 적당해요' 문제"
   ]
  },
  {
   "cell_type": "markdown",
   "metadata": {},
   "source": [
    "* 'The Price is Right'\n",
    "    - 미국 CBS의 유명한 게임 쇼 프로그램\n",
    "    - http://www.priceisright.com/\n",
    "* 팬이 쇼의 데이터를 모아둔 사이트 -  http://tpirsummaries.8m.com/"
   ]
  },
  {
   "cell_type": "markdown",
   "metadata": {},
   "source": [
    "## 상황"
   ]
  },
  {
   "cell_type": "markdown",
   "metadata": {},
   "source": [
    "* 2007년 11월 1일, 레티아와 나다니엘이 게임쇼에 나감\n",
    "* 두 사람은 진열대 위에 놓인 물건들의 가격을 맞추는 게임에 참여\n",
    "* 진열대 위 물건들의 실제 가격보다 높지 않은, 가장 가까운 가격을 불러야 함\n",
    "* 나다니엘 VS 레티아\n",
    "    - 나다니엘 \n",
    "        - 식기 세척기, 와인장, 노트북 컴퓨터, 자동차\n",
    "        - 예상가 : \\$26,000\n",
    "        - 실제 : \\$25,347\n",
    "    - 레티아 \n",
    "        - 핀볼 게임 기계, 비디오게임, 미니 당구대, 바하마 여객선\n",
    "        - 예상가 : \\$21,500\n",
    "        - 실제 : \\$21,578\n",
    "    - 레티아 승."
   ]
  },
  {
   "cell_type": "code",
   "execution_count": 8,
   "metadata": {
    "collapsed": false
   },
   "outputs": [],
   "source": [
    "import price as pr"
   ]
  },
  {
   "cell_type": "code",
   "execution_count": 12,
   "metadata": {
    "collapsed": false
   },
   "outputs": [],
   "source": [
    "data = pr.ReadData()"
   ]
  },
  {
   "cell_type": "code",
   "execution_count": 16,
   "metadata": {
    "collapsed": false
   },
   "outputs": [
    {
     "data": {
      "text/plain": [
       "[(50969, 45429, 42000, 34000, 8969, 11429),\n",
       " (21901, 34061, 14000, 59900, 7901, -25839),\n",
       " (32815, 53186, 32000, 45000, 815, 8186),\n",
       " (44432, 31428, 27000, 38000, 17432, -6572),\n",
       " (24273, 22320, 18750, 23000, 5523, -680)]"
      ]
     },
     "execution_count": 16,
     "metadata": {},
     "output_type": "execute_result"
    }
   ],
   "source": [
    "data[:5]"
   ]
  },
  {
   "cell_type": "code",
   "execution_count": 17,
   "metadata": {
    "collapsed": false
   },
   "outputs": [
    {
     "data": {
      "text/plain": [
       "191"
      ]
     },
     "execution_count": 17,
     "metadata": {},
     "output_type": "execute_result"
    }
   ],
   "source": [
    "len(data)"
   ]
  },
  {
   "cell_type": "markdown",
   "metadata": {},
   "source": [
    "## 질문(베이지안 사고방식)"
   ]
  },
  {
   "cell_type": "markdown",
   "metadata": {},
   "source": [
    "1. 결과를 보기 전에, 진열대의 가격에 대해 참가자들은 어떤 사전 믿음이 있었을까?\n",
    "2. 결과를 본 후, 참가자들의 믿음은 어떻게 바뀌었을까?\n",
    "3. 사후 분포 기반으로 참가자들은 예상가를 얼마나 적어야 할까? \n",
    "    - 이것이 <font color='red'>의사 결정 분석</font> \n",
    "    - <font color='red'>사후 분포</font>가 주어지면, 우리는 참가자들의 <font color='red'>기댓값을 최대화</font>하는 금액을 골라낼 수 있다. "
   ]
  },
  {
   "cell_type": "markdown",
   "metadata": {},
   "source": [
    "# 6.2 사전 분포"
   ]
  },
  {
   "cell_type": "markdown",
   "metadata": {},
   "source": [
    "<img src=\"figures/fig6.1.png\" width=600 />"
   ]
  },
  {
   "cell_type": "markdown",
   "metadata": {},
   "source": [
    "# 6.3 확률 밀도 함수"
   ]
  },
  {
   "cell_type": "markdown",
   "metadata": {},
   "source": [
    "<img src=\"figures/gpdf.png\" width=600 />"
   ]
  },
  {
   "cell_type": "markdown",
   "metadata": {},
   "source": [
    "# 6.4 PDF 나타내기"
   ]
  },
  {
   "cell_type": "code",
   "execution_count": null,
   "metadata": {
    "collapsed": true
   },
   "outputs": [],
   "source": [
    "class Pdf(object):\n",
    "    \"\"\"Represents a probability density function (PDF).\"\"\"\n",
    "\n",
    "    def Density(self, x):\n",
    "        \"\"\"Evaluates this Pdf at x.\n",
    "\n",
    "        Returns: float probability density\n",
    "        \"\"\"\n",
    "        raise UnimplementedMethodException()\n",
    "\n",
    "    def MakePmf(self, xs, name=''):\n",
    "        \"\"\"Makes a discrete version of this Pdf, evaluated at xs.\n",
    "\n",
    "        xs: equally-spaced sequence of values\n",
    "\n",
    "        Returns: new Pmf\n",
    "        \"\"\"\n",
    "        pmf = Pmf(name=name)\n",
    "        for x in xs:\n",
    "            pmf.Set(x, self.Density(x))\n",
    "        pmf.Normalize()\n",
    "        return pmf"
   ]
  },
  {
   "cell_type": "code",
   "execution_count": null,
   "metadata": {
    "collapsed": true
   },
   "outputs": [],
   "source": [
    "class GaussianPdf(Pdf):\n",
    "    \"\"\"Represents the PDF of a Gaussian distribution.\"\"\"\n",
    "\n",
    "    def __init__(self, mu, sigma):\n",
    "        \"\"\"Constructs a Gaussian Pdf with given mu and sigma.\n",
    "\n",
    "        mu: mean\n",
    "        sigma: standard deviation\n",
    "        \"\"\"\n",
    "        self.mu = mu\n",
    "        self.sigma = sigma\n",
    "\n",
    "    def Density(self, x):\n",
    "        \"\"\"Evaluates this Pdf at x.\n",
    "\n",
    "        Returns: float probability density\n",
    "        \"\"\"\n",
    "        return EvalGaussianPdf(x, self.mu, self.sigma)"
   ]
  },
  {
   "cell_type": "code",
   "execution_count": null,
   "metadata": {
    "collapsed": true
   },
   "outputs": [],
   "source": [
    "class EstimatedPdf(Pdf):\n",
    "    \"\"\"Represents a PDF estimated by KDE.\"\"\"\n",
    "\n",
    "    def __init__(self, sample):\n",
    "        \"\"\"Estimates the density function based on a sample.\n",
    "\n",
    "        sample: sequence of data\n",
    "        \"\"\"\n",
    "        self.kde = scipy.stats.gaussian_kde(sample)\n",
    "\n",
    "    def Density(self, x):\n",
    "        \"\"\"Evaluates this Pdf at x.\n",
    "\n",
    "        Returns: float probability density\n",
    "        \"\"\"\n",
    "        return self.kde.evaluate(x)"
   ]
  },
  {
   "cell_type": "code",
   "execution_count": null,
   "metadata": {
    "collapsed": true
   },
   "outputs": [],
   "source": [
    "prices = ReadData()\n",
    "pdf = thinkbayes.EstimatedPdf(prices)\n",
    "low, high = 0, 75000\n",
    "n = 101\n",
    "xs = numpy.linspace(low, high, n)\n",
    "pmf = pdf.MakePmf(xs)"
   ]
  },
  {
   "cell_type": "markdown",
   "metadata": {},
   "source": [
    "# 6.5 참가자 모델링"
   ]
  },
  {
   "cell_type": "code",
   "execution_count": null,
   "metadata": {
    "collapsed": true
   },
   "outputs": [],
   "source": [
    "1. 어떤 데이터를 고려해야 하고 어떤 데이터를 수치화해야 할까?\n",
    "2. 우도 함수를 계산할 수 있을까? 즉 각 price에 대한 가설 값을 정하면서 데이터의 상태 우도를 계산할 수 있을까?"
   ]
  },
  {
   "cell_type": "code",
   "execution_count": null,
   "metadata": {
    "collapsed": true
   },
   "outputs": [],
   "source": [
    "error = price - guess"
   ]
  },
  {
   "cell_type": "code",
   "execution_count": null,
   "metadata": {
    "collapsed": true
   },
   "outputs": [],
   "source": [
    "diff "
   ]
  },
  {
   "cell_type": "markdown",
   "metadata": {},
   "source": [
    "<img src=\"figures/fig6.2.png\" width=600 />"
   ]
  },
  {
   "cell_type": "markdown",
   "metadata": {},
   "source": [
    "# 6.6 우도"
   ]
  },
  {
   "cell_type": "markdown",
   "metadata": {},
   "source": [
    "# 6.7 갱신"
   ]
  },
  {
   "cell_type": "markdown",
   "metadata": {},
   "source": [
    "<img src=\"figures/fig6.3.png\" width=600 />"
   ]
  },
  {
   "cell_type": "markdown",
   "metadata": {},
   "source": [
    "# 6.8 최적 입찰"
   ]
  },
  {
   "cell_type": "markdown",
   "metadata": {},
   "source": [
    "<img src=\"figures/fig6.4.png\" width=600 />"
   ]
  },
  {
   "cell_type": "markdown",
   "metadata": {},
   "source": [
    "# 6.9 토의"
   ]
  },
  {
   "cell_type": "markdown",
   "metadata": {},
   "source": [
    "# 참고자료"
   ]
  },
  {
   "cell_type": "markdown",
   "metadata": {},
   "source": [
    "* [1] 파이썬을 활용한 베이지안 통계 - http://www.hanbit.co.kr/book/look.html?isbn=978-89-6848-114-7"
   ]
  }
 ],
 "metadata": {
  "kernelspec": {
   "display_name": "Python 2",
   "language": "python",
   "name": "python2"
  },
  "language_info": {
   "codemirror_mode": {
    "name": "ipython",
    "version": 2
   },
   "file_extension": ".py",
   "mimetype": "text/x-python",
   "name": "python",
   "nbconvert_exporter": "python",
   "pygments_lexer": "ipython2",
   "version": "2.7.6"
  }
 },
 "nbformat": 4,
 "nbformat_minor": 0
}
