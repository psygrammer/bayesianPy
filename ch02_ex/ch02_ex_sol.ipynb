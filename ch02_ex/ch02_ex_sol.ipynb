{
 "metadata": {
  "name": "",
  "signature": "sha256:cf78f5295b3f83da377752afcc4482b1ea083348bd9afa909522e524756e46b2"
 },
 "nbformat": 3,
 "nbformat_minor": 0,
 "worksheets": [
  {
   "cells": [
    {
     "cell_type": "markdown",
     "metadata": {},
     "source": [
      "# \ubca0\uc774\uc9c0\uc548Py - 2\ud68c\ucc28 \uc5f0\uc2b5\ubb38\uc81c\n",
      "\n",
      "* \uc791\uc131\uc790 : \uae40\ubb34\uc131\n",
      "* \ucc38\uc870[1,2,3,4]"
     ]
    },
    {
     "cell_type": "heading",
     "level": 1,
     "metadata": {},
     "source": [
      "Misfiling Assistants "
     ]
    },
    {
     "cell_type": "markdown",
     "metadata": {},
     "source": [
      "In this problem, there are three assistants working at a company: Moe, Larry, and Curly. Their primary job duty is to file paperwork in the filing cabinet when\n",
      "papers become available. The three assistants have different work schedules:"
     ]
    },
    {
     "cell_type": "markdown",
     "metadata": {},
     "source": [
      "| Moe | Larry | Curly\n",
      "--|--|--|--\n",
      "Workload | 60% | 30% | 10%"
     ]
    },
    {
     "cell_type": "markdown",
     "metadata": {},
     "source": [
      "That is, Moe works 60% of the time, Larry works 30% of the time, and Curly does the remaining 10%, and they file documents at approximately the same speed. Suppose a person were to select one of the documents from the cabinet at random. Let M be the event\n"
     ]
    },
    {
     "cell_type": "markdown",
     "metadata": {},
     "source": [
      "<center>M = { More filed the document }</center>"
     ]
    },
    {
     "cell_type": "markdown",
     "metadata": {},
     "source": [
      "and let L and C be the events that Larry and Curly, respectively, filed the document. What are these events\u2019 respective probabilities? In the absence of additional information, reasonable prior probabilities would just be\n"
     ]
    },
    {
     "cell_type": "markdown",
     "metadata": {},
     "source": [
      "| Moe | Larry | Curly\n",
      "--|--|--|--\n",
      "Prior | P(M)=0.60 | P(L)=0.30 | P(C)=0.10"
     ]
    },
    {
     "cell_type": "markdown",
     "metadata": {},
     "source": [
      "Now, the boss comes in one day, opens up the file cabinet, and selects a file at random. The boss discovers that the file has been misplaced. The boss is so angry at the mistake that (s)he threatens to fire the one who erred. \n"
     ]
    },
    {
     "cell_type": "heading",
     "level": 3,
     "metadata": {},
     "source": [
      "The question is: who misplaced the file?"
     ]
    },
    {
     "cell_type": "code",
     "collapsed": false,
     "input": [
      "# who ??"
     ],
     "language": "python",
     "metadata": {},
     "outputs": [],
     "prompt_number": 3
    },
    {
     "cell_type": "heading",
     "level": 2,
     "metadata": {},
     "source": [
      "(1)"
     ]
    },
    {
     "cell_type": "markdown",
     "metadata": {},
     "source": [
      "The boss decides to use probability to decide, and walks straight to the workload schedule. (S)he reasons that, since the three employees work at the same speed, the probability that a randomly selected file would have been filed by each one would be proportional to his workload. The boss notifies Moe that he has until the end of the day to empty his desk.\n"
     ]
    },
    {
     "cell_type": "markdown",
     "metadata": {},
     "source": [
      "But Moe argues in his defense that the boss has ignored additional information. Moe\u2019s likelihood of having misfiled a document is smaller than Larry\u2019s and Curly\u2019s, since he is a diligent worker who pays close attention to his work. Moe admits that he works longer than the others, but he doesn\u2019t make as many mistakes as they do. Thus, Moe recommends that \u2013 before making a decision \u2013 the boss should update the probability (initially based on workload alone) to incorporate the likelihood of having observed a misfiled document."
     ]
    },
    {
     "cell_type": "markdown",
     "metadata": {},
     "source": [
      "And, as it turns out, the boss has information about Moe, Larry, and Curly\u2019s filing accuracy in the past (due to historical performance evaluations). The performance information may be represented by the following table:"
     ]
    },
    {
     "cell_type": "markdown",
     "metadata": {},
     "source": [
      "| Moe | Larry | Curly\n",
      "--|--|--|--\n",
      "Misfile Rate | 0.003 | 0.007 | 0.010"
     ]
    },
    {
     "cell_type": "heading",
     "level": 3,
     "metadata": {},
     "source": [
      "The question is: who misplaced the file?"
     ]
    },
    {
     "cell_type": "code",
     "collapsed": false,
     "input": [
      "# who ??"
     ],
     "language": "python",
     "metadata": {},
     "outputs": [],
     "prompt_number": 4
    },
    {
     "cell_type": "heading",
     "level": 2,
     "metadata": {},
     "source": [
      "(2)"
     ]
    },
    {
     "cell_type": "markdown",
     "metadata": {},
     "source": [
      "In other words, on the average, Moe misfiles 0.003% of the documents he is supposed to file. Notice that Moe was correct: he is the most accurate filer, followed by Larry, and lastly Curly. If\n",
      "the boss were to make a decision based only on the worker\u2019s overall accuracy, then Curly should get the axe. But Curly hears this and interjects that he only works a short period during the day,\n",
      "and consequently makes mistakes only very rarely; there is only the tiniest chance that he misfiled this particular document.\n"
     ]
    },
    {
     "cell_type": "markdown",
     "metadata": {},
     "source": [
      "The boss would like to use this updated information to update the probabilities for the three assistants, that is, (s)he wants to use the additional likelihood that the document was misfiled to\n",
      "update his/her beliefs about the likely culprit. Let A be the event that a document is misfiled. What the boss would like to know are the three probabilities\n"
     ]
    },
    {
     "cell_type": "markdown",
     "metadata": {},
     "source": [
      "* P(M|A) = ?\n",
      "* P(L|A) = ?\n",
      "* P(C|A) = ?\n"
     ]
    },
    {
     "cell_type": "markdown",
     "metadata": {},
     "source": [
      "* P(M|A) = P(M and A) / P(A)\n",
      "* P(M and A) = 0.6 * 0.003 = 0.0018\n",
      "* P(L|A) = 0.0021\n",
      "* P(C|A) = 0.0010\n",
      "* P(A) = P(M and A) + P(L and A) + P(C and A) = 0.0049\n",
      "* Bayes' Rule -> P(M|A) = 0.0018 / 0.0049"
     ]
    },
    {
     "cell_type": "markdown",
     "metadata": {},
     "source": [
      "| Moe | Larry | Curly\n",
      "--|--|--|--\n",
      "Prior | 0.6 | 0.3 | 0.1\n",
      "Lilkehood | 0.003 | 0.007 | 0.01\n",
      "Posterior | 0.37 | 0.43 | 0.20"
     ]
    },
    {
     "cell_type": "heading",
     "level": 3,
     "metadata": {},
     "source": [
      "The question is: who misplaced the file?"
     ]
    },
    {
     "cell_type": "code",
     "collapsed": false,
     "input": [
      "# who ??"
     ],
     "language": "python",
     "metadata": {},
     "outputs": [],
     "prompt_number": 16
    },
    {
     "cell_type": "heading",
     "level": 4,
     "metadata": {},
     "source": [
      "code "
     ]
    },
    {
     "cell_type": "code",
     "collapsed": false,
     "input": [
      "import numpy as np\n",
      "\n",
      "prior = np.array([0.6, 0.3, 0.1])\n",
      "like = np.array([0.003, 0.007, 0.01])\n",
      "evidence = sum(prior * like)\n",
      "post = prior * like / evidence\n",
      "\n",
      "print prior\n",
      "print like\n",
      "print evidence\n",
      "print post"
     ],
     "language": "python",
     "metadata": {},
     "outputs": [
      {
       "output_type": "stream",
       "stream": "stdout",
       "text": [
        "[ 0.6  0.3  0.1]\n",
        "[ 0.003  0.007  0.01 ]\n",
        "0.0049\n",
        "[ 0.36734694  0.42857143  0.20408163]\n"
       ]
      }
     ],
     "prompt_number": 53
    },
    {
     "cell_type": "markdown",
     "metadata": {},
     "source": [
      "| Moe | Larry | Curly\n",
      "--|--|--|--\n",
      "Prior | 0.6 | 0.3 | 0.1\n",
      "Lilkehood | 0.003 | 0.007 | 0.01\n",
      "Posterior | 0.37 | 0.43 | 0.20"
     ]
    },
    {
     "cell_type": "heading",
     "level": 4,
     "metadata": {},
     "source": [
      "code (thinkbayes)"
     ]
    },
    {
     "cell_type": "code",
     "collapsed": false,
     "input": [
      "!wget http://thinkbayes.com/thinkbayes.py"
     ],
     "language": "python",
     "metadata": {},
     "outputs": [
      {
       "output_type": "stream",
       "stream": "stdout",
       "text": [
        "--2015-02-25 16:49:55--  http://thinkbayes.com/thinkbayes.py\r\n",
        "Resolving thinkbayes.com (thinkbayes.com)... "
       ]
      },
      {
       "output_type": "stream",
       "stream": "stdout",
       "text": [
        "208.113.214.221\r\n",
        "Connecting to thinkbayes.com (thinkbayes.com)|208.113.214.221|:80... "
       ]
      },
      {
       "output_type": "stream",
       "stream": "stdout",
       "text": [
        "connected.\r\n",
        "HTTP request sent, awaiting response... "
       ]
      },
      {
       "output_type": "stream",
       "stream": "stdout",
       "text": [
        "301 Moved Permanently\r\n",
        "Location: http://www.greenteapress.com/thinkbayes/thinkbayes.py [following]\r\n",
        "--2015-02-25 16:49:56--  http://www.greenteapress.com/thinkbayes/thinkbayes.py\r\n",
        "Resolving www.greenteapress.com (www.greenteapress.com)... "
       ]
      },
      {
       "output_type": "stream",
       "stream": "stdout",
       "text": [
        "208.113.214.221\r\n",
        "Reusing existing connection to thinkbayes.com:80.\r\n",
        "HTTP request sent, awaiting response... "
       ]
      },
      {
       "output_type": "stream",
       "stream": "stdout",
       "text": [
        "200 OK\r\n",
        "Length: 42406 (41K) [text/plain]\r\n",
        "Saving to: `thinkbayes.py'\r\n",
        "\r\n",
        "\r",
        " 0% [                                       ] 0           --.-K/s              "
       ]
      },
      {
       "output_type": "stream",
       "stream": "stdout",
       "text": [
        "\r",
        "100%[======================================>] 42,406       104K/s              \r",
        "100%[======================================>] 42,406       104K/s   in 0.4s    \r\n",
        "\r\n",
        "2015-02-25 16:49:57 (104 KB/s) - `thinkbayes.py' saved [42406/42406]\r\n",
        "\r\n"
       ]
      }
     ],
     "prompt_number": 18
    },
    {
     "cell_type": "code",
     "collapsed": false,
     "input": [
      "!ls"
     ],
     "language": "python",
     "metadata": {},
     "outputs": [
      {
       "output_type": "stream",
       "stream": "stdout",
       "text": [
        "ch02_ex_prb.ipynb  ch02_ex_sol.ipynb  thinkbayes.py\r\n"
       ]
      }
     ],
     "prompt_number": 19
    },
    {
     "cell_type": "code",
     "collapsed": false,
     "input": [
      "prior_prob = np.array([0.6, 0.3, 0.1])\n",
      "like_prob = np.array([0.003, 0.007, 0.01])\n",
      "names = ['Moe', 'Larry', 'Curly']"
     ],
     "language": "python",
     "metadata": {},
     "outputs": [],
     "prompt_number": 86
    },
    {
     "cell_type": "code",
     "collapsed": false,
     "input": [
      "from thinkbayes import Pmf\n",
      "pmf = Pmf()"
     ],
     "language": "python",
     "metadata": {},
     "outputs": [],
     "prompt_number": 87
    },
    {
     "cell_type": "code",
     "collapsed": false,
     "input": [
      "for name, prob in zip(names, prior_prob) :\n",
      "    pmf.Set(name, prob)\n",
      "    print name, prob"
     ],
     "language": "python",
     "metadata": {},
     "outputs": [
      {
       "output_type": "stream",
       "stream": "stdout",
       "text": [
        "Moe 0.6\n",
        "Larry 0.3\n",
        "Curly 0.1\n"
       ]
      }
     ],
     "prompt_number": 88
    },
    {
     "cell_type": "code",
     "collapsed": false,
     "input": [
      "pmf.d"
     ],
     "language": "python",
     "metadata": {},
     "outputs": [
      {
       "metadata": {},
       "output_type": "pyout",
       "prompt_number": 89,
       "text": [
        "{'Curly': 0.10000000000000001,\n",
        " 'Larry': 0.29999999999999999,\n",
        " 'Moe': 0.59999999999999998}"
       ]
      }
     ],
     "prompt_number": 89
    },
    {
     "cell_type": "code",
     "collapsed": false,
     "input": [
      "for name, prob in zip(names, like_prob) :\n",
      "    pmf.Mult(name, prob)\n",
      "    print name, prob"
     ],
     "language": "python",
     "metadata": {},
     "outputs": [
      {
       "output_type": "stream",
       "stream": "stdout",
       "text": [
        "Moe 0.003\n",
        "Larry 0.007\n",
        "Curly 0.01\n"
       ]
      }
     ],
     "prompt_number": 90
    },
    {
     "cell_type": "code",
     "collapsed": false,
     "input": [
      "pmf.d"
     ],
     "language": "python",
     "metadata": {},
     "outputs": [
      {
       "metadata": {},
       "output_type": "pyout",
       "prompt_number": 91,
       "text": [
        "{'Curly': 0.001, 'Larry': 0.0020999999999999999, 'Moe': 0.0018}"
       ]
      }
     ],
     "prompt_number": 91
    },
    {
     "cell_type": "code",
     "collapsed": false,
     "input": [
      "pmf.Normalize()"
     ],
     "language": "python",
     "metadata": {},
     "outputs": [
      {
       "metadata": {},
       "output_type": "pyout",
       "prompt_number": 92,
       "text": [
        "0.0048999999999999998"
       ]
      }
     ],
     "prompt_number": 92
    },
    {
     "cell_type": "code",
     "collapsed": false,
     "input": [
      "pmf.Prob('Moe')"
     ],
     "language": "python",
     "metadata": {},
     "outputs": [
      {
       "metadata": {},
       "output_type": "pyout",
       "prompt_number": 93,
       "text": [
        "0.36734693877551022"
       ]
      }
     ],
     "prompt_number": 93
    },
    {
     "cell_type": "code",
     "collapsed": false,
     "input": [
      "pmf.d"
     ],
     "language": "python",
     "metadata": {},
     "outputs": [
      {
       "metadata": {},
       "output_type": "pyout",
       "prompt_number": 94,
       "text": [
        "{'Curly': 0.20408163265306123,\n",
        " 'Larry': 0.42857142857142855,\n",
        " 'Moe': 0.36734693877551022}"
       ]
      }
     ],
     "prompt_number": 94
    },
    {
     "cell_type": "code",
     "collapsed": false,
     "input": [
      "newprior_prob = [pmf.d[name] for name in ['Moe', 'Larry', 'Curly']]\n",
      "newprior_prob"
     ],
     "language": "python",
     "metadata": {},
     "outputs": [
      {
       "metadata": {},
       "output_type": "pyout",
       "prompt_number": 95,
       "text": [
        "[0.36734693877551022, 0.42857142857142855, 0.20408163265306123]"
       ]
      }
     ],
     "prompt_number": 95
    },
    {
     "cell_type": "markdown",
     "metadata": {},
     "source": [
      "| Moe | Larry | Curly\n",
      "--|--|--|--\n",
      "Prior | 0.6 | 0.3 | 0.1\n",
      "Lilkehood | 0.003 | 0.007 | 0.01\n",
      "Posterior | 0.37 | 0.43 | 0.20"
     ]
    },
    {
     "cell_type": "heading",
     "level": 2,
     "metadata": {},
     "source": [
      "(3)"
     ]
    },
    {
     "cell_type": "markdown",
     "metadata": {},
     "source": [
      "Suppose the boss gets a change of heart and does not fire anybody. But the next day (s)he randomly selects another file and again finds it to be misplaced.\n"
     ]
    },
    {
     "cell_type": "heading",
     "level": 3,
     "metadata": {},
     "source": [
      "The question is: who misplaced the file?"
     ]
    },
    {
     "cell_type": "code",
     "collapsed": false,
     "input": [
      "# who ??"
     ],
     "language": "python",
     "metadata": {},
     "outputs": [],
     "prompt_number": 6
    },
    {
     "cell_type": "heading",
     "level": 4,
     "metadata": {},
     "source": [
      "code"
     ]
    },
    {
     "cell_type": "code",
     "collapsed": false,
     "input": [
      "new_prior = post\n",
      "evidence = sum(new_prior * like)\n",
      "post = new_prior * like / evidence\n",
      "\n",
      "print new_prior\n",
      "print like\n",
      "print evidence\n",
      "print post"
     ],
     "language": "python",
     "metadata": {},
     "outputs": [
      {
       "output_type": "stream",
       "stream": "stdout",
       "text": [
        "[ 0.36734694  0.42857143  0.20408163]\n",
        "[ 0.003  0.007  0.01 ]\n",
        "0.00614285714286\n",
        "[ 0.17940199  0.48837209  0.33222591]\n"
       ]
      }
     ],
     "prompt_number": 62
    },
    {
     "cell_type": "markdown",
     "metadata": {},
     "source": [
      "| Moe | Larry | Curly\n",
      "--|--|--|--\n",
      "Prior | 0.37 | 0.43 | 0.20 \n",
      "Liklihood | 0.003  | 0.007 | 0.01 \n",
      "Posterior | 0.18 | 0.49 | 0.33"
     ]
    },
    {
     "cell_type": "heading",
     "level": 4,
     "metadata": {},
     "source": [
      "code(thinkbayes)"
     ]
    },
    {
     "cell_type": "code",
     "collapsed": false,
     "input": [
      "pmf = Pmf()\n",
      "for name, prob in zip(names, prior_prob) :\n",
      "    pmf.Set(name, prob)\n",
      "\n",
      "# prior update\n",
      "for name, prob in zip(names, newprior_prob) :\n",
      "    pmf.Set(name, prob)\n",
      "\n",
      "for name, prob in zip(names, like_prob) :\n",
      "    pmf.Mult(name, prob)    \n",
      "    \n",
      "pmf.Normalize()    \n",
      "pmf.d"
     ],
     "language": "python",
     "metadata": {},
     "outputs": [
      {
       "metadata": {},
       "output_type": "pyout",
       "prompt_number": 97,
       "text": [
        "{'Curly': 0.33222591362126247,\n",
        " 'Larry': 0.48837209302325579,\n",
        " 'Moe': 0.17940199335548174}"
       ]
      }
     ],
     "prompt_number": 97
    },
    {
     "cell_type": "markdown",
     "metadata": {},
     "source": [
      "| Moe | Larry | Curly\n",
      "--|--|--|--\n",
      "Prior | 0.37 | 0.43 | 0.20 \n",
      "Liklihood | 0.003  | 0.007 | 0.01 \n",
      "Posterior | 0.18 | 0.49 | 0.33"
     ]
    },
    {
     "cell_type": "heading",
     "level": 2,
     "metadata": {},
     "source": [
      "(4)"
     ]
    },
    {
     "cell_type": "markdown",
     "metadata": {},
     "source": [
      "Let us incorporate the posterior probability (post) information from the (2) example and suppose that the assistants misfile seven more documents. Using Bayes\u2019 Rule, what would\n",
      "the new posterior probabilities be?\n"
     ]
    },
    {
     "cell_type": "heading",
     "level": 4,
     "metadata": {},
     "source": [
      "code"
     ]
    },
    {
     "cell_type": "code",
     "collapsed": false,
     "input": [
      "new_prior = post\n",
      "evidence = sum(new_prior * (like **7))\n",
      "post = new_prior * (like**7) / evidence\n",
      "\n",
      "print new_prior\n",
      "print like\n",
      "print evidence\n",
      "print post"
     ],
     "language": "python",
     "metadata": {},
     "outputs": [
      {
       "output_type": "stream",
       "stream": "stdout",
       "text": [
        "[ 0.36734694  0.42857143  0.20408163]\n",
        "[ 0.003  0.007  0.01 ]\n",
        "2.39456671429e-15\n",
        "[  3.35504436e-04   1.47394933e-01   8.52269563e-01]\n"
       ]
      }
     ],
     "prompt_number": 17
    },
    {
     "cell_type": "markdown",
     "metadata": {},
     "source": [
      "| Moe | Larry | Curly\n",
      "--|--|--|--\n",
      "Prior | 0.37 | 0.43 | 0.20 \n",
      "Liklihood | 0.003  | 0.007 | 0.01 \n",
      "Posterior | 0.000335 | 0.1473 | 0.8522"
     ]
    },
    {
     "cell_type": "heading",
     "level": 4,
     "metadata": {},
     "source": [
      "code(thinkbayes)"
     ]
    },
    {
     "cell_type": "code",
     "collapsed": false,
     "input": [
      "pmf = Pmf()\n",
      "for name, prob in zip(names, prior_prob) :\n",
      "    pmf.Set(name, prob)\n",
      "\n",
      "# prior update\n",
      "for name, prob in zip(names, newprior_prob) :\n",
      "    pmf.Set(name, prob)\n",
      "    \n",
      "for name, prob in zip(names, like_prob**7) :\n",
      "    pmf.Mult(name, prob)    \n",
      "    \n",
      "pmf.Normalize()    \n",
      "pmf.d"
     ],
     "language": "python",
     "metadata": {},
     "outputs": [
      {
       "metadata": {},
       "output_type": "pyout",
       "prompt_number": 98,
       "text": [
        "{'Curly': 0.85226956273773158,\n",
        " 'Larry': 0.14739493282620111,\n",
        " 'Moe': 0.00033550443606733543}"
       ]
      }
     ],
     "prompt_number": 98
    },
    {
     "cell_type": "markdown",
     "metadata": {},
     "source": [
      "| Moe | Larry | Curly\n",
      "--|--|--|--\n",
      "Prior | 0.37 | 0.43 | 0.20 \n",
      "Liklihood | 0.003  | 0.007 | 0.01 \n",
      "Posterior | 0.000335 | 0.1473 | 0.8522"
     ]
    },
    {
     "cell_type": "markdown",
     "metadata": {},
     "source": [
      "# References \n",
      "\n",
      "* [1] Introduction to Probability and Statistics Using R : Example 4.44 - http://cran.r-project.org/web/packages/IPSUR/vignettes/IPSUR.pdf\n",
      "* [2] Example 4.45\n",
      "* [3] Example 4.47\n",
      "* [4] Think Bayes - http://www.greenteapress.com/thinkbayes/"
     ]
    }
   ],
   "metadata": {}
  }
 ]
}