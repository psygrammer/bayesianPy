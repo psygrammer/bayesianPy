{
 "metadata": {
  "name": "",
  "signature": "sha256:bc951df820458830a087d588bae07f7f573f6c1b7bfbb839429301469a5d7f0e"
 },
 "nbformat": 3,
 "nbformat_minor": 0,
 "worksheets": [
  {
   "cells": [
    {
     "cell_type": "markdown",
     "metadata": {},
     "source": [
      "# \ubca0\uc774\uc9c0\uc548Py - 2\ud68c\ucc28 \uc5f0\uc2b5\ubb38\uc81c\n",
      "\n",
      "* \uc791\uc131\uc790 : \uae40\ubb34\uc131\n",
      "* \ucc38\uc870[1,2,3]"
     ]
    },
    {
     "cell_type": "heading",
     "level": 1,
     "metadata": {},
     "source": [
      "Misfiling Assistants "
     ]
    },
    {
     "cell_type": "markdown",
     "metadata": {},
     "source": [
      "In this problem, there are three assistants working at a company: Moe, Larry, and Curly. Their primary job duty is to file paperwork in the filing cabinet when\n",
      "papers become available. The three assistants have different work schedules:"
     ]
    },
    {
     "cell_type": "markdown",
     "metadata": {},
     "source": [
      "| Moe | Larry | Curly\n",
      "--|--|--|--\n",
      "Workload | 60% | 30% | 10%"
     ]
    },
    {
     "cell_type": "markdown",
     "metadata": {},
     "source": [
      "That is, Moe works 60% of the time, Larry works 30% of the time, and Curly does the remaining 10%, and they file documents at approximately the same speed. Suppose a person were to select one of the documents from the cabinet at random. Let M be the event\n"
     ]
    },
    {
     "cell_type": "markdown",
     "metadata": {},
     "source": [
      "<center>M = { More filed the document }</center>"
     ]
    },
    {
     "cell_type": "markdown",
     "metadata": {},
     "source": [
      "and let L and C be the events that Larry and Curly, respectively, filed the document. What are these events\u2019 respective probabilities? In the absence of additional information, reasonable prior probabilities would just be\n"
     ]
    },
    {
     "cell_type": "markdown",
     "metadata": {},
     "source": [
      "| Moe | Larry | Curly\n",
      "--|--|--|--\n",
      "Prior | P(M)=? | P(L)=? | P(C)=?"
     ]
    },
    {
     "cell_type": "markdown",
     "metadata": {},
     "source": [
      "Now, the boss comes in one day, opens up the file cabinet, and selects a file at random. The boss discovers that the file has been misplaced. The boss is so angry at the mistake that (s)he threatens to fire the one who erred. \n"
     ]
    },
    {
     "cell_type": "heading",
     "level": 3,
     "metadata": {},
     "source": [
      "The question is: who misplaced the file?"
     ]
    },
    {
     "cell_type": "code",
     "collapsed": false,
     "input": [
      "# who ??"
     ],
     "language": "python",
     "metadata": {},
     "outputs": [],
     "prompt_number": 3
    },
    {
     "cell_type": "heading",
     "level": 2,
     "metadata": {},
     "source": [
      "(1)"
     ]
    },
    {
     "cell_type": "markdown",
     "metadata": {},
     "source": [
      "The boss decides to use probability to decide, and walks straight to the workload schedule. (S)he reasons that, since the three employees work at the same speed, the probability that a randomly selected file would have been filed by each one would be proportional to his workload. The boss notifies Moe that he has until the end of the day to empty his desk.\n"
     ]
    },
    {
     "cell_type": "markdown",
     "metadata": {},
     "source": [
      "But Moe argues in his defense that the boss has ignored additional information. Moe\u2019s likelihood of having misfiled a document is smaller than Larry\u2019s and Curly\u2019s, since he is a diligent worker who pays close attention to his work. Moe admits that he works longer than the others, but he doesn\u2019t make as many mistakes as they do. Thus, Moe recommends that \u2013 before making a decision \u2013 the boss should update the probability (initially based on workload alone) to incorporate the likelihood of having observed a misfiled document."
     ]
    },
    {
     "cell_type": "markdown",
     "metadata": {},
     "source": [
      "And, as it turns out, the boss has information about Moe, Larry, and Curly\u2019s filing accuracy in the past (due to historical performance evaluations). The performance information may be represented by the following table:"
     ]
    },
    {
     "cell_type": "markdown",
     "metadata": {},
     "source": [
      "| Moe | Larry | Curly\n",
      "--|--|--|--\n",
      "Misfile Rate | 0.003 | 0.007 | 0.010"
     ]
    },
    {
     "cell_type": "heading",
     "level": 3,
     "metadata": {},
     "source": [
      "The question is: who misplaced the file?"
     ]
    },
    {
     "cell_type": "code",
     "collapsed": false,
     "input": [
      "# who ??"
     ],
     "language": "python",
     "metadata": {},
     "outputs": [],
     "prompt_number": 4
    },
    {
     "cell_type": "heading",
     "level": 2,
     "metadata": {},
     "source": [
      "(2)"
     ]
    },
    {
     "cell_type": "markdown",
     "metadata": {},
     "source": [
      "In other words, on the average, Moe misfiles 0.003% of the documents he is supposed to file. Notice that Moe was correct: he is the most accurate filer, followed by Larry, and lastly Curly. If\n",
      "the boss were to make a decision based only on the worker\u2019s overall accuracy, then Curly should get the axe. But Curly hears this and interjects that he only works a short period during the day,\n",
      "and consequently makes mistakes only very rarely; there is only the tiniest chance that he misfiled this particular document.\n"
     ]
    },
    {
     "cell_type": "markdown",
     "metadata": {},
     "source": [
      "The boss would like to use this updated information to update the probabilities for the three assistants, that is, (s)he wants to use the additional likelihood that the document was misfiled to\n",
      "update his/her beliefs about the likely culprit. Let A be the event that a document is misfiled. What the boss would like to know are the three probabilities\n"
     ]
    },
    {
     "cell_type": "markdown",
     "metadata": {},
     "source": [
      "* P(M|A) = ?\n",
      "* P(L|A) = ?\n",
      "* P(C|A) = ?\n"
     ]
    },
    {
     "cell_type": "heading",
     "level": 3,
     "metadata": {},
     "source": [
      "The question is: who misplaced the file?"
     ]
    },
    {
     "cell_type": "code",
     "collapsed": false,
     "input": [
      "# who ??"
     ],
     "language": "python",
     "metadata": {},
     "outputs": [],
     "prompt_number": 5
    },
    {
     "cell_type": "heading",
     "level": 2,
     "metadata": {},
     "source": [
      "(3)"
     ]
    },
    {
     "cell_type": "markdown",
     "metadata": {},
     "source": [
      "Suppose the boss gets a change of heart and does not fire anybody. But the next day (s)he randomly selects another file and again finds it to be misplaced.\n"
     ]
    },
    {
     "cell_type": "heading",
     "level": 3,
     "metadata": {},
     "source": [
      "The question is: who misplaced the file?"
     ]
    },
    {
     "cell_type": "code",
     "collapsed": false,
     "input": [
      "# who ??"
     ],
     "language": "python",
     "metadata": {},
     "outputs": [],
     "prompt_number": 6
    },
    {
     "cell_type": "markdown",
     "metadata": {},
     "source": [
      "| Moe | Larry | Curly\n",
      "--|--|--|--\n",
      "Prior |  |  | \n",
      "Liklihood |  |  | \n",
      "Posterior |  |  | "
     ]
    },
    {
     "cell_type": "markdown",
     "metadata": {},
     "source": [
      "# References \n",
      "\n",
      "* [1] Introduction to Probability and Statistics Using R : Example 4.44 - http://cran.r-project.org/web/packages/IPSUR/vignettes/IPSUR.pdf\n",
      "* [2] Example 4.45\n",
      "* [3] Think Bayes - http://www.greenteapress.com/thinkbayes/"
     ]
    }
   ],
   "metadata": {}
  }
 ]
}