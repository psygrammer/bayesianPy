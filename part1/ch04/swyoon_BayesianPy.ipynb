{
 "metadata": {
  "name": "",
  "signature": "sha256:f63247d979c85370c3ace04c7fb911f2c4ef707b5f962d8c76c0d52377b4aee4"
 },
 "nbformat": 3,
 "nbformat_minor": 0,
 "worksheets": [
  {
   "cells": [
    {
     "cell_type": "heading",
     "level": 1,
     "metadata": {},
     "source": [
      "Chapter 4. More Estimation \ucd94\uc815 2"
     ]
    },
    {
     "cell_type": "heading",
     "level": 4,
     "metadata": {},
     "source": [
      "\uc77c\uc2dc: 2015\ub144 3\uc6d4 25\uc77c,  \ubc1c\ud45c: \uc724\uc0c1\uc6c5"
     ]
    },
    {
     "cell_type": "heading",
     "level": 2,
     "metadata": {},
     "source": [
      "\uc9c0\ub09c \uc2dc\uac04\uc5d0..."
     ]
    },
    {
     "cell_type": "markdown",
     "metadata": {},
     "source": [
      "* Bayes theorem\uacfc probability mass function\uc744 \uc774\uc6a9\ud55c \ucd94\uc815\n",
      "* Prior distribution\uacfc likelihood parameter\uac00 \uacb0\uacfc\uc5d0 \ubbf8\uce58\ub294 \uc601\ud5a5\n",
      "* Posterior distribution\uc5d0\uc11c \uc2e0\ub8b0\uad6c\uac04"
     ]
    },
    {
     "cell_type": "heading",
     "level": 2,
     "metadata": {},
     "source": [
      "\uc774\ubc88 \uc2dc\uac04\uc5d0..."
     ]
    },
    {
     "cell_type": "markdown",
     "metadata": {},
     "source": [
      "* \uc0ac\uae30\uafbc\uc758 \ub3d9\uc804\n",
      "* Posterior\uc758 \uc815\ubcf4\ub97c \uc694\uc57d\ud558\uae30\n",
      "* Continuous distribution / Beta distribution\n",
      "* Conjugate prior\n",
      "* Cromwell's rule"
     ]
    },
    {
     "cell_type": "heading",
     "level": 2,
     "metadata": {},
     "source": [
      "1. \uc0ac\uae30\uafbc\uc758 \ub3d9\uc804"
     ]
    },
    {
     "cell_type": "markdown",
     "metadata": {},
     "source": [
      "> \ubca8\uae30\uc5d0 \uc720\ub85c \ub3d9\uc804\uc744 250\ubc88 \ub358\uc84c\ub354\ub2c8 **\uc55e\uba74(Head)\uc774 140\ubc88, \ub4b7\uba74(Tail)\uc774 110\ubc88** \ub098\uc654\ub2e4. \uc774 \ub3d9\uc804\uc740 \uacf5\uc815\ud55c \uac83\uc77c\uae4c? \n",
      "\n",
      "> (*Information Theory, Inference and Learning Algorithms*, David MacKay)\n",
      "\n",
      "![\uc190\ubaa8\uac00\uc9c0](http://image.cine21.com/resize/cine21/still/2006/0925/M0020105_still60[W578-].jpg?H300)\n",
      "\n",
      "\n",
      "\n",
      "### \ubb38\uc81c \ud480\uc774 \ubc29\ubc95 \n",
      "* \ucd94\uc815 \ubaa9\ud45c\n",
      "    * \ub3d9\uc804\uc758 \uc55e\uba74\uc774 \ub098\uc62c \ud655\ub960 = \"hypo\" or \"p\"   \n",
      "\n",
      "\n",
      "* Prior\n",
      "    * Uniform prior -> Uninformative prior : 0 \ubd80\ud130 100\uae4c\uc9c0 (p)\n",
      "    * \uc774\uc0b0(discrete) \ud655\ub960 \ubd84\ud3ec   \n",
      "\n",
      "\n",
      "* Likelihood\n",
      "    * \uc55e\uba74\uc774 \ub098\uc624\uba74 p, \ub4b7\uba74\uc774 \ub098\uc624\uba74 1-p\n",
      "    * \uc5ec\ub7ec \ubc88 \ub358\uc9c4 \uacbd\uc6b0 \uacf1\ud558\uae30\n",
      "\n",
      "\n",
      "* Posterior\n",
      "    * Bayes theorem\uc5d0 \uc758\ud574 \uacc4\uc0b0"
     ]
    },
    {
     "cell_type": "heading",
     "level": 3,
     "metadata": {},
     "source": [
      "\ud568\uc218 \uc815\uc758 \ubc0f \ubd88\ub7ec\uc624\uae30"
     ]
    },
    {
     "cell_type": "code",
     "collapsed": false,
     "input": [
      "import thinkbayes\n",
      "import thinkplot\n",
      "class Euro(thinkbayes.Suite):\n",
      "    \"\"\"Represents hypotheses about the probability of heads.\"\"\"\n",
      "\n",
      "    def Likelihood(self, data, hypo):\n",
      "        \"\"\"Computes the likelihood of the data under the hypothesis.\n",
      "\n",
      "        hypo: integer value of x, the probability of heads (0-100)\n",
      "        data: string 'H' or 'T'\n",
      "        \"\"\"\n",
      "        x = hypo / 100.0\n",
      "        if data == 'H':\n",
      "            return x\n",
      "        else:\n",
      "            return 1-x\n",
      "\n",
      "        \n",
      "def UniformPrior():\n",
      "    \"\"\"Makes a Suite with a uniform prior.\"\"\"\n",
      "    suite = Euro(xrange(0, 101))\n",
      "    return suite        \n",
      "\n",
      "\n",
      "def RunUpdate(suite, heads=140, tails=110):\n",
      "    \"\"\"Updates the Suite with the given number of heads and tails.\n",
      "\n",
      "    suite: Suite object\n",
      "    heads: int\n",
      "    tails: int\n",
      "    \"\"\"\n",
      "    dataset = 'H' * heads + 'T' * tails\n",
      "\n",
      "    for data in dataset:\n",
      "        suite.Update(data)\n",
      "        \n",
      "    \n",
      "def PlotSuites(suites):\n",
      "    \"\"\"Plots two suites.\n",
      "\n",
      "    suite1, suite2: Suite objects\n",
      "    root: string filename to write\n",
      "    \"\"\"\n",
      "    thinkplot.Clf()\n",
      "    thinkplot.PrePlot(len(suites))\n",
      "    thinkplot.Pmfs(suites)    "
     ],
     "language": "python",
     "metadata": {},
     "outputs": [],
     "prompt_number": 23
    },
    {
     "cell_type": "heading",
     "level": 3,
     "metadata": {},
     "source": [
      "\uc2e4\ud589 "
     ]
    },
    {
     "cell_type": "code",
     "collapsed": false,
     "input": [
      "suite1 = UniformPrior()\n",
      "suite1.name = 'uniform'\n",
      "RunUpdate(suite1)\n",
      "PlotSuites([suite1])\n",
      "\n",
      "kwargs = {'title':'Posterior from Uniform Prior', 'xlabel':'p(%)', 'ylabel':'probability mass'}\n",
      "thinkplot.Show(**kwargs)\n"
     ],
     "language": "python",
     "metadata": {},
     "outputs": [
      {
       "metadata": {},
       "output_type": "display_data",
       "png": "[encoded data removed]",
       "text": [
        "<matplotlib.figure.Figure at 0x7fe49f924cd0>"
       ]
      }
     ],
     "prompt_number": 24
    },
    {
     "cell_type": "heading",
     "level": 2,
     "metadata": {},
     "source": [
      "2. Posterior Distribution \ud574\uc11d\ud558\uae30"
     ]
    },
    {
     "cell_type": "code",
     "collapsed": false,
     "input": [
      "def Summarize(suite):\n",
      "    \"\"\"Prints summary statistics for the suite.\"\"\"\n",
      "    print suite.Prob(50)\n",
      "\n",
      "    print 'MLE', suite.MaximumLikelihood()\n",
      "\n",
      "    print 'Mean', suite.Mean()\n",
      "    print 'Median', thinkbayes.Percentile(suite, 50) \n",
      "\n",
      "    print '5th %ile', thinkbayes.Percentile(suite, 5) \n",
      "    print '95th %ile', thinkbayes.Percentile(suite, 95) \n",
      "\n",
      "    print 'CI', thinkbayes.CredibleInterval(suite, 90)  "
     ],
     "language": "python",
     "metadata": {},
     "outputs": []
    },
    {
     "cell_type": "code",
     "collapsed": false,
     "input": [
      "Summarize(suite1)"
     ],
     "language": "python",
     "metadata": {},
     "outputs": [
      {
       "output_type": "stream",
       "stream": "stdout",
       "text": [
        "0.0209765261295\n",
        "MLE 56\n",
        "Mean 55.9523809524\n",
        "Median 56\n",
        "5th %ile 51\n",
        "95th %ile 61\n",
        "CI (51, 61)\n"
       ]
      }
     ],
     "prompt_number": 25
    },
    {
     "cell_type": "markdown",
     "metadata": {},
     "source": [
      "# <U>** <\uc8fc\uc758> \uc5ec\uae30\uc11c Maximum Likelihood\ub294 \uc0ac\uc2e4 Maximum A Posteriori \uc784!\u3160** </U>"
     ]
    },
    {
     "cell_type": "heading",
     "level": 2,
     "metadata": {},
     "source": [
      "3. Prior \ubc14\uafd4\ubcf4\uae30"
     ]
    },
    {
     "cell_type": "code",
     "collapsed": false,
     "input": [
      "def TrianglePrior():\n",
      "    \"\"\"Makes a Suite with a triangular prior.\"\"\"\n",
      "    suite = Euro()\n",
      "    for x in range(0, 51):\n",
      "        suite.Set(x, x)\n",
      "    for x in range(51, 101):\n",
      "        suite.Set(x, 100-x) \n",
      "    suite.Normalize()\n",
      "    return suite"
     ],
     "language": "python",
     "metadata": {},
     "outputs": [],
     "prompt_number": 32
    },
    {
     "cell_type": "code",
     "collapsed": false,
     "input": [
      "suite1 = UniformPrior()\n",
      "suite1.name = 'uniform'\n",
      "\n",
      "suite2 = TrianglePrior()\n",
      "suite2.name = 'triangle'\n",
      "\n",
      "PlotSuites([suite1, suite2])\n",
      "kwargs = {'title':'Different Priors', 'xlabel':'p(%)', 'ylabel':'probability mass'}\n",
      "thinkplot.Show(**kwargs)"
     ],
     "language": "python",
     "metadata": {},
     "outputs": [
      {
       "metadata": {},
       "output_type": "display_data",
       "png": "[encoded data removed]",
       "text": [
        "<matplotlib.figure.Figure at 0x7fe491ef6b50>"
       ]
      }
     ],
     "prompt_number": 33
    },
    {
     "cell_type": "code",
     "collapsed": false,
     "input": [
      "RunUpdate(suite1)\n",
      "RunUpdate(suite2)\n",
      "PlotSuites([suite1, suite2])\n",
      "\n",
      "kwargs = {'title':'Posterior from Triangular Prior', 'xlabel':'p(%)', 'ylabel':'probability mass'}\n",
      "thinkplot.Show(**kwargs)\n",
      "Summarize(suite2)"
     ],
     "language": "python",
     "metadata": {},
     "outputs": [
      {
       "metadata": {},
       "output_type": "display_data",
       "png": "[encoded data removed]",
       "text": [
        "<matplotlib.figure.Figure at 0x7fe492469710>"
       ]
      },
      {
       "output_type": "stream",
       "stream": "stdout",
       "text": [
        "0.0238475372147\n",
        "MLE 56\n",
        "Mean 55.7434994386\n",
        "Median 56\n",
        "5th %ile 51\n",
        "95th %ile 61\n",
        "CI (51, 61)\n"
       ]
      }
     ],
     "prompt_number": 34
    },
    {
     "cell_type": "markdown",
     "metadata": {},
     "source": [
      "## Swamping Prior\n",
      "* \ub370\uc774\ud130\uac00 \ucda9\ubd84\ud788 \ub9ce\uc73c\uba74, \uc11c\ub85c \ub2e4\ub978 prior\ub85c \uc2dc\uc791\ud588\ub354\ub77c\ub3c4 \uac19\uc740 \uacb0\ub860\uc73c\ub85c \uc218\ub834\ud55c\ub2e4\n",
      "\n",
      "\n",
      "\n",
      "----\n"
     ]
    },
    {
     "cell_type": "heading",
     "level": 2,
     "metadata": {},
     "source": [
      "4. Continuous Distribution"
     ]
    },
    {
     "cell_type": "markdown",
     "metadata": {},
     "source": [
      "![5th](http://upload.wikimedia.org/wikipedia/commons/c/cd/Polynomialdeg5.png)\n",
      "### \ud604\uc7ac\uc758 \ucf54\ub4dc\uc5d0\uc120 \uc808\ub300\ub85c <U>\"53.54%\"</U> \uc640 \uac19\uc740 \ub2f5\uc774 \ub098\uc62c \uc218\uac00 \uc5c6\ub2e4!\n",
      "* \uc6d0\ub798 \uc5f0\uc18d\ubcc0\uc218\uc778 \uac83\uc744 \uc784\uc758\ub85c \uc774\uc0b0\ubcc0\uc218\ub85c \ubc14\uafb8\uc5b4 \uacc4\uc0b0\ud588\uae30 \ub54c\ubb38\u3160\u3160\n",
      "* \ub354 \uc790\uc138\ud558\uac8c \ud560 \uc218\ub85d \uacc4\uc0b0\ub3c4 \ub354 \ub9ce\uc774 \ud544\uc694\n",
      "\n",
      "\n",
      "### \uc5f0\uc18d\ud655\ub960\ubd84\ud3ec\ub97c Prior\ub85c \uc0ac\uc6a9\ud558\uba74 \ub41c\ub2e4!\n",
      "* \uacc4\uc0b0\ub3c4 \uac04\ub2e8"
     ]
    },
    {
     "cell_type": "heading",
     "level": 2,
     "metadata": {},
     "source": [
      "4.1. Conjugate Prior"
     ]
    },
    {
     "cell_type": "markdown",
     "metadata": {},
     "source": [
      "### \uc5f0\uc18d\ud568\uc218\uc758 \uc5b4\ub824\uc6c0\n",
      "* \uc885\ub958\uac00 \uc5c4\uccad\ub098\uac8c \ub9ce\uc74c\n",
      "* \ubb34\ud55c\uac1c\uc758 \uc810 -> \ud55c \uc810\uc529 \ud560 \uc218\ub294 \uc5c6\uc74c\u3160\u3160\n",
      "* \uc801\uc740 \uc218\uc758 parameter\ub85c \ud2b9\uc815\uc9c0\uc744 \uc218 \uc788\ub294 \ud568\uc218\uac00 \uc88b\uc74c\n",
      "* **<U>Bayesian update\uc640\ub3c4 \ubb54\uac00 \uad00\ub828\uc774 \uc788\uc73c\uba74 \uc88b\uaca0\ub294\ub370...</U>**\n",
      "    \n",
      "\n",
      "![](http://gooswiki.com/images/d/da/%EC%9D%B4%EB%A7%90%EB%85%84%EA%B7%B8%EB%9F%B0%EB%8D%B0%EA%B7%B8%EA%B2%83%EC%9D%B4.jpg)\n",
      "### \uc5b4\ub5a4 \ubd84\ud3ec\ub4e4\uc740 Bayesian update \uacc4\uc0b0\uc774 \uac81\ub098 \uac04\ud3b8\ud558\uac8c \uc774\ub8e8\uc5b4\uc9d0\n",
      "* Gaussian, Beta, Dirichlet distribution \ub4f1\ub4f1...\n",
      "\n",
      "\n",
      "* Likelihood\uac00 \ud2b9\uc815\ud55c \ud615\ud0dc\uc77c \ub54c, prior\uc640 posterior\uac00 \uac19\uc740 \ud615\ud0dc\uc758 \ud568\uc218\ub85c \ud45c\ud610\ub428\n",
      "\n",
      "----\n",
      "\n",
      "## Likelihood : Gaussian\n",
      "## Prior : Gaussian\n",
      "## \uadf8\ub7ec\uba74...\n",
      "## Posterior : Gaussian\n",
      "\n",
      "----\n",
      "\n",
      "## Likelihood : Binomial (\uc774\ud56d\ubd84\ud3ec)\n",
      "## Prior : Beta (\ubca0\ud0c0\ubd84\ud3ec)\n",
      "## \uadf8\ub7ec\uba74...\n",
      "## Posterior : Beta\n",
      "\n",
      "---\n",
      "\n",
      "#\uacb0\ub860 : \ud568\uc218\uc758 \ud30c\ub77c\ubbf8\ud130\ub9cc \uc870\uc815\ud558\ub294 \uac83\uc73c\ub85c Bayesian update\ub97c \uad6c\ud604\ud560 \uc218 \uc788\uc74c!"
     ]
    },
    {
     "cell_type": "heading",
     "level": 2,
     "metadata": {},
     "source": [
      "4.2. Beta Distribution"
     ]
    },
    {
     "cell_type": "markdown",
     "metadata": {},
     "source": [
      "$ x $ \uac00 $ [0, 1]$ \uc548\uc5d0 \uc788\uc744 \ub54c,\n",
      "### $$ P(x;a,b) = \\dfrac{1}{B(a,b)} x^{a-1} (1-x)^{b-1} $$\n",
      "\ub2e8 $a, b$\ub294 \uc591\uc218\uc774\uace0 $B(a,b)$\ub294 \ubca0\ud0c0 \ud568\uc218(Beta function)\n",
      "![Beta](http://www.johndcook.com/beta_definition.png)\n",
      "\uc5ec\uae30\uc5d0 \ub4e4\uc5b4\uac00\ub294 $\\Gamma(a)$\ub294 \uac10\ub9c8 \ud568\uc218(Gamma function)\n",
      "![Gamma](http://www.johndcook.com/gamma_definition.png)\n",
      "\n",
      "\n",
      "\n",
      "### \ucac4\uc9c0 \ub9c8\uc138\uc694!\n",
      "* \uc5b4\ucc28\ud53c \ubca0\ud0c0 \ud568\uc218\uc758 \uc5ed\ud560\uc740 normalizing constant\n",
      "* \uc774\ubbf8 \uad6c\ud604\ub41c \uacc4\uc0b0 \ud568\uc218\ub97c \uc4f0\uba74 \ub428\u314b \n",
      "\n",
      "* \uad6d\ubb38 \uc704\ud0a4 http://ko.wikipedia.org/wiki/%EB%B2%A0%ED%83%80_%EB%B6%84%ED%8F%AC\n",
      "* \uc601\ubb38 \uc704\ud0a4 http://en.wikipedia.org/wiki/Beta_distribution\n",
      "\n",
      "### Beta \ubd84\ud3ec\ub97c \uc65c \uc4f0\ub0d0\uba74...\n",
      "* 0\uc5d0\uc11c 1 \uc0ac\uc774 \uac12\uc744 \uac16\ub294 \ud655\ub960 \ubcc0\uc218\uc5d0 \ub300\ud574 \"\uc218\ud559\uc801\uc73c\ub85c \uae54\ub054\ud558\uac8c\" \ud655\ub960\uc744 \ub9e4\uae38 \uc218 \uc788\ub2e4.\n",
      "* \uadf8\ub807\ub2e4\uace0 \ubaa8\ub4e0 \uacbd\uc6b0\uc758 \uc218\ub97c \ub2e4 \ud45c\ud604\ud560 \uc218 \uc788\ub294 \uac74 \uc544\ub2c8\uc9c0\ub9cc...\n",
      "* **<U>Bayesian update\ub97c \ub9d0\ub3c4 \uc548 \ub418\uac8c \uc27d\uac8c \ud560 \uc218 \uc788\ub2e4! </U>**"
     ]
    },
    {
     "cell_type": "code",
     "collapsed": false,
     "input": [
      "''' building beta distribution '''\n",
      "import numpy as np\n",
      "from scipy.special import beta # beta function\n",
      "\n",
      "def beta_pdf(x, a, b):\n",
      "    return (x**(a-1)) *((1-x)**(b-1)) / (beta(a,b))\n"
     ],
     "language": "python",
     "metadata": {},
     "outputs": [
      {
       "output_type": "stream",
       "stream": "stdout",
       "text": [
        "1.0\n",
        "[ 1.  1.]\n"
       ]
      }
     ],
     "prompt_number": 50
    },
    {
     "cell_type": "code",
     "collapsed": false,
     "input": [
      "x = np.linspace(0,1,200)\n",
      "p = beta_pdf(x,2,2)\n",
      "plt.plot(x,p,'-')\n",
      "plt.title('Beta distribution - Prior density')\n",
      "plt.xlabel('x')\n",
      "plt.ylabel('probability density')"
     ],
     "language": "python",
     "metadata": {},
     "outputs": [
      {
       "metadata": {},
       "output_type": "pyout",
       "prompt_number": 54,
       "text": [
        "<matplotlib.text.Text at 0x7fe4919909d0>"
       ]
      },
      {
       "metadata": {},
       "output_type": "display_data",
       "png": "[encoded data removed]",
       "text": [
        "<matplotlib.figure.Figure at 0x7fe491ebfe10>"
       ]
      }
     ],
     "prompt_number": 54
    },
    {
     "cell_type": "code",
     "collapsed": false,
     "input": [
      "''' a=b=1 gives uniform prior distribution '''\n",
      "a = 1\n",
      "b = 1\n",
      "\n",
      "''' The Bayesian update '''\n",
      "a += 140\n",
      "b += 110\n",
      "x = np.linspace(0,1,200)\n",
      "p = beta_pdf(x,a,b)\n",
      "plt.plot(x,p,'-')\n",
      "plt.title('Beta distribution - Posterior density')\n",
      "plt.xlabel('x')\n",
      "plt.ylabel('probability density')\n",
      "plt.figure()\n",
      "\n",
      "''' comparison to the discrete prior case '''\n",
      "PlotSuites([suite1])\n",
      "kwargs = {'title':'Posterior from Uniform Prior', 'xlabel':'p(%)', 'ylabel':'probability mass'}\n",
      "thinkplot.Show(**kwargs)"
     ],
     "language": "python",
     "metadata": {},
     "outputs": [
      {
       "metadata": {},
       "output_type": "display_data",
       "png": "[encoded data removed]",
       "text": [
        "<matplotlib.figure.Figure at 0x7fe4916d7ed0>"
       ]
      },
      {
       "metadata": {},
       "output_type": "display_data",
       "png": "[encoded data removed]",
       "text": [
        "<matplotlib.figure.Figure at 0x7fe4916c3f10>"
       ]
      }
     ],
     "prompt_number": 58
    },
    {
     "cell_type": "heading",
     "level": 2,
     "metadata": {},
     "source": [
      "Cromwell's Rule"
     ]
    },
    {
     "cell_type": "markdown",
     "metadata": {},
     "source": [
      "### \"Prior\uac12\uc774 0\uc778 \uac00\uc124\uc740 \ub370\uc774\ud130\ub97c \uc544\ubb34\ub9ac \ubcf4\uc544\ub3c4 \ud655\ub960\uc774 0\uc774\ub2e4\n",
      "### \uadf8\ub7ec\ub2c8 \uac00\uae09\uc801 prior \uac12\uc5d0 0\uc774 \ub4e4\uc5b4\uac00\uc9c0 \uc54a\ub3c4\ub85d \uc8fc\uc758\ud558\uc5ec\ub77c...\" - Cromwell"
     ]
    }
   ],
   "metadata": {}
  }
 ]
}