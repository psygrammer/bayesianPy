{
 "metadata": {
  "name": "",
  "signature": "sha256:f1a13be53ce4d721218b9c75ca3958383b962c88f64d4439fb779cb07b17c046"
 },
 "nbformat": 3,
 "nbformat_minor": 0,
 "worksheets": [
  {
   "cells": [
    {
     "cell_type": "heading",
     "level": 1,
     "metadata": {},
     "source": [
      "CHAPTER 1. \ubca0\uc774\uc988 \uc774\ub860"
     ]
    },
    {
     "cell_type": "heading",
     "level": 2,
     "metadata": {},
     "source": [
      "\ubc1c\uc81c\uc790 : \uae40\ubb34\uc131"
     ]
    },
    {
     "cell_type": "markdown",
     "metadata": {},
     "source": [
      "##\ucc28\ub840\n",
      "\n",
      "###1.1 \uc870\uac74\ubd80 \ud655\ub960\n",
      "\n",
      "###1.2 \uacb0\ud569 \ud655\ub960\n",
      "\n",
      "###1.3 \ucfe0\ud0a4 \ubb38\uc81c\n",
      "\n",
      "###1.4 \ubca0\uc774\uc988 \uc774\ub860\n",
      "\n",
      "###1.5 \ud1b5\uc2dc\uc801 \ud574\uc11d\n",
      "\n",
      "###1.6 M&M \ubb38\uc81c\n",
      "\n",
      "###1.7 \ubaac\ud2f0 \ud640 \ubb38\uc81c\n",
      "\n",
      "###1.8 \ud1a0\uc758"
     ]
    },
    {
     "cell_type": "markdown",
     "metadata": {},
     "source": [
      "<img src=\"figure/ab.png\" />\n",
      "\n",
      "<img src=\"figure/bayesAB.png\" style=\"width: 50%;\"/>\n",
      "\n",
      "<img src=\"figure/bayes.png\" style=\"width: 80%;\"/>\n",
      "\n",
      "<img src=\"figure/pp.png\" style=\"width: 80%;\"/>"
     ]
    },
    {
     "cell_type": "heading",
     "level": 2,
     "metadata": {},
     "source": [
      "1.1 \uc870\uac74\ubd80 \ud655\ub960"
     ]
    },
    {
     "cell_type": "heading",
     "level": 1,
     "metadata": {},
     "source": [
      "p(A|B)"
     ]
    },
    {
     "cell_type": "markdown",
     "metadata": {},
     "source": [
      "\n",
      "\n",
      "<img src=\"http://musicetc.wdfiles.com/local--files/conditional-probability/conditional-prob-venn.png\" />\n",
      "\n",
      "<img src=\"http://cfile8.uf.tistory.com/image/115698434FF166D510E6B9\" />\n"
     ]
    },
    {
     "cell_type": "heading",
     "level": 2,
     "metadata": {},
     "source": [
      "1.2 \uacb0\ud569 \ud655\ub960"
     ]
    },
    {
     "cell_type": "markdown",
     "metadata": {},
     "source": [
      "<img src=\"http://farm8.staticflickr.com/7292/11190866836_0ac27b344f_o.jpg\" />\n"
     ]
    },
    {
     "cell_type": "markdown",
     "metadata": {},
     "source": [
      "| <img src='./figure/eq1.2_1.png'/>    |\n",
      "| ------------------------------------ |\n",
      "| <img src='./figure/eq1.2_2.png'/>    | \n",
      "| <img src='./figure/eq1.2_3.png'/>    |\n",
      "| <img src='./figure/eq1.2_4.png'/>    |"
     ]
    },
    {
     "cell_type": "markdown",
     "metadata": {},
     "source": [
      "<img src=\"figure/ab.png\" />"
     ]
    },
    {
     "cell_type": "heading",
     "level": 2,
     "metadata": {},
     "source": [
      "1.3 \ucfe0\ud0a4 \ubb38\uc81c"
     ]
    },
    {
     "cell_type": "raw",
     "metadata": {},
     "source": [
      "\uadf8\ub987 1 : \ubc14\ub2d0\ub77c 30, \ucd08\ucf5c\ub9bf 10\n",
      "\uadf8\ub987 2 : \ubc14\ub2d0\ub77c 20, \ucd08\ucf5c\ub9bf 20"
     ]
    },
    {
     "cell_type": "markdown",
     "metadata": {},
     "source": [
      "| <img src='./figure/eq1.3_1.png'/>    |\n",
      "| ------------------------------------ |\n",
      "| <img src='./figure/eq1.3_2.png'/>    | "
     ]
    },
    {
     "cell_type": "heading",
     "level": 2,
     "metadata": {},
     "source": [
      "1.4 \ubca0\uc774\uc988 \uc774\ub860"
     ]
    },
    {
     "cell_type": "markdown",
     "metadata": {},
     "source": [
      "| <img src='./figure/eq1.4_1.png'/>    |\n",
      "| ------------------------------------ |\n",
      "| <img src='./figure/eq1.4_2.png'/>    | \n",
      "| <img src='./figure/eq1.4_3.png'/>    |\n",
      "| <img src='./figure/eq1.4_4.png'/>    |\n",
      "| <img src='./figure/eq1.4_5.png'/>    | \n",
      "| <img src='./figure/eq1.4_6.png'/>    |\n",
      "| <img src='./figure/eq1.4_7.png'/>    |\n",
      "| <img src='./figure/eq1.4_8.png'/>    | \n",
      "| <img src='./figure/eq1.4_9.png'/>    |"
     ]
    },
    {
     "cell_type": "heading",
     "level": 2,
     "metadata": {},
     "source": [
      "1.5 \ud1b5\uc2dc\uc801 \ud574\uc11d"
     ]
    },
    {
     "cell_type": "markdown",
     "metadata": {},
     "source": [
      "| <img src='./figure/eq1.5_1.png'/>    |\n",
      "| ------------------------------------ |\n",
      "| <img src='./figure/eq1.5_2.png'/>    | \n",
      "| <img src='./figure/eq1.5_3.png'/>    |\n",
      "| <img src='./figure/eq1.5_4.png'/>    |\n",
      "| <img src='./figure/eq1.5_5.png'/>    | \n",
      "| <img src='./figure/eq1.5_6.png'/>    |\n",
      "| <img src='./figure/eq1.5_7.png'/>    |"
     ]
    },
    {
     "cell_type": "heading",
     "level": 2,
     "metadata": {},
     "source": [
      "1.6 M&M \ubb38\uc81c"
     ]
    },
    {
     "cell_type": "raw",
     "metadata": {},
     "source": [
      "1994 : \uac08\uc0c9 30%, \ub178\ub791 20%, \ube68\uac15 20%, \ub179\uc0c9 10%, \uc8fc\ud669 10%, \ud669\uac08\uc0c9 10%\n",
      "1996 : \ud30c\ub791 24%, \ub179\uc0c9 20%, \uc8fc\ud669 16%, \ub178\ub791 14%, \ube68\uac15 13%, \uac08\uc0c9 13%\n",
      "\n",
      "\ud558\ub098 \ub178\ub791 (\ubd09\uc9c0 1), \ud558\ub098 \ub179\uc0c9 (\ubd09\uc9c0 2)\n",
      "A : \ubd09\uc9c0 1 - 1994, \ubd09\uc9c0 2 - 1996\n",
      "B : \ubd09\uc9c0 1 - 1996, \ubd09\uc9c0 2 - 1994"
     ]
    },
    {
     "cell_type": "markdown",
     "metadata": {},
     "source": [
      "|     | p(H) | p(D\\H) | p(H)p(D\\H) | p(H\\D)| \n",
      "| --- | -----|--------|------------|-------|\n",
      "|  A  |      |        |            |       |\n",
      "|  B  |      |        |            |       |"
     ]
    },
    {
     "cell_type": "markdown",
     "metadata": {},
     "source": [
      "<img src='./figure/tbl1.6.png'/>    "
     ]
    },
    {
     "cell_type": "heading",
     "level": 2,
     "metadata": {},
     "source": [
      "1.7 \ubaac\ud2f0 \ud640 \ubb38\uc81c"
     ]
    },
    {
     "cell_type": "markdown",
     "metadata": {},
     "source": [
      "|     | p(H) | p(D\\H) | p(H)p(D\\H) | p(H\\D)| \n",
      "| --- | -----|--------|------------|-------|\n",
      "|  A  |      |        |            |       |\n",
      "|  B  |      |        |            |       |\n",
      "|  C  |      |        |            |       |"
     ]
    },
    {
     "cell_type": "markdown",
     "metadata": {},
     "source": [
      "| <img src='./figure/tbl1.7_1.png'/>    |\n",
      "| ------------------------------------ |\n",
      "| <img src='./figure/tbl1.7_2.png'/>    | "
     ]
    }
   ],
   "metadata": {}
  }
 ]
}