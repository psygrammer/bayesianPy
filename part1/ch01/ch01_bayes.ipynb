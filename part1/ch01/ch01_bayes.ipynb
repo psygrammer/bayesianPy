{
 "cells": [
  {
   "cell_type": "markdown",
   "metadata": {},
   "source": [
    "# CHAPTER 1. 베이즈 이론"
   ]
  },
  {
   "cell_type": "markdown",
   "metadata": {},
   "source": [
    "## 발제자 : 김무성"
   ]
  },
  {
   "cell_type": "markdown",
   "metadata": {},
   "source": [
    "##차례\n",
    "\n",
    "###1.1 조건부 확률\n",
    "\n",
    "###1.2 결합 확률\n",
    "\n",
    "###1.3 쿠키 문제\n",
    "\n",
    "###1.4 베이즈 이론\n",
    "\n",
    "###1.5 통시적 해석\n",
    "\n",
    "###1.6 M&M 문제\n",
    "\n",
    "###1.7 몬티 홀 문제\n",
    "\n",
    "###1.8 토의"
   ]
  },
  {
   "cell_type": "markdown",
   "metadata": {},
   "source": [
    "<img src=\"figure/ab.png\" />\n",
    "\n",
    "<img src=\"figure/bayesAB.png\" style=\"width: 50%;\"/>\n",
    "\n",
    "<img src=\"figure/bayes.png\" style=\"width: 80%;\"/>\n",
    "\n",
    "<img src=\"figure/pp.png\" style=\"width: 80%;\"/>"
   ]
  },
  {
   "cell_type": "markdown",
   "metadata": {},
   "source": [
    "## 1.1 조건부 확률"
   ]
  },
  {
   "cell_type": "markdown",
   "metadata": {},
   "source": [
    "# p(A|B)"
   ]
  },
  {
   "cell_type": "markdown",
   "metadata": {},
   "source": [
    "\n",
    "\n",
    "<img src=\"http://musicetc.wdfiles.com/local--files/conditional-probability/conditional-prob-venn.png\" />\n",
    "\n",
    "<img src=\"http://cfile8.uf.tistory.com/image/115698434FF166D510E6B9\" />\n"
   ]
  },
  {
   "cell_type": "markdown",
   "metadata": {},
   "source": [
    "## 1.2 결합 확률"
   ]
  },
  {
   "cell_type": "markdown",
   "metadata": {},
   "source": [
    "<img src=\"http://farm8.staticflickr.com/7292/11190866836_0ac27b344f_o.jpg\" />\n"
   ]
  },
  {
   "cell_type": "markdown",
   "metadata": {},
   "source": [
    "| <img src='./figure/eq1.2_1.png'/>    |\n",
    "| ------------------------------------ |\n",
    "| <img src='./figure/eq1.2_2.png'/>    | \n",
    "| <img src='./figure/eq1.2_3.png'/>    |\n",
    "| <img src='./figure/eq1.2_4.png'/>    |"
   ]
  },
  {
   "cell_type": "markdown",
   "metadata": {},
   "source": [
    "<img src=\"figure/ab.png\" />"
   ]
  },
  {
   "cell_type": "markdown",
   "metadata": {},
   "source": [
    "## 1.3 쿠키 문제"
   ]
  },
  {
   "cell_type": "raw",
   "metadata": {},
   "source": [
    "그릇 1 : 바닐라 30, 초콜릿 10\n",
    "그릇 2 : 바닐라 20, 초콜릿 20"
   ]
  },
  {
   "cell_type": "markdown",
   "metadata": {},
   "source": [
    "| <img src='./figure/eq1.3_1.png'/>    |\n",
    "| ------------------------------------ |\n",
    "| <img src='./figure/eq1.3_2.png'/>    | "
   ]
  },
  {
   "cell_type": "markdown",
   "metadata": {},
   "source": [
    "## 1.4 베이즈 이론"
   ]
  },
  {
   "cell_type": "markdown",
   "metadata": {},
   "source": [
    "| <img src='./figure/eq1.4_1.png'/>    |\n",
    "| ------------------------------------ |\n",
    "| <img src='./figure/eq1.4_2.png'/>    | \n",
    "| <img src='./figure/eq1.4_3.png'/>    |\n",
    "| <img src='./figure/eq1.4_4.png'/>    |\n",
    "| <img src='./figure/eq1.4_5.png'/>    | \n",
    "| <img src='./figure/eq1.4_6.png'/>    |\n",
    "| <img src='./figure/eq1.4_7.png'/>    |\n",
    "| <img src='./figure/eq1.4_8.png'/>    | \n",
    "| <img src='./figure/eq1.4_9.png'/>    |"
   ]
  },
  {
   "cell_type": "markdown",
   "metadata": {},
   "source": [
    "## 1.5 통시적 해석"
   ]
  },
  {
   "cell_type": "markdown",
   "metadata": {},
   "source": [
    "| <img src='./figure/eq1.5_1.png'/>    |\n",
    "| ------------------------------------ |\n",
    "| <img src='./figure/eq1.5_2.png'/>    | \n",
    "| <img src='./figure/eq1.5_3.png'/>    |\n",
    "| <img src='./figure/eq1.5_4.png'/>    |\n",
    "| <img src='./figure/eq1.5_5.png'/>    | \n",
    "| <img src='./figure/eq1.5_6.png'/>    |\n",
    "| <img src='./figure/eq1.5_7.png'/>    |"
   ]
  },
  {
   "cell_type": "markdown",
   "metadata": {},
   "source": [
    "## 1.6 M&M 문제"
   ]
  },
  {
   "cell_type": "raw",
   "metadata": {},
   "source": [
    "1994 : 갈색 30%, 노랑 20%, 빨강 20%, 녹색 10%, 주황 10%, 황갈색 10%\n",
    "1996 : 파랑 24%, 녹색 20%, 주황 16%, 노랑 14%, 빨강 13%, 갈색 13%\n",
    "\n",
    "하나 노랑 (봉지 1), 하나 녹색 (봉지 2)\n",
    "A : 봉지 1 - 1994, 봉지 2 - 1996\n",
    "B : 봉지 1 - 1996, 봉지 2 - 1994"
   ]
  },
  {
   "cell_type": "markdown",
   "metadata": {},
   "source": [
    "|     | p(H) | p(D\\H) | p(H)p(D\\H) | p(H\\D)| \n",
    "| --- | -----|--------|------------|-------|\n",
    "|  A  |      |        |            |       |\n",
    "|  B  |      |        |            |       |"
   ]
  },
  {
   "cell_type": "markdown",
   "metadata": {},
   "source": [
    "<img src='./figure/tbl1.6.png'/>    "
   ]
  },
  {
   "cell_type": "markdown",
   "metadata": {},
   "source": [
    "## 1.7 몬티 홀 문제"
   ]
  },
  {
   "cell_type": "markdown",
   "metadata": {},
   "source": [
    "|     | p(H) | p(D\\H) | p(H)p(D\\H) | p(H\\D)| \n",
    "| --- | -----|--------|------------|-------|\n",
    "|  A  |      |        |            |       |\n",
    "|  B  |      |        |            |       |\n",
    "|  C  |      |        |            |       |"
   ]
  },
  {
   "cell_type": "markdown",
   "metadata": {},
   "source": [
    "| <img src='./figure/tbl1.7_1.png'/>    |\n",
    "| ------------------------------------ |\n",
    "| <img src='./figure/tbl1.7_2.png'/>    | "
   ]
  }
 ],
 "metadata": {
  "kernelspec": {
   "display_name": "Python 2",
   "language": "python",
   "name": "python2"
  },
  "language_info": {
   "codemirror_mode": {
    "name": "ipython",
    "version": 2
   },
   "file_extension": ".py",
   "mimetype": "text/x-python",
   "name": "python",
   "nbconvert_exporter": "python",
   "pygments_lexer": "ipython2",
   "version": "2.7.6"
  }
 },
 "nbformat": 4,
 "nbformat_minor": 0
}
