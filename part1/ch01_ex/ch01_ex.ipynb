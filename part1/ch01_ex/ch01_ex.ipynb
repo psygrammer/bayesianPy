{
 "metadata": {
  "name": "",
  "signature": "sha256:9ca15cbf60722539bf238a8a6c1302b41dbec5d849f75b0e39f1d57dd1de8766"
 },
 "nbformat": 3,
 "nbformat_minor": 0,
 "worksheets": [
  {
   "cells": [
    {
     "cell_type": "heading",
     "level": 1,
     "metadata": {},
     "source": [
      "ch01 \ubca0\uc774\uc988 \uc774\ub860 \uad00\ub828 \ubb38\uc81c "
     ]
    },
    {
     "cell_type": "heading",
     "level": 2,
     "metadata": {},
     "source": [
      "\ubc1c\ud45c\uc790 : \ucd5c\uc815\uc6d0"
     ]
    },
    {
     "cell_type": "code",
     "collapsed": false,
     "input": [
      "def calculate(ll,prob_smoke):\n",
      "    prob_smoke = float(prob_smoke)    \n",
      "    ll = float(ll)\n",
      "    prob = float(ll*prob_smoke)/(ll*prob_smoke+1-prob_smoke)\n",
      "    return prob"
     ],
     "language": "python",
     "metadata": {},
     "outputs": [],
     "prompt_number": 2
    },
    {
     "cell_type": "code",
     "collapsed": false,
     "input": [
      "ll = 0.9\n",
      "prob_smoke = 0.3\n",
      "print \"%.2f\" % calculate(ll,prob_smoke)"
     ],
     "language": "python",
     "metadata": {},
     "outputs": [
      {
       "output_type": "stream",
       "stream": "stdout",
       "text": [
        "0.28\n"
       ]
      }
     ],
     "prompt_number": 3
    }
   ],
   "metadata": {}
  }
 ]
}