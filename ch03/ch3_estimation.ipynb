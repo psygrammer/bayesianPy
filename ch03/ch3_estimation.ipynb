{
 "metadata": {
  "name": "",
  "signature": "sha256:52749ae9fc2f2a14f83c20899f9b4a091a1ebea0785130f1b7826262fed74188"
 },
 "nbformat": 3,
 "nbformat_minor": 0,
 "worksheets": [
  {
   "cells": [
    {
     "cell_type": "heading",
     "level": 1,
     "metadata": {},
     "source": [
      "chapter 3. estimation \ucd94\uc815 1"
     ]
    },
    {
     "cell_type": "code",
     "collapsed": false,
     "input": [
      "# -*- coding: utf-8 -*-\n",
      "\n",
      "# \uc774\ubc88\ucc55\ud130\uc5d0 \uc0ac\uc6a9\ub420 \uc720\ud2f8 \ud074\ub798\uc2a4\n",
      "from thinkbayes import Suite\n",
      "\n",
      "class Dice(Suite):\n",
      "    \"\"\"Represents hypotheses about which die was rolled.\"\"\"\n",
      "\n",
      "    # \uc6b0\ub3c4 \uacc4\uc0b0 \ud568\uc218. \ub370\uc774\ud130\ub85c \ub098\uc628 \uc22b\uc790\uac00 \uc8fc\uc0ac\uc704\ubcf4\ub2e4 \ud06c\uba74 \ud655\ub960=0, \uc544\ub2c8\uba74 1/\ub208\uc758\uc218\n",
      "    def Likelihood(self, data, hypo):\n",
      "        \"\"\"Computes the likelihood of the data under the hypothesis.\n",
      "\n",
      "        hypo: integer number of sides on the die\n",
      "        data: integer die roll\n",
      "        \"\"\"\n",
      "        if hypo < data:\n",
      "            return 0\n",
      "        else:\n",
      "            return 1.0/hypo"
     ],
     "language": "python",
     "metadata": {},
     "outputs": [],
     "prompt_number": 1
    },
    {
     "cell_type": "heading",
     "level": 2,
     "metadata": {},
     "source": [
      "3.1 \uc8fc\uc0ac\uc704 \ubb38\uc81c"
     ]
    },
    {
     "cell_type": "markdown",
     "metadata": {},
     "source": [
      "4\uba74\uccb4, 6\uba74\uccb4, 8\uba74\uccb4, 12\uba74\uccb4, 20\uba74\uccb4 \ucd1d 5\uac1c \uc8fc\uc0ac\uc704\uac00 \ub4e0 \uc0c1\uc790\uac00 \uc788\ub2e4.\n",
      "\n",
      "\ub79c\ub364\ud558\uac8c \ud558\ub098\ub97c \uc9d1\uc5b4\uc11c \ub358\uc84c\ub354\ub2c8 \uc8fc\uc0ac\uc704 \ub208\uc774 6 \uc774\uc600\ub2e4. \uac01 \uc8fc\uc0ac\uc704\uc77c \ud655\ub960\uc740??"
     ]
    },
    {
     "cell_type": "markdown",
     "metadata": {},
     "source": [
      "**\uc811\uadfc \ubc29\ubc95**\n",
      "\n",
      "1. \uac00\uc124\uc744 \ub098\ud0c0\ub0b4\uc790.\n",
      "\n",
      "2. \ub370\uc774\ud130\ub97c \ub098\ud0c0\ub0b4\uc790.\n",
      "\n",
      "3. \uc6b0\ub3c4 \ud568\uc218\ub97c \uc791\uc131\ud558\uc790. "
     ]
    },
    {
     "cell_type": "markdown",
     "metadata": {},
     "source": [
      "\uc5ec\uae30\uc11c \uac00\uc124\uc758 \uc885\ub958\ub294 \uc8fc\uc0ac\uc704 \uac2f\uc218\uc778 5\uac00\uc9c0\uc774\ub2e4. \n",
      "\n",
      "\uc27d\uac8c 4, 6, 8, 12, 20 **\uac00\uc124**\ub85c \ud45c\ud604\ud558\uc790.\n",
      "\n",
      "\uadf8\ub9ac\uace0 **\ub370\uc774\ud130**\ub294 1~20\uac00\uc9c0\uc758 \uc22b\uc790\uac00 \ub41c\ub2e4. "
     ]
    },
    {
     "cell_type": "code",
     "collapsed": false,
     "input": [
      "# \uac00\uc124 \ub4f1\ub85d\n",
      "suite = Dice([4, 6, 8, 12, 20])\n",
      "\n",
      "# \uc8fc\uc0ac\uc704\ub208 6\uc774 \ub098\uc654\uc744\ub54c, \uac31\uc2e0 \ucf54\ub4dc \n",
      "suite.Update(6)"
     ],
     "language": "python",
     "metadata": {},
     "outputs": [
      {
       "metadata": {},
       "output_type": "pyout",
       "prompt_number": 2,
       "text": [
        "0.08500000000000002"
       ]
      }
     ],
     "prompt_number": 2
    },
    {
     "cell_type": "code",
     "collapsed": false,
     "input": [
      "sorted(suite.Items(), key=lambda (theta, prob): theta)"
     ],
     "language": "python",
     "metadata": {},
     "outputs": [
      {
       "metadata": {},
       "output_type": "pyout",
       "prompt_number": 3,
       "text": [
        "[(4, 0.0),\n",
        " (6, 0.3921568627450979),\n",
        " (8, 0.2941176470588235),\n",
        " (12, 0.19607843137254896),\n",
        " (20, 0.11764705882352941)]"
       ]
      }
     ],
     "prompt_number": 3
    },
    {
     "cell_type": "markdown",
     "metadata": {},
     "source": [
      "\ud574\uc11d\ud574\ubcf4\uc790\uba74, \n",
      "\n",
      "\ub370\uc774\ud130\ub85c \ub098\uc628 \uc8fc\uc0ac\uc704\ub208\uc774 6\uc784\uc73c\ub85c \n",
      "\n",
      "4\uba74\uccb4\ub294 \ub098\uc62c \uc218\uac00 \uc5c6\uc5b4\uc11c \ud655\ub960\uc774 0 \uc774\ub418\uace0,\n",
      "\n",
      "\ub098\uba38\uc9c0\ub294 \uc790\uc2e0\uc774 \uac00\uc9c4 \ub208\uc758 \uac2f\uc218\ub300\ub85c n \ub4f1\ubd84\ud55c \uac12\uc774 \ub418\uc5b4 \ub098\uc654\ub2e4."
     ]
    },
    {
     "cell_type": "code",
     "collapsed": false,
     "input": [
      "#\uba87\ubc88 \ub354 \ub358\uc838\uc11c \ub370\uc774\ud130\ub85c 6, 8, 7, 7, 5, 4 \uac00 \ub098\uc654\ub2e4\uba74.\n",
      "for roll in [6, 8, 7, 7, 5, 4]:\n",
      "    suite.Update(roll)\n",
      "    \n",
      "sorted(suite.Items(), key=lambda (theta, prob): theta)"
     ],
     "language": "python",
     "metadata": {},
     "outputs": [
      {
       "metadata": {},
       "output_type": "pyout",
       "prompt_number": 4,
       "text": [
        "[(4, 0.0),\n",
        " (6, 0.0),\n",
        " (8, 0.9432484536722127),\n",
        " (12, 0.055206128061290875),\n",
        " (20, 0.001545418266496554)]"
       ]
      }
     ],
     "prompt_number": 4
    },
    {
     "cell_type": "markdown",
     "metadata": {},
     "source": [
      "\uacb0\uacfc\uc801\uc73c\ub85c \uc704\uc640 \uac19\uc740 \ub370\uc774\ud130\uac00 \ub098\uc624\uac8c \ud558\ub294 \uac00\uc7a5 \ub192\uc740 \ud655\ub960\uc740 8\uba74\uccb4 \uc8fc\uc0ac\uc704\uc774\ub2e4."
     ]
    },
    {
     "cell_type": "markdown",
     "metadata": {},
     "source": [
      "---"
     ]
    },
    {
     "cell_type": "heading",
     "level": 2,
     "metadata": {},
     "source": [
      "3.2 \uae30\uad00\ucc28 \ubb38\uc81c"
     ]
    },
    {
     "cell_type": "markdown",
     "metadata": {},
     "source": [
      "\ud504\ub808\ub4dc\ub9ad \ubaa8\uc2a4\ud154\ub7ec\uc758 \ud655\ub960 \uace0\uae09\ubb38\uc81c 50\uc120\uc5d0 \ub098\uc624\ub294 \uae30\uad00\ucc28 \ubb38\uc81c\n",
      "\n",
      "\"\uac01 \ucca0\ub3c4\uc5d0\ub294 \uc774\ub97c \uc9c0\ub098\uac00\ub294 \uae30\uad00\ucc28\uc5d0 1\ubd80\ud130 N\uae4c\uc9c0\uc758 \uc21c\uc11c\ub85c \ubc88\ud638\ub97c \ubd99\uc778\ub2e4. \uc5b4\ub290 \ub0a0 60\ud638 \uae30\uad00\ucc28\ub97c \ubcf4\uc558\ub2e4. \uc774 \ub54c \uc774 \ucca0\ub3c4\uc5d0\ub294 \uba87 \uac1c\uc758 \uae30\uad00\ucc28\uac00 \uc9c0\ub098\uac00\ub294\uc9c0 \ucd94\uce21\ud574\ubcf4\uc790.\""
     ]
    },
    {
     "cell_type": "markdown",
     "metadata": {},
     "source": [
      "\ubca0\uc774\uc9c0\uc548 \ucd94\ub860\ubc95\uc5d0 \uc758\ud558\uba74 \uc774\ub7f0 \ubb38\uc81c\ub294 2\ub2e8\uacc4\ub97c \uac70\uce5c\ub2e4.\n",
      "\n",
      "1. \ub370\uc774\ud130\ub97c \ubcf4\uae30 \uc804\uc5d0 N \uc5d0 \ub300\ud574\uc11c \uc54c\uace0 \uc788\ub294 \uac83\uc740 \ubb34\uc5c7\uc778\uac00?\n",
      "\n",
      "2. N \uc5d0 \uc5b4\ub5a4 \uac12\uc774 \uc8fc\uc5b4\uc84c\uc744 \ub54c \uad00\uce21\ud55c \ub370\uc774\ud130(60\ud638 \uae30\uad00\ucc28) \uc758 \uc6b0\ub3c4\ub294 \uc5b4\ub5bb\uac8c \ub418\ub294\uac00?\n",
      "\n",
      "\uccab\ubc88\uc9f8 \uc9c8\ubb38\uc740 \uc0ac\uc804\ud655\ub960, \ub450\ubc88\uc9f8 \uc9c8\ubb38\uc740 \uc6b0\ub3c4\uc5d0 \uad00\ud55c \uac83\uc774\ub2e4."
     ]
    },
    {
     "cell_type": "markdown",
     "metadata": {},
     "source": [
      "\uc774 \ubb38\uc81c\ub294 \uc0ac\uc804 \ud655\ub960\uc744 \uc120\ud0dd\ud558\uae30\uc5d0 \uadfc\uac70\uac00 \ubd80\uc871\ud558\uc9c0\ub9cc, \uac04\ub2e8\ud55c \uac00\uc815\uc73c\ub85c \uc124\uc815\ud574\ubcf4\uc790. \n",
      "\n",
      "N \uc740 1 ~ 1000 \uc774 \ub3d9\uc77c\ud55c \ud655\ub960\ub85c \uc120\ud0dd\ub420 \uc218 \uc788\ub2e4\uace0 \ud558\uc790."
     ]
    },
    {
     "cell_type": "code",
     "collapsed": false,
     "input": [
      "hypos = xrange(1, 1001)"
     ],
     "language": "python",
     "metadata": {},
     "outputs": [],
     "prompt_number": 5
    },
    {
     "cell_type": "markdown",
     "metadata": {},
     "source": [
      "\uc6b0\ub3c4 \ud568\uc218\ub97c \ub9cc\ub4e4\uc5b4 \ubcf4\uc790. \n",
      "\n",
      "N \uac1c \uae30\uad00\ucc28 \uc911, 60\ud638 \uae30\uad00\ucc28\ub97c \ubcfc \ud655\ub960\uc740 \uc5bc\ub9c8\uc778\uac00?"
     ]
    },
    {
     "cell_type": "code",
     "collapsed": false,
     "input": [
      "class Train(Suite):\n",
      "    def Likelihood(self, data, hypo):\n",
      "        if hypo < data:\n",
      "            return 0\n",
      "        else:\n",
      "            return 1.0/hypo"
     ],
     "language": "python",
     "metadata": {},
     "outputs": [],
     "prompt_number": 6
    },
    {
     "cell_type": "code",
     "collapsed": false,
     "input": [
      "# \uac00\uc124 \ub4f1\ub85d\n",
      "suite = Train(hypos)\n",
      "\n",
      "# \ub370\uc774\ud130 \uc801\uc6a9 (60\ud638 \uae30\uad00\ucc28)\n",
      "suite.Update(60)"
     ],
     "language": "python",
     "metadata": {},
     "outputs": [
      {
       "metadata": {},
       "output_type": "pyout",
       "prompt_number": 7,
       "text": [
        "0.0028222671142652746"
       ]
      }
     ],
     "prompt_number": 7
    },
    {
     "cell_type": "code",
     "collapsed": false,
     "input": [
      "# \uac00\uc124\uc774 1000\uac1c \uc784\uc73c\ub85c \uadf8\ub798\ud504\ub85c \uc0b4\ud3b4\ubcf4\uc790. \n",
      "import matplotlib.pyplot as plt\n",
      "\n",
      "xy = suite.Items()\n",
      "xs, ys = zip(*xy)\n",
      "\n",
      "plt.plot(xs, ys)\n",
      "plt.show()"
     ],
     "language": "python",
     "metadata": {},
     "outputs": [
      {
       "metadata": {},
       "output_type": "display_data",
       "png": "[encoded data removed]",
       "text": [
        "<matplotlib.figure.Figure at 0x1131c5c90>"
       ]
      }
     ],
     "prompt_number": 8
    },
    {
     "cell_type": "markdown",
     "metadata": {},
     "source": [
      "\ud574\uc11d\ud574\ubcf4\uc790\uba74, \n",
      "\n",
      "\ub2f9\uc5f0\ud788 60\uac1c \ubbf8\ub9cc\uc778 \uacbd\uc6b0\uc5d0\uc11c 60\ud638 \uae30\uad00\ucc28\ub97c \ubcfc \uc218 \uc5c6\uc73c\ubbc0\ub85c \ud655\ub960\uc740 0.\n",
      "\n",
      "\ub098\uba38\uc9c0\ub294 1/N \ub85c \ud655\ub960\uc774 \uc801\uc6a9\ub418\uc5c8\ub2e4.\n",
      "\n",
      "\uadf8\ub7ec\uba74 60\ud638\uae4c\uc9c0 \uc788\ub294 N \uc758 \ud655\ub960\uc774 \uac00\uc7a5 \ub192\uc740\ub370... \uc6d0\ud558\ub294 \uac83\uc740 \uc774\uac83\uc774 \uc544\ub2d0\uac83\uc774\ub2e4.\n",
      "\n",
      "\uc0ac\ud6c4 \ud655\ub960\uc758 \ud3c9\uade0\uc744 \uacc4\uc0b0\ud574\ubcf4\uc790.\n"
     ]
    },
    {
     "cell_type": "code",
     "collapsed": false,
     "input": [
      "def Mean(suite):\n",
      "    total = 0\n",
      "    for hypo, prob in suite.Items():\n",
      "        total += hypo * prob\n",
      "    return total\n",
      "    \n",
      "print Mean(suite)\n",
      "# suite \ud074\ub798\uc2a4 \ub0b4\uc5d0 \uc774\ubbf8 \uad6c\ud604\ub418\uc5b4 \uc788\ub2e4.\n",
      "print suite.Mean()"
     ],
     "language": "python",
     "metadata": {},
     "outputs": [
      {
       "output_type": "stream",
       "stream": "stdout",
       "text": [
        "333.419893264\n",
        "333.419893264\n"
       ]
      }
     ],
     "prompt_number": 9
    },
    {
     "cell_type": "markdown",
     "metadata": {},
     "source": [
      "\uc0ac\ud6c4 \ud3c9\uade0\uc740 333\uc774\ubbc0\ub85c \uc624\ucc28\ub97c \ucd5c\uc18c\ud654 \ud558\uc790\uba74 \uc798 \ucd94\uce21\ud55c \uac83\uc774\ub2e4. \n",
      "\n",
      "\uc2a4\ubb34\uace0\uac1c \uacc4\uc18d\ud558\uba74 \uc0ac\ud6c4 \ud3c9\uade0\uc744 \uc0ac\uc6a9\ud574 \uc7a5\uae30\uc801 \uad00\uc810\uc5d0\uc11c\uc758 \ud3c9\uade0\uc81c\uacf1 \uc624\ucc28\ub97c \ucd5c\uc18c\ud654 \ud560 \uc218 \uc788\uc744 \uac83\uc774\ub2e4."
     ]
    },
    {
     "cell_type": "markdown",
     "metadata": {},
     "source": [
      "---"
     ]
    },
    {
     "cell_type": "heading",
     "level": 2,
     "metadata": {},
     "source": [
      "3.3 \uc0ac\uc804 \ud655\ub960\ub85c \ud560 \uc218 \uc788\ub294 \uac83"
     ]
    },
    {
     "cell_type": "markdown",
     "metadata": {},
     "source": [
      "\uae30\uad00\ucc28 \ubb38\uc81c \uc544\uc9c1 \uc548\ub05d\ub0ac\ub2e4.\n",
      "\n",
      "\uc55e\uc5d0\uc11c \uc6b0\ub9ac\ub294 \uae30\uad00\ucc28\uc758 \uac1c\uc218 N \uc744 1 ~ 1000 \uac1c\ub85c \uc815\ud574\ub193\uace0 \ud480\uc5c8\uc5c8\ub2e4. \n",
      "\n",
      "\ud558\uc9c0\ub9cc, \uc0ac\ub78c\ub9c8\ub2e4 \ucca0\ub3c4 \ud68c\uc0ac\uc5d0 \uae30\ucc28\ub97c 1000\ub300\ubcf4\ub2e4 \ub9ce\uac8c, \ub610\ub294 \uc801\uac8c \ucd94\uce21\ud560 \uac83\uc774\ub2e4. \n",
      "\n",
      "\uc55e\uc11c 1~1000 \uae4c\uc9c0 \ubc94\uc704\uc5d0\uc11c \uc0ac\ud6c4\ud655\ub960 \ud3c9\uade0\uc740 333 \uc774\uc600\ub294\ub370,\n",
      "\n",
      "\uc0c1\ud55c\uac12\uc774 500 \uc774\ub77c\uba74 207 \uc774\uace0,\n",
      "\n",
      "\uc0c1\ud55c\uac12\uc774 2000 \uc774\ub77c\uba74 552 \uac00 \ub420 \uac83\uc774\ub2e4.\n",
      "\n",
      "\uacb0\uacfc\uc801\uc73c\ub85c \uc784\uc758\ub85c \uc815\ud55c \uae30\uad00\ucc28\uc758 \uc0c1\ud55c\uac12\uc5d0 \ubbfc\uac10\ud558\uac8c \ubc18\uc751\ud55c\ub2e4. (\ub2f9\uc5f0\ud788 \uad00\ucc30 \ud69f\uc218\uac00 1\ubc88\uc774\ub2c8)\n"
     ]
    },
    {
     "cell_type": "code",
     "collapsed": false,
     "input": [
      "suite500 = Train(xrange(1, 501))\n",
      "suite1000 = Train(xrange(1, 1001))\n",
      "suite2000 = Train(xrange(1, 2001))\n",
      "\n",
      "suite500.Update(60)\n",
      "suite1000.Update(60)\n",
      "suite2000.Update(60)\n",
      "\n",
      "print suite500.Mean()\n",
      "print suite1000.Mean()\n",
      "print suite2000.Mean()"
     ],
     "language": "python",
     "metadata": {},
     "outputs": [
      {
       "output_type": "stream",
       "stream": "stdout",
       "text": [
        "207.079227983\n",
        "333.419893264\n",
        "552.179017165\n"
       ]
      }
     ],
     "prompt_number": 10
    },
    {
     "cell_type": "markdown",
     "metadata": {},
     "source": [
      "\uadf8\ub807\ub2e4\uba74!!!\n",
      "\n",
      "\uc774\ud6c4 **\ub450\uac00\uc9c0 \ubc29\uc2dd**\uc73c\ub85c \uc9c4\ud589\ud560 \uc218 \uc788\ub2e4.\n",
      "\n",
      "**1. \ub370\uc774\ud130\ub97c \ub354 \ud655\ubcf4\ud560 \uac83**\n",
      "\n",
      "**2. \ubc30\uacbd\uc9c0\uc2dd\uc744 \ub354 \ud655\ubcf4\ud560 \uac83**"
     ]
    },
    {
     "cell_type": "markdown",
     "metadata": {},
     "source": [
      "\ub370\uc774\ud130\ub97c \ub354 \ud655\ubcf4\ud558\uba74 \uc804\uccb4\uc801\uc73c\ub85c \uc218\ub834\ud558\ub294 \uacbd\ud5a5\uc744 \ubcf4\uc778\ub2e4.\n",
      "\n",
      "60\ud638 \uae30\uad00\ucc28\uc5d0 \uc774\uc5b4, 30\ud638, 90\ud638 \uae30\uad00\ucc28\ub97c \uad00\uce21\ud588\ub2e4\uace0 \ud574\ubcf4\uc790."
     ]
    },
    {
     "cell_type": "code",
     "collapsed": false,
     "input": [
      "for suite in [suite500, suite1000, suite2000]:\n",
      "    # 60\ud638\uc5d0 \uc774\uc5b4\uc11c 30\ud638, 90\ud638 \uad00\uce21!\n",
      "    for data in [30, 90]:\n",
      "        suite.Update(data)\n",
      "    \n",
      "print suite500.Mean()\n",
      "print suite1000.Mean()\n",
      "print suite2000.Mean()"
     ],
     "language": "python",
     "metadata": {},
     "outputs": [
      {
       "output_type": "stream",
       "stream": "stdout",
       "text": [
        "151.849587959\n",
        "164.305586423\n",
        "171.338181092\n"
       ]
      }
     ],
     "prompt_number": 11
    },
    {
     "cell_type": "markdown",
     "metadata": {},
     "source": [
      "---"
     ]
    },
    {
     "cell_type": "heading",
     "level": 2,
     "metadata": {},
     "source": [
      "3.4 \uc0ac\uc804 \ud655\ub960\uc758 \ub300\uc548"
     ]
    },
    {
     "cell_type": "markdown",
     "metadata": {},
     "source": [
      "\ud558\uc9c0\ub9cc, \ub370\uc774\ud130\ub97c \ub354 \ud655\ubcf4\ud560 \uc218 \uc5c6\ub2e4\uba74,\n",
      "\n",
      "**'\ubc30\uacbd\uc9c0\uc2dd'**\uc744 \ub354 \ub9ce\uc774 \uc218\uc9d1\ud574\uc11c **'\uc0ac\uc804 \ud655\ub960\uc744 \uac1c\uc120'**\ud558\ub294 \ubc29\ubc95\uc774 \uc788\ub2e4."
     ]
    },
    {
     "cell_type": "markdown",
     "metadata": {},
     "source": [
      "\ud68c\uc0ac\uc758 \uc77c\ubc18\uc801\uc778 \uaddc\ubaa8\uc5d0 \ub300\ud55c \uc815\ubcf4\ub97c \uae30\uad00\ucc28 \uad00\ub828 \uc804\ubb38\uac00\uc5d0\uac8c \uc5bb\uc744 \uc218\ub3c4 \uc788\ub2e4.\n",
      "\n",
      "---\n",
      "\n",
      "\ub610, \uc774\ub7f0 \ud2b9\ud654\ub41c \uc815\ubcf4 \uc5c6\uc774 \ud559\uc2b5\ub41c \ucd94\uce21\ub3c4 \ud560 \uc218 \uc788\ub2e4.\n",
      "\n",
      "\ud68c\uc0ac \uaddc\ubaa8\uc758 \ubd84\ud3ec\ub294 '\ub85c\ubc84\ud2b8 \uc561\uc2a4\ud154'\uc758 \ub17c\ubb38\uc5d0 \ub530\ub974\uba74 '\uba71\ubc95\uce59' \uc744 \ub530\ub978\ub2e4.\n",
      "\n",
      "\uc774 \ubc95\uce59\uc5d0 \ub530\ub974\uba74,\n",
      "\n",
      "10\ub300 \ubbf8\ub9cc\uc758 \ud68c\uc0ac\uac00 1000 \uac1c\uc774\uba74,\n",
      "\n",
      "100\ub300 \ud68c\uc0ac\ub294 100\uac1c,\n",
      "\n",
      "1000\ub300 \ud68c\uc0ac\ub294 10\uac1c,\n",
      "\n",
      "10000\ub300 \ud68c\uc0ac\ub294 1\uac1c\uc774\ub2e4."
     ]
    },
    {
     "cell_type": "markdown",
     "metadata": {},
     "source": [
      "$$\n",
      "PMF(x) \\propto (\\frac{1}{x})^\\alpha\n",
      "$$"
     ]
    },
    {
     "cell_type": "markdown",
     "metadata": {},
     "source": [
      "x \ub294 \ud655\ub960 \ub204\uc801 \ud568\uc218\uc774\uace0, $\\alpha$ \ub294 \ubcf4\ud1b5 1\uc5d0 \uac00\uae5d\uac8c \uc124\uc815\ub418\ub294 \ub9e4\uac1c\ubcc0\uc218\uc774\ub2e4."
     ]
    },
    {
     "cell_type": "code",
     "collapsed": false,
     "input": [
      "from thinkbayes import Pmf\n",
      "\n",
      "class Train2(Dice):\n",
      "    \n",
      "    def __init__(self, hypos, alpha=1.0):\n",
      "        Pmf.__init__(self)\n",
      "        # \uba71\ud568\uc218\ub97c \uc801\uc6a9\ud55c\ub2e4.\n",
      "        # \uac2f\uc218\uac00 \ub9ce\uc544 \uc9c8\uc218\ub85d \uc5ed\uc218\ub85c \uc778\ud574 \ud655\ub960\uc740 \ub0ae\uc544\uc9c4\ub2e4.\n",
      "        for hypo in hypos:\n",
      "            self.Set(hypo, hypo**(-alpha))\n",
      "        self.Normalize()"
     ],
     "language": "python",
     "metadata": {},
     "outputs": [],
     "prompt_number": 12
    },
    {
     "cell_type": "markdown",
     "metadata": {},
     "source": [
      "\uc774\uc81c \uc0c8\ub85c\uc6b4 \ud074\ub798\uc2a4\ub97c \uac00\uc9c0\uace0 \ub2e4\uc2dc \uacc4\uc0b0\ud574\ubcf4\uc790."
     ]
    },
    {
     "cell_type": "code",
     "collapsed": false,
     "input": [
      "suite_list = [Train2(xrange(1, 501)),\n",
      "              Train2(xrange(1, 1001)),\n",
      "              Train2(xrange(1, 2001))]\n",
      "\n",
      "for suite in suite_list:\n",
      "    for data in [30, 60, 90]:\n",
      "        suite.Update(data)\n",
      "        \n",
      "for suite in suite_list:\n",
      "    print suite.Mean()"
     ],
     "language": "python",
     "metadata": {},
     "outputs": [
      {
       "output_type": "stream",
       "stream": "stdout",
       "text": [
        "130.708469863\n",
        "133.275231375\n",
        "133.997463081\n"
       ]
      }
     ],
     "prompt_number": 13
    },
    {
     "cell_type": "markdown",
     "metadata": {},
     "source": [
      "\ucc28\uc774\uac00 \ub9ce\uc774 \ube44\uc2b7\ud574\uc84c\ub2e4. \uc0ac\uc2e4 \uc784\uc758\uc758 \ud070 \uc0c1\ud55c\uac12\uc744 \ub9cc\ub4e4\uc5b4\ub450\uba74 \ud3c9\uade0\uc740 134 \uc5d0 \uc218\ub834\ud55c\ub2e4.\n",
      "\n",
      "\ub530\ub77c\uc11c \uba71\ubc95\uce59 \uc0ac\uc804\ud655\ub960\uc774 \ubcf4\ub2e4 \ud604\uc2e4\uc801\uc774\uace0, \uc2e4\uc81c\ub85c \ub354 \uc798 \uc801\uc6a9\ub41c\ub2e4.\n",
      "\n",
      "\uadf8\ub7ec\uba74 \uc774\uc804\uc5d0 \uc791\uc131\ud55c \uadf8\ub798\ud504\uc640 \uac19\uc774 \ube44\uad50\ud574\ubcf4\uc790."
     ]
    },
    {
     "cell_type": "code",
     "collapsed": false,
     "input": [
      "suite1 = Train(xrange(1, 1001))\n",
      "suite2 = Train2(xrange(1, 1001))\n",
      "\n",
      "suite1.Update(60)\n",
      "suite2.Update(60)\n",
      "\n",
      "\n",
      "import matplotlib.patches as mpatches\n",
      "\n",
      "xy = suite1.Items()\n",
      "xs, ys = zip(*xy)\n",
      "graph1, = plt.plot(xs, ys)\n",
      "\n",
      "xy = suite2.Items()\n",
      "xs, ys = zip(*xy)\n",
      "graph2, = plt.plot(xs, ys)\n",
      "\n",
      "plt.legend([graph1, graph2], ['uniform', 'power law'])\n",
      "plt.show()"
     ],
     "language": "python",
     "metadata": {},
     "outputs": [
      {
       "metadata": {},
       "output_type": "display_data",
       "png": "[encoded data removed]",
       "text": [
        "<matplotlib.figure.Figure at 0x114ab3290>"
       ]
      }
     ],
     "prompt_number": 22
    },
    {
     "cell_type": "markdown",
     "metadata": {},
     "source": [
      "---"
     ]
    },
    {
     "cell_type": "heading",
     "level": 2,
     "metadata": {},
     "source": [
      "3.5 \uc2e0\ub8b0\uad6c\uac04"
     ]
    },
    {
     "cell_type": "markdown",
     "metadata": {},
     "source": [
      "\uacb0\uacfc\ub97c \uad6c\uac04\uc73c\ub85c \uc694\uc57d\ud558\ub294 \uacbd\uc6b0, \uc810\uc73c\ub85c \ucd94\uc815\ud558\ub294 \uacbd\uc6b0(\ud3c9\uade0, \uc911\uac04\uac12, \ucd5c\ub300 \uc6b0\ub3c4\uac12, ...) \uc788\ub2e4.\n",
      "\n",
      "\uad6c\uac04\uc758 \uacbd\uc6b0,\n",
      "\n",
      "\ubbf8\ud655\uc778 \uac12\uc774 \ub450 \uac12 \uc0ac\uc774\uc5d0 \uc62c \ud655\ub960\uc774 90% \uc778 \uac12\uc744 \ub098\ud0c0\ub0b4\uba70, \uc774 \ubc94\uc704\ub97c **'\uc2e0\ub8b0\uad6c\uac04'** \uc774\ub77c\ud55c\ub2e4.\n",
      "\n",
      "\uc2e0\ub8b0\uad6c\uac04 \uacc4\uc0b0\ud558\ub294 \uac04\ub2e8\ud55c \ubc29\ubc95\uc740 \uc0ac\ud6c4\ubd84\ud3ec\ud655\ub960\uc744 \ub354\ud55c \ud6c4 5%, 95% \uc5d0 \ud574\ub2f9\ud558\ub294 5\ubd84\uc704, 95\ubd84\uc704 \uac12\uc744 \uae30\ub85d\ud558\ub294 \uac83\uc774\ub2e4."
     ]
    },
    {
     "cell_type": "code",
     "collapsed": false,
     "input": [
      "# thinkbayes \uc5d0\uc11c \ubd84\uc704\uac12 \uacc4\uc0b0\ud558\ub294 \ud568\uc218\ub97c \uc81c\uacf5\ud574\uc900\ub2e4.\n",
      "def Percentile(pmf, percentage):\n",
      "    p = percentage / 100.0\n",
      "    total = 0\n",
      "    for val, prob in pmf.Items():\n",
      "        total += prob\n",
      "        if total >= p:\n",
      "            return val\n",
      "\n",
      "# \uba71\ud568\uc218\ub3c4 \uc801\uc6a9\ud558\uace0, 60, 30, 90 \ub370\uc774\ud130\uae4c\uc9c0 \uc801\uc6a9\ud55c suite \ub85c \uc0b4\ud3b4\ubcf4\uc790.\n",
      "interval = Percentile(suite, 5), Percentile(suite, 95)\n",
      "print interval"
     ],
     "language": "python",
     "metadata": {},
     "outputs": [
      {
       "output_type": "stream",
       "stream": "stdout",
       "text": [
        "(91, 243)\n"
       ]
      }
     ],
     "prompt_number": 26
    },
    {
     "cell_type": "markdown",
     "metadata": {},
     "source": [
      "\uac00\uc7a5 \ub370\uc774\ud130\uac00 \ub9ce\uc774 \uc801\uc6a9\ub41c \ub9c8\uc9c0\ub9c9 \ubc84\uc804\uc73c\ub85c \ud655\uc778\ud588\ub294\ub370,\n",
      "\n",
      "\ubc94\uc704\uac00 91 ~ 243 \uc73c\ub85c \ub108\ubb34 \ub113\uc5b4\uc11c \uadf8\ub2e4\uc9c0 \ud655\uc2e0\ud560 \uc218 \uc5c6\ub2e4\ub294 \uac83\uc744 \ubcf4\uc5ec\uc900\ub2e4."
     ]
    },
    {
     "cell_type": "markdown",
     "metadata": {},
     "source": [
      "---"
     ]
    },
    {
     "cell_type": "heading",
     "level": 2,
     "metadata": {},
     "source": [
      "3.6 \ub204\uc801 \ubd84\ud3ec \ud568\uc218"
     ]
    },
    {
     "cell_type": "markdown",
     "metadata": {},
     "source": [
      "\uba87\ubd84\uc704\uc218 \uc774\uc0c1\uc744 \uacc4\uc0b0\ud558\ub294 \uacbd\uc6b0\uc5d0\ub294, \ub204\uc801\ubd84\ud3ec\ud568\uc218\ub098 Cdf \ub97c \uc0ac\uc6a9\ud558\ub294 \uac83\uc774 \ud6a8\uc728\uc801\uc774\ub2e4.\n",
      "\n",
      "Cdf \ub294 \ubd84\ud3ec\uc5d0 \ub300\ud574 \ub3d9\uc77c\ud55c \uc815\ubcf4\ub97c \uac00\uc9c4\ub2e4\ub294 \uba74\uc5d0\uc11c Pmf \uc640 \ub3d9\uc77c\ud558\uace0, \uc5b8\uc81c\ub098 \uc11c\ub85c\ubc14\uafc0 \uc218 \uc788\ub2e4.\n",
      "\n",
      "Cdf \uc758 \uc7a5\uc810\uc740 \ubd84\uc704\uc218\ub97c \uc870\uae08 \ub354 \ud6a8\uc728\uc801\uc73c\ub85c \uacc4\uc0b0\ud55c\ub2e4\ub294 \uc810.\n",
      "\n",
      "\ub204\uc801\ubd84\ud3ec\ud568\uc218 \uacc4\uc0b0\uc744 \uc704\ud574 \ud074\ub798\uc2a4 Cdf \ub97c \uc0ac\uc6a9\ud558\uc790."
     ]
    },
    {
     "cell_type": "code",
     "collapsed": false,
     "input": [
      "from thinkbayes import Cdf\n",
      "\n",
      "# pmf \ub97c cdf \ub85c \ubcc0\ud658\ud574\uc11c\n",
      "cdf = suite.MakeCdf()\n",
      "\n",
      "# \ubd84\uc704\uc218 \uacc4\uc0b0\uc744 \ub354 \uc27d\uac8c!\n",
      "interval = cdf.Percentile(5), cdf.Percentile(95)"
     ],
     "language": "python",
     "metadata": {},
     "outputs": [],
     "prompt_number": 28
    },
    {
     "cell_type": "markdown",
     "metadata": {},
     "source": [
      "\ucc38\uace0\ub85c pmf => cdf \ubcc0\ud658\uc740 \uac2f\uc218\uc5d0 \ube44\ub840\ud558\ub294 len(pmf) \uc744 \uc0ac\uc6a9\ud568\uc73c\ub85c O(n) \uc2dc\uac04\uc774 \ub4e0\ub2e4.\n",
      "\n",
      "cdf \ub294 \ud655\ub960\uc744 \ucc3e\ub294\ub370 'O(log n) \ub85c\uadf8 \uc2dc\uac04' \uc774 \uc18c\uc694\ub41c\ub2e4. \uadf8\ub798\uc11c \ud6a8\uc728\uc801!\n"
     ]
    },
    {
     "cell_type": "markdown",
     "metadata": {},
     "source": [
      "---"
     ]
    },
    {
     "cell_type": "heading",
     "level": 2,
     "metadata": {},
     "source": [
      "3.7 \ub3c5\uc77c \ud0f1\ud06c \ubb38\uc81c"
     ]
    },
    {
     "cell_type": "markdown",
     "metadata": {},
     "source": [
      "2\ucc28 \uc138\uacc4 \ub300\uc804 \ub3d9\uc548, \ub3c5\uc77c \ud0f1\ud06c \uc7a5\ube44 \uc0dd\uc0b0\ub7c9\uc744 \ucd94\uc815\ud558\ub294\ub370 \ud1b5\uacc4\ubd84\uc11d\uae30\ubc95\uc744 \uc0ac\uc6a9\ud588\ub2e4.\n",
      "\n",
      "\uc11c\ubc29 \uc5f0\ud569\uad6d\uc5d0\uc11c\ub294 \uac01 \ud0f1\ud06c\uc758 \uc100\uc2dc\uc640 \uc5d4\uc9c4\uc758 \uc2dc\ub9ac\uc5bc \ubc88\ud638\ub97c \ud3ec\ud568\ud55c \uae30\ub85d, \uc218\ub9ac \uae30\ub85d\ub4f1\uc744 \ud655\ubcf4\ud588\ub2e4.\n",
      "\n",
      "\ubd84\uc11d\ud574\ubcf4\ub2c8,\n",
      "\n",
      "\uc2dc\ub9ac\uc5bc \ubc88\ud638\ub294 \uc81c\uc870\uc790\uc5d0 \ub530\ub77c \ud560\ub2f9\ub418\uc5c8\uace0, \n",
      "\n",
      "\ud0f1\ud06c\uc758 \uc720\ud615\uc740 100\uac1c \uc22b\uc790 \ube14\ub85d\uc73c\ub85c \uc774\ub8e8\uc5b4\uc838 \uc788\ub294\ub370 \uc22b\uc790\uac00 \uc21c\ucc28\uc801\uc73c\ub85c \uc0ac\uc6a9\ub418\uc5c8\uc73c\ub098 \ubaa8\ub4e0 \uc22b\uc790\uac00 \uc0ac\uc6a9\ub41c \uac83\uc740 \uc544\ub2c8\uc5c8\ub2e4.\n",
      "\n",
      "\ub530\ub77c\uc11c \ub3c5\uc77c \ud0f1\ud06c \uc0dd\uc0b0\ub7c9 \ucd94\uc815\uc740 100\uac1c \uc22b\uc790\ub97c \ud3ec\ud568\ud558\ub294 \ube14\ub85d \ubc94\uc704 \ub0b4\uc5d0 \uae30\uad00\ucc28 \ubb38\uc81c \ud615\ud0dc\ub85c \ub2e8\uc21c\ud654 \ub41c\ub2e4.\n",
      "\n",
      "\uc774\ud6c4 \ubd84\uc11d\uac00\ub4e4\uc740 \ub2e4\ub978 \uc815\ubcf4\uc6d0\uc73c\ub85c\ubd80\ud130 \uc774\ubcf4\ub2e4 \ub0ae\uc740 \ucd94\uc815\uce58\ub97c \ub3c4\ucd9c\ud588\uace0, \uacb0\uacfc\ub294 \ub300\uccb4\uc801\uc73c\ub85c \ub9de\uc558\ub2e4.\n",
      "\n",
      "\ud0c0\uc774\uc5b4, \ud2b8\ub7ed, \ub85c\ucf13, \ub2e4\ub978 \uc7a5\ube44\uc5d0 \ub300\ud574\uc11c\ub3c4 \uc720\uc0ac\ud55c \ubd84\uc11d\uc744 \ud574\uc11c \uacbd\uc81c \uae30\ubc00 \uc815\ubcf4\ub97c \ub3c4\ucd9c\ud588\ub2e4.\n",
      "\n",
      "\ubca0\uc774\uc9c0\uc548\uc744 \ud1b5\ud574 \uc774 \uc2e4\uc804 \ubb38\uc81c\ub85c \ud5a5\ud558\ub294 \uac04\ub2e8\ud55c \uae38\uc744 \uc81c\uacf5\ud574\uc900\ub2e4."
     ]
    },
    {
     "cell_type": "markdown",
     "metadata": {},
     "source": [
      "---"
     ]
    },
    {
     "cell_type": "heading",
     "level": 2,
     "metadata": {},
     "source": [
      "3.8 \ud1a0\uc758"
     ]
    },
    {
     "cell_type": "markdown",
     "metadata": {},
     "source": [
      "\ubca0\uc774\uc9c0\uc548\uc774 \uc120\ud589\ubd84\ud3ec\ub97c \uc120\ud0dd\ud558\ub294 \ub450\uac00\uc9c0 \ubc29\ubc95\n",
      "\n",
      "1. \uc815\ubcf4\uc801 \uc120\ud589 \ubd84\ud3ec \n",
      "\n",
      "\ubc30\uacbd\uc9c0\uc2dd\uc744 \uc798 \ud65c\uc6a9\n",
      "\n",
      "\ub2e8\uc810\uc740 \uc0ac\ub78c\ub9c8\ub2e4 \uc11c\ub85c \ub2e4\ub978 \ubc30\uacbd\uc9c0\uc2dd\uc744 \uc0ac\uc6a9\ud560 \uc218 \uc788\ub2e4\ub294 \uac83\uc774\ub2e4.\n",
      "\n",
      "2. \ube44\uc815\ubcf4\uc801 \uc120\ud589\ubd84\ud3ec\n",
      "\n",
      "\ucd5c\ub300\ud55c \uc81c\uc57d\uc744 \ub450\uc9c0 \uc54a\ub294 \uac83\n",
      "\n",
      "\ucd5c\uc18c\ud55c\uc758 \uc120\ud589 \uc815\ubcf4\ub97c \uc0ac\uc6a9\ud558\uac70\ub098 \uc77c\ubd80 \ud544\uc694\ud55c \uc131\uc9c8\uc744 \ub098\ud0c0\ub0b4\ub294 \uace0\uc720 \uc120\ud589 \ubd84\ud3ec\ub97c \uc815\uc758\ud560\ub54c \uc0ac\uc6a9\n",
      "\n",
      "\uc880 \ub354 \uac1d\uad00\uc801.\n"
     ]
    },
    {
     "cell_type": "markdown",
     "metadata": {},
     "source": [
      "---\n",
      "\n",
      "\uc800\uc790\uc758 \uacbd\uc6b0, \uc815\ubcf4\uc801 \uc120\ud589 \ubd84\ud3ec\ub97c \uc120\ud638!\n",
      "\n",
      "\uc65c\ub0d0\uba74, \uccab\uc9f8, \ubca0\uc774\uc9c0\uc548 \ubd84\uc11d\uc740 \ud56d\uc0c1 \ubaa8\ub378 \ud310\ub2e8\uc5d0 \uae30\ubc18\ud574\uc11c \uc774\ub8e8\uc5b4\uc9c4\ub2e4.\n",
      "\n",
      "\ub530\ub77c\uc11c \ube44\uc815\ubcf4\uc801 \uc120\ud589\ubd84\ud3ec\uac00 \ub354 \uac1d\uad00\uc801\uc774\ub77c\ud574\ub3c4 \uc5b4\ucc28\ud53c \uc804\uccb4 \ubd84\uc11d\uc740 \uc8fc\uad00\uc801\uc73c\ub85c \uc774\ub8e8\uc5b4\uc9c4\ub2e4.\n",
      "\n",
      "\ub458\uc9f8, \uc2e4\uc9c8\uc801 \ubb38\uc81c\ub294 \ubcf4\ud1b5 \ub370\uc774\ud130\uac00 \uad49\uc7a5\uc774 \ub9ce\uac70\ub098, \ubcc4\ub85c \uc5c6\uac70\ub098 \ud558\ub294 2\uac00\uc9c0 \uc720\ud615\uc774\ub2e4.\n",
      "\n",
      "\ub9cc\uc57d \ub370\uc774\ud130\uac00 \uad49\uc7a5\ud788 \ub9ce\ub2e4\uba74 \uc120\ud589\ubd84\ud3ec\ub97c \uc5b4\ub5a4 \ucabd\uc73c\ub85c \uc120\ud0dd\ud558\ub4e0\uc9c0 \ubcc4\ub85c \uc0c1\uad00 \uc5c6\uace0,\n",
      "\n",
      "\uc815\ubcf4\uc131\uc774\ub4e0 \ube44\uc815\ubcf4\uc131\uc774\ub4e0 \uac70\uc758 \uc720\uc0ac\ud55c \uacb0\uacfc\uac00 \ub3c4\ucd9c\ub41c\ub2e4.\n",
      "\n",
      "\ud558\uc9c0\ub9cc, \uae30\uad00\ucc28 \ubb38\uc81c\ucc98\ub7fc \ub370\uc774\ud130\uac00 \uac70\uc758 \uc5c6\uc744\ub54c, \ubc30\uacbd\uc9c0\uc2dd\uc758 \uc0ac\uc6a9\uc5ec\ubd80\ub294 \ub9e4\uc6b0 \ud070 \ucc28\uc774\ub97c \ub098\ud0c0\ub0b8\ub2e4.\n",
      "\n",
      "\ub610 \ub3c5\uc77c \ud0f1\ud06c \ubb38\uc81c\ucc98\ub7fc \uacb0\uacfc\uc5d0 \ub530\ub77c \uc0dd\uc0ac\uac00 \ub2ec\ub77c\uc9c4\ub2e4\uba74, \uac1d\uad00\uc131\ubcf4\ub2e4\ub294 \uc54c\uace0\uc788\ub294 \ucd5c\ub300\ud55c\uc758 \uc9c0\uc2dd\uc744 \uc3df\uc544 \ub123\uc5b4\uc57c \ud560 \uac83\uc774\ub2e4."
     ]
    },
    {
     "cell_type": "markdown",
     "metadata": {},
     "source": [
      "---"
     ]
    },
    {
     "cell_type": "heading",
     "level": 2,
     "metadata": {},
     "source": [
      "3.9 \uc5f0\uc2b5\ubb38\uc81c"
     ]
    },
    {
     "cell_type": "code",
     "collapsed": false,
     "input": [
      "\uae30\uad00\ucc28 \ubb38\uc81c\uc5d0\uc11c \uc6b0\ub3c4\ud568\uc218\ub97c \ub9cc\ub4e4\uae30 \uc704\ud574\uc11c\ub294 \uc544\ub798 \uc9c8\ubb38\uc5d0 \ub2f5\ud574\uc57c\ud55c\ub2e4.\n",
      "\n",
      "> \"\uae30\ucc3b\uae38\uc5d0 N \uac1c\uc758 \uae30\uad00\ucc28\uac00 \uc788\uc744\ub54c, 60\ud638 \uae30\uad00\ucc28\ub97c \ubcfc \ud655\ub960\uc740 \uc5bc\ub9c8\uc778\uac00?\"\n",
      "\n"
     ],
     "language": "python",
     "metadata": {},
     "outputs": []
    }
   ],
   "metadata": {}
  }
 ]
}