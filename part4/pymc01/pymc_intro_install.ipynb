{
 "cells": [
  {
   "cell_type": "markdown",
   "metadata": {},
   "source": [
    "# PyMC Intro & Install"
   ]
  },
  {
   "cell_type": "markdown",
   "metadata": {},
   "source": [
    "* 싸이그래머 / 베이지안 통계 (Python) : 파트4 [1]\n",
    "* 김무성"
   ]
  },
  {
   "cell_type": "markdown",
   "metadata": {},
   "source": [
    "# Contetns"
   ]
  },
  {
   "cell_type": "markdown",
   "metadata": {},
   "source": [
    "0. 실습환경 설정\n",
    "1. PyMC 설치\n",
    "2. 실습 코드(& jupyter notebook) 설치\n",
    "3. PyMC 소개"
   ]
  },
  {
   "cell_type": "markdown",
   "metadata": {},
   "source": [
    "# 1. 실습환경 설정"
   ]
  },
  {
   "cell_type": "markdown",
   "metadata": {},
   "source": [
    "* docker toolbox 설치\n",
    "* docker 기반 jupyter(ipython notebook) 환경 셋팅"
   ]
  },
  {
   "cell_type": "markdown",
   "metadata": {},
   "source": [
    "## docker toolbox 설치"
   ]
  },
  {
   "cell_type": "markdown",
   "metadata": {},
   "source": [
    "* download - https://www.docker.com/toolbox"
   ]
  },
  {
   "cell_type": "markdown",
   "metadata": {},
   "source": [
    "<img src=\"figures/cap0.png\" width=600 />  "
   ]
  },
  {
   "cell_type": "markdown",
   "metadata": {},
   "source": [
    "## docker 기반 jupyter(ipython notebook) 환경 셋팅"
   ]
  },
  {
   "cell_type": "markdown",
   "metadata": {},
   "source": [
    "* jupyter/scipy-notebook\n",
    "    - https://hub.docker.com/r/jupyter/scipy-notebook/\n",
    "    - jupyter에서 빌드해서 내놓은 이미지가 여러개 있다. \n",
    "    - 그 중에 scipy-notebook을 써보자    "
   ]
  },
  {
   "cell_type": "markdown",
   "metadata": {},
   "source": [
    "<img src=\"figures/cap0.1.png\" width=600 />"
   ]
  },
  {
   "cell_type": "markdown",
   "metadata": {},
   "source": [
    "<img src=\"figures/cap0.2.png\" width=600 />"
   ]
  },
  {
   "cell_type": "markdown",
   "metadata": {},
   "source": [
    "#### docker image pull"
   ]
  },
  {
   "cell_type": "code",
   "execution_count": null,
   "metadata": {
    "collapsed": true
   },
   "outputs": [],
   "source": [
    "docker pull jupyter/scipy-notebook"
   ]
  },
  {
   "cell_type": "markdown",
   "metadata": {},
   "source": [
    "<img src=\"figures/cap0.3.png\" width=600 />"
   ]
  },
  {
   "cell_type": "markdown",
   "metadata": {},
   "source": [
    "#### docker container 실행"
   ]
  },
  {
   "cell_type": "markdown",
   "metadata": {},
   "source": [
    "* 이때 이후에 여러 다른 파이썬 패키지를 설치해야 하므로 -e GRANT_SUDO=yes 옵션도 추가해서 실행"
   ]
  },
  {
   "cell_type": "code",
   "execution_count": null,
   "metadata": {
    "collapsed": true
   },
   "outputs": [],
   "source": [
    "docker run -d -e GRANT_SUDO=yes -p 8888:8888 jupyter/scipy-notebook"
   ]
  },
  {
   "cell_type": "markdown",
   "metadata": {},
   "source": [
    "<img src=\"figures/cap0.4.png\" width=600 />"
   ]
  },
  {
   "cell_type": "markdown",
   "metadata": {},
   "source": [
    "#### jupyter 웹 UI 접속"
   ]
  },
  {
   "cell_type": "markdown",
   "metadata": {},
   "source": [
    "* localhost:8888 혹은 docker toolbox에 매핑된 ip:8888로 브라우저에서 연다."
   ]
  },
  {
   "cell_type": "markdown",
   "metadata": {},
   "source": [
    "<img src=\"figures/cap1.png\" width=600 />  "
   ]
  },
  {
   "cell_type": "markdown",
   "metadata": {},
   "source": [
    "# 2. PyMC 설치"
   ]
  },
  {
   "cell_type": "markdown",
   "metadata": {},
   "source": [
    "* jupyter 웹UI의 터미널 실행\n",
    "* root로 유저 변환\n",
    "    - python 3의 경우\n",
    "        - conda를 이용해 설치    \n",
    "    - python2의 경우\n",
    "        - python2 activate\n",
    "        - conda를 이용해 설치치치"
   ]
  },
  {
   "cell_type": "markdown",
   "metadata": {},
   "source": [
    "## jupyter 웹UI의 터미널 실행"
   ]
  },
  {
   "cell_type": "markdown",
   "metadata": {},
   "source": [
    "<img src=\"figures/cap2.png\" width=600 />    "
   ]
  },
  {
   "cell_type": "markdown",
   "metadata": {},
   "source": [
    "## root로 유저 변환"
   ]
  },
  {
   "cell_type": "code",
   "execution_count": null,
   "metadata": {
    "collapsed": true
   },
   "outputs": [],
   "source": [
    "sudo su -"
   ]
  },
  {
   "cell_type": "markdown",
   "metadata": {},
   "source": [
    "<img src=\"figures/cap3.png\" width=600 />    "
   ]
  },
  {
   "cell_type": "markdown",
   "metadata": {},
   "source": [
    "### python 3의 경우"
   ]
  },
  {
   "cell_type": "markdown",
   "metadata": {},
   "source": [
    "#### conda를 이용해 설치 "
   ]
  },
  {
   "cell_type": "code",
   "execution_count": null,
   "metadata": {
    "collapsed": true
   },
   "outputs": [],
   "source": [
    "conda install pymc"
   ]
  },
  {
   "cell_type": "markdown",
   "metadata": {},
   "source": [
    "<img src=\"figures/cap4.png\" width=600 />  "
   ]
  },
  {
   "cell_type": "markdown",
   "metadata": {},
   "source": [
    "### python2의 경우"
   ]
  },
  {
   "cell_type": "markdown",
   "metadata": {},
   "source": [
    "#### python2 activate"
   ]
  },
  {
   "cell_type": "code",
   "execution_count": null,
   "metadata": {
    "collapsed": true
   },
   "outputs": [],
   "source": [
    "source activate python2"
   ]
  },
  {
   "cell_type": "markdown",
   "metadata": {},
   "source": [
    "#### conda를 이용해 설치"
   ]
  },
  {
   "cell_type": "markdown",
   "metadata": {},
   "source": [
    "<img src=\"figures/cap5.png\" width=600 />  "
   ]
  },
  {
   "cell_type": "markdown",
   "metadata": {},
   "source": [
    "#### 기본 설정으로 돌아오자(python3)"
   ]
  },
  {
   "cell_type": "code",
   "execution_count": null,
   "metadata": {
    "collapsed": true
   },
   "outputs": [],
   "source": [
    "source deactivate"
   ]
  },
  {
   "cell_type": "markdown",
   "metadata": {},
   "source": [
    "<img src=\"figures/cap6.png\" width=600 />  "
   ]
  },
  {
   "cell_type": "markdown",
   "metadata": {},
   "source": [
    "#### root에서 일반사용자(jovyan)로 돌아옴"
   ]
  },
  {
   "cell_type": "code",
   "execution_count": null,
   "metadata": {
    "collapsed": true
   },
   "outputs": [],
   "source": [
    "exit"
   ]
  },
  {
   "cell_type": "markdown",
   "metadata": {},
   "source": [
    "# 2. 실습 코드(& jupyter notebook) 설치"
   ]
  },
  {
   "cell_type": "markdown",
   "metadata": {},
   "source": [
    "#### 터미널의 기본 경로에, 싸이그래머 베이지안 트랙 github 저장소를 바로 클로닝한다."
   ]
  },
  {
   "cell_type": "code",
   "execution_count": null,
   "metadata": {
    "collapsed": true
   },
   "outputs": [],
   "source": [
    "git clone https://github.com/psygrammer/bayesianPy.git"
   ]
  },
  {
   "cell_type": "markdown",
   "metadata": {},
   "source": [
    "<img src=\"figures/cap7.png\" width=600 />  "
   ]
  },
  {
   "cell_type": "markdown",
   "metadata": {},
   "source": [
    "#### jupyter UI를 통해 바로 접근"
   ]
  },
  {
   "cell_type": "markdown",
   "metadata": {},
   "source": [
    "<img src=\"figures/cap8.png\" width=600 /> "
   ]
  },
  {
   "cell_type": "markdown",
   "metadata": {},
   "source": [
    "#### 팁 : 웹 브라우저를 통해 바로 이미지도 노트북에 업로드 가능."
   ]
  },
  {
   "cell_type": "markdown",
   "metadata": {},
   "source": [
    "<img src=\"figures/cap9.png\" width=600 />  "
   ]
  },
  {
   "cell_type": "markdown",
   "metadata": {},
   "source": [
    "#### 팁 : 작업 후, github에 반영하기"
   ]
  },
  {
   "cell_type": "markdown",
   "metadata": {},
   "source": [
    "* 터미널로 들어가서 git add, git commit, git push의 정통적인 단계를 거친다."
   ]
  },
  {
   "cell_type": "markdown",
   "metadata": {},
   "source": [
    "##### 그러나 최초 git 설정을 해줘야 한다."
   ]
  },
  {
   "cell_type": "markdown",
   "metadata": {},
   "source": [
    "* commit을 하려하면, git 사용자 정보를 셋팅해주라고 한다. 해주자."
   ]
  },
  {
   "cell_type": "markdown",
   "metadata": {},
   "source": [
    "<img src=\"figures/cap10.png\" width=600 />  "
   ]
  },
  {
   "cell_type": "code",
   "execution_count": null,
   "metadata": {
    "collapsed": true
   },
   "outputs": [],
   "source": [
    "# 그냥 이 시스템에서(컨테이너에서) 쓸 것이다.\n",
    "git config --global user.email \"your@example.com\"   # 본인 이메일\n",
    "git config --global user.name \"Your Nmae\" # 본인 아이디"
   ]
  },
  {
   "cell_type": "markdown",
   "metadata": {},
   "source": [
    "<img src=\"figures/cap11.png\" width=600 />  "
   ]
  },
  {
   "cell_type": "markdown",
   "metadata": {},
   "source": [
    "* 다시 커밋 시도. 성공한다."
   ]
  },
  {
   "cell_type": "markdown",
   "metadata": {},
   "source": [
    "<img src=\"figures/cap12.png\" width=600 />  "
   ]
  },
  {
   "cell_type": "code",
   "execution_count": null,
   "metadata": {
    "collapsed": true
   },
   "outputs": [],
   "source": [
    "git push  # 자신의 깃헙 아이디와 비밀번호를 치면 (해당 저장소에 권한이 있다면) 성공한다."
   ]
  },
  {
   "cell_type": "markdown",
   "metadata": {},
   "source": [
    "<img src=\"figures/cap13.png\" width=600 />  "
   ]
  },
  {
   "cell_type": "markdown",
   "metadata": {},
   "source": [
    "# 3. PyMC 소개 [1]"
   ]
  },
  {
   "cell_type": "markdown",
   "metadata": {},
   "source": [
    "* Purpose\n",
    "* Features\n",
    "* What’s new in version 2\n",
    "* Usage\n",
    "* History\n",
    "* Relationship to other packages"
   ]
  },
  {
   "cell_type": "markdown",
   "metadata": {},
   "source": [
    "## Purpose"
   ]
  },
  {
   "cell_type": "markdown",
   "metadata": {},
   "source": [
    "* PyMC is a python module that implements Bayesian statistical models and fitting algorithms, including Markov chain Monte Carlo. Its flexibility and extensibility make it applicable to a large suite of problems. Along with core sampling functionality, PyMC includes methods for summarizing output, plotting, goodness-of-fit and convergence diagnostics."
   ]
  },
  {
   "cell_type": "markdown",
   "metadata": {},
   "source": [
    "## Features"
   ]
  },
  {
   "cell_type": "markdown",
   "metadata": {},
   "source": [
    "* PyMC provides functionalities to make Bayesian analysis as painless as possible. Here is a short list of some of its features:\n",
    "    - Fits Bayesian statistical models with Markov chain Monte Carlo and other algorithms.\n",
    "    - Includes a large suite of well-documented statistical distributions.\n",
    "    - Uses NumPy for numerics wherever possible.\n",
    "    - Includes a module for modeling Gaussian processes.\n",
    "    - Sampling loops can be paused and tuned manually, or saved and restarted later.\n",
    "    - Creates summaries including tables and plots.\n",
    "    - Traces can be saved to the disk as plain text, Python pickles, SQLite or MySQL database, or hdf5 archives.\n",
    "    - Several convergence diagnostics are available.\n",
    "    - Extensible: easily incorporates custom step methods and unusual probability distributions.\n",
    "    - MCMC loops can be embedded in larger programs, and results can be analyzed with the full power of Python."
   ]
  },
  {
   "cell_type": "markdown",
   "metadata": {},
   "source": [
    "## What’s new in version 2"
   ]
  },
  {
   "cell_type": "markdown",
   "metadata": {},
   "source": [
    "## Usage"
   ]
  },
  {
   "cell_type": "markdown",
   "metadata": {},
   "source": [
    "#### First, define your model in a file, say mymodel.py (with comments, of course!):"
   ]
  },
  {
   "cell_type": "code",
   "execution_count": 1,
   "metadata": {
    "collapsed": false
   },
   "outputs": [
    {
     "name": "stdout",
     "output_type": "stream",
     "text": [
      "Writing mymodel.py\n"
     ]
    }
   ],
   "source": [
    "%%writefile mymodel.py\n",
    "\n",
    "# Import relevant modules\n",
    "import pymc\n",
    "import numpy as np\n",
    "\n",
    "# Some data\n",
    "n = 5*np.ones(4,dtype=int)\n",
    "x = np.array([-.86,-.3,-.05,.73])\n",
    "\n",
    "# Priors on unknown parameters\n",
    "alpha = pymc.Normal('alpha',mu=0,tau=.01)\n",
    "beta = pymc.Normal('beta',mu=0,tau=.01)\n",
    "\n",
    "# Arbitrary deterministic function of parameters\n",
    "@pymc.deterministic\n",
    "def theta(a=alpha, b=beta):\n",
    "    \"\"\"theta = logit^{-1}(a+b)\"\"\"\n",
    "    return pymc.invlogit(a+b*x)\n",
    "\n",
    "# Binomial likelihood for data\n",
    "d = pymc.Binomial('d', n=n, p=theta, value=np.array([0.,1.,3.,5.]),\\\n",
    "                  observed=True)\n"
   ]
  },
  {
   "cell_type": "code",
   "execution_count": 2,
   "metadata": {
    "collapsed": false
   },
   "outputs": [
    {
     "name": "stdout",
     "output_type": "stream",
     "text": [
      "figures  mymodel.py  pymc_intro_install.ipynb\r\n"
     ]
    }
   ],
   "source": [
    "!ls"
   ]
  },
  {
   "cell_type": "code",
   "execution_count": 3,
   "metadata": {
    "collapsed": false
   },
   "outputs": [
    {
     "name": "stdout",
     "output_type": "stream",
     "text": [
      " [-----------------100%-----------------] 10000 of 10000 complete in 0.8 sec"
     ]
    }
   ],
   "source": [
    "import pymc\n",
    "import mymodel\n",
    "\n",
    "S = pymc.MCMC(mymodel, db='pickle')\n",
    "S.sample(iter=10000, burn=5000, thin=2)\n",
    "#pymc.Matplot.plot(S)"
   ]
  },
  {
   "cell_type": "markdown",
   "metadata": {},
   "source": [
    "* https://github.com/pymc-devs/pymc/issues/36\n",
    "    - pip install -U git+git://github.com/pymc-devs/pymc.git"
   ]
  },
  {
   "cell_type": "code",
   "execution_count": null,
   "metadata": {
    "collapsed": true
   },
   "outputs": [],
   "source": [
    "error: Setup script exited with error: extension 'pymc.flib' has Fortran sources but no Fortran compiler found          "
   ]
  },
  {
   "cell_type": "markdown",
   "metadata": {},
   "source": [
    "## History"
   ]
  },
  {
   "cell_type": "markdown",
   "metadata": {},
   "source": [
    "## Relationship to other packages"
   ]
  },
  {
   "cell_type": "markdown",
   "metadata": {},
   "source": [
    "# 참고자료"
   ]
  },
  {
   "cell_type": "markdown",
   "metadata": {},
   "source": [
    "* [1] PyMC User’s Guide - https://pymc-devs.github.io/pymc/"
   ]
  }
 ],
 "metadata": {
  "kernelspec": {
   "display_name": "Python 2",
   "language": "python",
   "name": "python2"
  },
  "language_info": {
   "codemirror_mode": {
    "name": "ipython",
    "version": 2
   },
   "file_extension": ".py",
   "mimetype": "text/x-python",
   "name": "python",
   "nbconvert_exporter": "python",
   "pygments_lexer": "ipython2",
   "version": "2.7.10"
  }
 },
 "nbformat": 4,
 "nbformat_minor": 0
}
