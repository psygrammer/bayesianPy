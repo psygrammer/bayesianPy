{
 "cells": [
  {
   "cell_type": "markdown",
   "metadata": {},
   "source": [
    "# 4. Building models\n",
    "\n",
    "pyMC를 이용해 베이지안을 계산하는 데 약 3가지 종류의 데이터들이 있습니다. \n",
    "Stochastic, Deterministic and Potential. (+container) \n",
    "\n",
    "이 장에서는 각 종류의 데이터가 어떤 식으로 쓸 수 있는지 (데이터 스트럭쳐에서 나오는 용어..겠죠?) \n",
    "파이썬에서 구현되는 방식을 설명하고 있습니다. \n",
    "\n",
    "\n",
    "## 4.1. The Stochastic class\n",
    "\n",
    "### 4.1.1. Creation of stochastic variables\n",
    " 먼저 데이터의 성질(uniform, poisson... etc) 을 설정한 뒤에, 그 조건에 맞는 '랜덤' (완전 랜덤은 아닌거죠) 데이터들을 만들어주는 방법입니다. \n",
    "\n",
    "1) Automatic \n",
    "서브 클래스로 각 타입이 지정되어 있어서 한 줄 코딩으로 생성 가능하다고 합니다. 예를 들면, 지난 튜토리얼에서 uniformly-distributed discrete variable로 지정되었던 switchpoint 의 경우:"
   ]
  },
  {
   "cell_type": "code",
   "execution_count": null,
   "metadata": {
    "collapsed": true
   },
   "outputs": [],
   "source": [
    "switchpoint = DiscreteUniform('switchpoint', lower=0, upper=110, doc='Switchpoint[year]')"
   ]
  },
  {
   "cell_type": "markdown",
   "metadata": {},
   "source": [
    "SciPy 가 설치 되어 있는 경우에는 PyMC에 없는 Stochastic subclasses 나 아예 지정되지 않은 경우에도 지정해서 사용이 가능하다고 합니다. \n",
    "\n",
    "2) Decorator\n",
    "\n",
    " 아예 처음부터 log-probability 에 대한 값으로 데이터 처리를 해주는 경우도 있습니다. (데코레이터는.. 함수에 연산 한번 더해주기?이므로 Uniform log-likelihood에 대한 stochastic을 만들어주는 코드..인 것 같습니다~ \"Generally, decorators enhance functions with additional properties or functionality.\") "
   ]
  },
  {
   "cell_type": "code",
   "execution_count": null,
   "metadata": {
    "collapsed": true
   },
   "outputs": [],
   "source": [
    "@pymc.stochastic(dtype=int)\n",
    "def switchpoint(value=1900, t_l=1851, t_h=1962):\n",
    "    \"\"\"The switchpoint for the rate of disaster occurrence.\"\"\"\n",
    "    if value > t_h or value < t_l:\n",
    "        # Invalid values\n",
    "        return -np.inf\n",
    "    else:\n",
    "        # Uniform log-likelihood\n",
    "        return -np.log(t_h - t_l + 1)"
   ]
  },
  {
   "cell_type": "markdown",
   "metadata": {},
   "source": [
    "- @stochastic 에 영향을 받는 함수는 반드시 -log 로 정의 되어야 합니다.  \n",
    "- PyMC and SciPy both provide implementations of several standard probability distributions that may be helpful for creating custom stochastic variables.\n",
    "\n",
    "\n"
   ]
  },
  {
   "cell_type": "code",
   "execution_count": null,
   "metadata": {
    "collapsed": true
   },
   "outputs": [],
   "source": [
    "@pymc.stochastic(dtype=int)\n",
    "def switchpoint(value=1900, t_l=1851, t_h=1962):\n",
    "    \"\"\"The switchpoint for the rate of disaster occurrence.\"\"\"\n",
    "\n",
    "    def logp(value, t_l, t_h):\n",
    "        if value > t_h or value < t_l:\n",
    "            return -np.inf\n",
    "        else:\n",
    "            return -np.log(t_h - t_l + 1)\n",
    "\n",
    "    def random(t_l, t_h):\n",
    "        from numpy.random import random\n",
    "        return np.round( (t_l - t_h) * random() ) + t_l\n"
   ]
  },
  {
   "cell_type": "markdown",
   "metadata": {},
   "source": [
    "\n",
    "\n",
    "3) Direct\n",
    "It’s possible to instantiate Stochastic directly:"
   ]
  },
  {
   "cell_type": "code",
   "execution_count": null,
   "metadata": {
    "collapsed": true
   },
   "outputs": [],
   "source": [
    "def switchpoint_logp(value, t_l, t_h):\n",
    "    if value > t_h or value < t_l:\n",
    "        return -np.inf\n",
    "    else:\n",
    "        return -np.log(t_h - t_l + 1)\n",
    "\n",
    "def switchpoint_rand(t_l, t_h):\n",
    "    from numpy.random import random\n",
    "    return np.round( (t_l - t_h) * random() ) + t_l\n",
    "\n",
    "\n",
    "switchpoint = Stochastic( logp = switchpoint_logp,\n",
    "                doc = 'The switchpoint for the rate of disaster occurrence.',\n",
    "                name = 'switchpoint',\n",
    "                parents = {'t_l': 1851, 't_h': 1962},\n",
    "                random = switchpoint_rand,\n",
    "                trace = True,\n",
    "                value = 1900,\n",
    "                dtype=int,\n",
    "                rseed = 1.,\n",
    "                observed = False,\n",
    "                cache_depth = 2,\n",
    "                plot=True,\n",
    "                verbose = 0)"
   ]
  },
  {
   "cell_type": "markdown",
   "metadata": {},
   "source": [
    "\n",
    "Notice that the log-probability and random variate functions are specified externally and passed to Stochastic as arguments. This is a rather awkward way to instantiate a stochastic variable; consequently, such implementations should be rare.\n",
    "\n",
    "경고 : 변수 값을 in-place로 바꾸면 안됩니다.\n",
    "A Warning: Don’t update stochastic variables’ values in-place\n",
    "\n",
    "in-place 란?\n",
    "A.value = new_value\n",
    "The following are in-place updates and should _never_ be used:\n",
    "\n",
    "* ``A.value += 3``\n",
    "* ``A.value[2,1] = 5``\n",
    "* ``A.value.attribute = new_attribute_value``\n",
    "\n",
    "\n",
    "## 4.2. Data\n",
    "- observed 특성이 True 로 셋팅이 된 경우\n",
    "- 값을 도중에 바꿀 수 없으며, fitting method (다음 장)에서 사용할 때 샘플링 되지 않습니다. \n",
    "\n",
    "\n",
    "### 4.2.1. Declaring stochastic variables to be data,  데이타 타입으로 선언하기\n",
    "\n",
    " observed=True 를 넣어주거나, @pymc.observed 처럼 decoration 을 이용합니다."
   ]
  },
  {
   "cell_type": "code",
   "execution_count": null,
   "metadata": {
    "collapsed": true
   },
   "outputs": [],
   "source": [
    "@pymc.stochastic(observed=True)\n",
    "\n",
    "x = pymc.Binomial('x', n=n, p=p, observed=True)"
   ]
  },
  {
   "cell_type": "code",
   "execution_count": null,
   "metadata": {
    "collapsed": true
   },
   "outputs": [],
   "source": [
    "@pymc.observed(dtype=int)\n",
    "def ..."
   ]
  },
  {
   "cell_type": "markdown",
   "metadata": {},
   "source": [
    "## 4.3 The Deterministic class\n",
    "\n",
    " 부모에 의해 완전히 그 값이 정해진 변수들을 의미합니다. 예를 들면, 재난 발생 비율인 rate는 switing point와  early_mean, late_mean 에 의해 그 값이 완전 고정되는 변수입니다.   \n",
    "\n",
    "rt= e t≤s \n",
    "    l t>s,\n",
    "\n",
    "\n",
    "\n",
    "### 4.3.1. Creation of deterministic variables\n",
    "stochastic variables과 비슷하게, automatic, decorator, and direct interfaces로 정의 가능합니다. \n",
    "\n",
    "1) Automatic\n",
    "A handful of common functions have been wrapped in Deterministic objects. These are brief enough to list:\n",
    "\n",
    "LinearCombination: 벡터의 내적곱(? inner product)를 계산합니다\n",
    "\n",
    "Index:\n",
    "Has two parents x and index. x must be iterables, index must be valued as an integer. The value of an index is: x[𝚒𝚗𝚍𝚎𝚡]Ty[𝚒𝚗𝚍𝚎𝚡]. Index is useful for implementing dynamic models, in which the parent-child connections change.\n",
    "\n",
    "Lambda:\n",
    "Converts an anonymous function (in Python, called lambda functions) to a Deterministic instance on a single line.\n",
    "\n",
    "CompletedDirichlet:\n",
    "PyMC represents Dirichlet variables of length k by the first k−1 elements; since they must sum to 1, the kth element is determined by the others. CompletedDirichlet appends the kth element to the value of its parent D.\n",
    "\n",
    "Logit, InvLogit, StukelLogit, StukelInvLogit:\n",
    "Common link functions for generalized linear models, and their inverses.\n",
    "It’s a good idea to use these classes when feasible in order to give hints to step methods.\n",
    "\n",
    "Elementary operations on variables\n",
    "Certain elementary operations on variables create deterministic variables. For example:\n"
   ]
  },
  {
   "cell_type": "markdown",
   "metadata": {},
   "source": [
    "2) Decorator\n",
    "A deterministic variable can be created via a decorator in a way very similar to Stochastic‘s decorator interface:"
   ]
  },
  {
   "cell_type": "code",
   "execution_count": null,
   "metadata": {
    "collapsed": true
   },
   "outputs": [],
   "source": [
    "@deterministic(plot=False)\n",
    "def rate(s=switchpoint, e=early_mean, l=late_mean):\n",
    "    ''' Concatenate Poisson means '''\n",
    "    out = empty(len(disasters_array))\n",
    "    out[:s] = e\n",
    "    out[s:] = l\n",
    "    return out"
   ]
  },
  {
   "cell_type": "markdown",
   "metadata": {},
   "source": [
    "Stochastic과 달리 로그가 필요 없고 부모로 상속받은 값을 연산해서 가집니다. \n",
    "\n",
    "3) Direct\n",
    "Deterministic objects can also be instantiated directly:"
   ]
  },
  {
   "cell_type": "code",
   "execution_count": null,
   "metadata": {
    "collapsed": true
   },
   "outputs": [],
   "source": [
    "def rate_eval(switchpoint = s, early_rate = e, late_rate = l):\n",
    "    value = zeros(N)\n",
    "    value[:switchpoint] = early_rate\n",
    "    value[switchpoint:] = late_rate\n",
    "    return value\n",
    "\n",
    "rate = pymc.Deterministic(eval = rate_eval,\n",
    "                  name = 'rate',\n",
    "                  parents = {'switchpoint': switchpoint,\n",
    "                          'early_mean': early_mean,\n",
    "                          'late_mean': late_mean}),\n",
    "                  doc = 'The rate of disaster occurrence.',\n",
    "                  trace = True,\n",
    "                  verbose = 0,\n",
    "                  dtype=float,\n",
    "                  plot=False,\n",
    "                  cache_depth = 2)"
   ]
  },
  {
   "cell_type": "markdown",
   "metadata": {},
   "source": [
    "## 4.4. Containers\n",
    "\n",
    "Here, y depends on every element of the Markov chain x, but we wouldn’t want to manually enter N parent labels `x_0', `x_1', etc.\n",
    "\n",
    "This situation can be handled naturally in PyMC:"
   ]
  },
  {
   "cell_type": "code",
   "execution_count": null,
   "metadata": {
    "collapsed": true
   },
   "outputs": [],
   "source": [
    "N = 10\n",
    "x_0 = pymc.Normal(`x_0', mu=0, tau=1)\n",
    "\n",
    "x = np.empty(N, dtype=object)\n",
    "x[0] = x_0\n",
    "\n",
    "for i in range(1, N):\n",
    "\n",
    "    x[i] = pymc.Normal(`x_%i' % i, mu=x[i-1], tau=1)\n",
    "\n",
    "@pymc.observed\n",
    "def y(value=1, mu=x, tau=100):\n",
    "    return pymc.normal_like(value, np.sum(mu**2), tau)"
   ]
  },
  {
   "cell_type": "markdown",
   "metadata": {},
   "source": [
    " PyMC 는 자동적으로 Container class로 array x를 처리합니다....(?) \n",
    " Containers는 회귀문의 일종으로 container 함수 내의 변수들을 iteration number 에 맞게 변수/오브젝트를 정의해주는 것으로, lists, tuples, dictionaries, Numpy arrays, modules, sets or any object with a __dict__ attribute에 해당하는 객체?들을 처리합니다. 변수 혹은 변수가 아닌 타입들도 자유롭게 섞일 수 있고 다른 타이의 컨테이너를 종속(nest?)할 수 있습니다.  Containers attempt to behave like the objects they wrap. All containers are subclasses of ContainerBase.\n",
    " \n",
    "\n",
    "## 4.5. The Potential class\n",
    "The joint density corresponding to model ((?)) can be written as follows:\n",
    "\n",
    "p(D,s,l,e)=p(D|s,l,e)p(s)p(l)p(e).\n",
    "\n",
    "예를 들면 p(D|s,l,e), p(s), p(l) 또는 p(e) 의 경우는 Stochastic object라고 볼 수 있을 것이다. \n",
    "하지만 예를 들어 다음과 같이 joint density를 바꾸고 싶은 경우에, \n",
    "\n",
    "p(D,s,l,e)∝p(D|s,l,e)p(s)p(l)p(e)I(|e−l|<1)\n"
   ]
  },
  {
   "cell_type": "markdown",
   "metadata": {},
   "source": [
    " class Potential에서 수정이 가능하다.  Markov random field 와 같은 hierarchy에 대한 정의도 가능. \n",
    "\n",
    "\n",
    "4.5.1. An example of soft data; 왜 포텐셜이 필요할까? \n",
    "\n",
    "p(t|S(x,β))p(β)\n",
    "\n",
    "to\n",
    "\n",
    "γ(S)p(t|S(x,β))p(β),\n",
    "\n",
    "임의값인 γ(S) 보다는 priors on S and β 에 대한 fitting the model을 이용해 data t를 지울 수 있습니다.\n",
    "\n",
    "Its important to understand that γ is not a variable, so it does not have a value. That means, among other things, there will be no γ column in MCMC traces....?\n",
    "\n",
    "\n",
    "\n",
    "### 4.5.2. Creation of Potentials\n",
    "There are two ways to create potentials:\n",
    "\n",
    "Decorator\n",
    "A potential can be created via a decorator in a way very similar to Deterministic‘s decorator interface:"
   ]
  },
  {
   "cell_type": "code",
   "execution_count": null,
   "metadata": {
    "collapsed": true
   },
   "outputs": [],
   "source": [
    "@pymc.potential\n",
    "def psi_i(x_lo = x[i], x_hi = x[i+1]):\n",
    "    \"\"\"A pair potential\"\"\"\n",
    "    return -(xlo - xhi)**2\n"
   ]
  },
  {
   "cell_type": "code",
   "execution_count": null,
   "metadata": {
    "collapsed": true
   },
   "outputs": [],
   "source": [
    "def psi_i_logp(x_lo = x[i], x_hi = x[i+1]):\n",
    "    return -(xlo - xhi)**2\n",
    "\n",
    "psi_i = pymc.Potential(logp = psi_i_logp,\n",
    "                    name = 'psi_i',\n",
    "                    parents = {'xlo': x[i], 'xhi': x[i+1]},\n",
    "                    doc = 'A pair potential',\n",
    "                    verbose = 0,\n",
    "                    cache_depth = 2)"
   ]
  }
 ],
 "metadata": {
  "kernelspec": {
   "display_name": "Python 2",
   "language": "python",
   "name": "python2"
  },
  "language_info": {
   "codemirror_mode": {
    "name": "ipython",
    "version": 2
   },
   "file_extension": ".py",
   "mimetype": "text/x-python",
   "name": "python",
   "nbconvert_exporter": "python",
   "pygments_lexer": "ipython2",
   "version": "2.7.10"
  }
 },
 "nbformat": 4,
 "nbformat_minor": 0
}
